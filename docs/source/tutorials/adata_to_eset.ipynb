{
 "cells": [
  {
   "cell_type": "code",
   "execution_count": null,
   "metadata": {},
   "outputs": [],
   "source": [
    "import pandas as pd\n",
    "import numpy as np\n",
    "import scanpy as sc\n",
    "import anndata\n",
    "import os\n",
    "import pkg_resources"
   ]
  },
  {
   "cell_type": "code",
   "execution_count": null,
   "metadata": {},
   "outputs": [],
   "source": [
    "# File paths for Segerstolpe dataset\n",
    "path_adata = 'segerstolpe.h5ad'\n",
    "uri_adata = \"https://zenodo.org/record/3928276/files/standard_workflow_besca2_0_annotated.h5ad?download=1\"\n",
    "path_annot = './segerstolpe_annot.csv' # output filename of exported annotations (see next cells)\n",
    "annot_col = 'dblabel' # adata column containing annotations"
   ]
  },
  {
   "cell_type": "code",
   "execution_count": null,
   "metadata": {},
   "outputs": [],
   "source": [
    "# Read anndata objects\n",
    "# Downloads the datasets from the provided URI\n",
    "adata = sc.read(path_adata, backup_url=uri_adata)"
   ]
  },
  {
   "cell_type": "code",
   "execution_count": null,
   "metadata": {},
   "outputs": [],
   "source": [
    "# Conversion to R changes cell annotations to factors \n",
    "# -> export cell type annotations to be later rewritten into the R obj\n",
    "# here we are selecting ['dblabel'] as the annotation column. Modify this for the desired annotation column\n",
    "annot = adata.obs[annot_col]\n",
    "annot.to_csv(path_annot, index=False, header=False)\n"
   ]
  },
  {
   "cell_type": "code",
   "execution_count": null,
   "metadata": {},
   "outputs": [],
   "source": [
    "# For SCDC and MuSiC we want expressions stored in AnnData.raw us they contain all sequenced genes, \n",
    "# not just highly variable genes filtered further downstream of the BESCA workflow\n",
    "obs = adata.obs\n",
    "var = adata.raw.var\n",
    "uns = adata.uns\n",
    "raw = adata.raw\n",
    "# raw.X contains CP10k log scaled data. Thus, we need to linearize using raw.X.expm1()\n",
    "adata_raw = anndata.AnnData(raw.X.expm1(), obs=obs, var=var, uns=uns, raw=raw)"
   ]
  },
  {
   "cell_type": "markdown",
   "metadata": {},
   "source": [
    "### Fix segerstolpe index - needs to contain patient id <a id='bisque_id'></a>\n",
    "\n",
    "This is required by the BisqueRNA::SeuratToExpressionSet() R package: https://rdrr.io/cran/BisqueRNA/man/SeuratToExpressionSet.html \\\n",
    "The sample index has to contain subscriptable individual patient IDs\n",
    "\n",
    "Example correct patient ID: **ERR1630619_T2D1**, where ERR1630619 is the cell UMI and T2D1 is the unique patient ID we want. \n",
    "\n",
    "We will then specify this in the R script that calls the `BisqueRNA::SeuratToExpressionSet()` method \\\n",
    "`BisqueRNA::SeuratToExpressionSet(seurat.object, delimiter='_', position='2', version = \"v3\")`\n",
    "\n",
    "`delimiter` = Character to split cell names with to find individual ID. \\\n",
    "`position` = Integer indicating 1-indexed position of individual ID after splitting cell name with delimiter. R indexing starts from 1\n"
   ]
  },
  {
   "cell_type": "code",
   "execution_count": null,
   "metadata": {
    "scrolled": true
   },
   "outputs": [],
   "source": [
    "idx = adata_raw.obs.index\n",
    "idx_new = []\n",
    "for i, val in enumerate(idx):\n",
    "    out = val + '_' +adata_raw.obs['Sample Characteristic[individual]'][i]\n",
    "    idx_new.append(out)\n",
    "    \n",
    "adata_raw.obs.index = idx_new\n",
    "adata_raw.obs.head()"
   ]
  },
  {
   "cell_type": "markdown",
   "metadata": {},
   "source": [
    "### Convert to SingleCellExperiment R Object\n",
    "\n",
    "saves anndata as SCE object. Postprocess in R\n",
    "\n",
    "based on tutorial here: https://github.com/LuckyMD/Code_snippets/blob/master/Seurat_to_anndata.ipynb"
   ]
  },
  {
   "cell_type": "code",
   "execution_count": null,
   "metadata": {},
   "outputs": [],
   "source": [
    "import anndata2ri\n",
    "anndata2ri.activate()"
   ]
  },
  {
   "cell_type": "code",
   "execution_count": null,
   "metadata": {},
   "outputs": [],
   "source": [
    "%load_ext rpy2.ipython"
   ]
  },
  {
   "cell_type": "code",
   "execution_count": null,
   "metadata": {},
   "outputs": [],
   "source": [
    "%%R -i adata_raw\n",
    "saveRDS(adata_raw, './adata_raw_to_sce.RDS')"
   ]
  },
  {
   "cell_type": "markdown",
   "metadata": {},
   "source": [
    "# Next: postprocess in R to convert SCE --> Eset\n",
    "Use the `sce_to_eset.R` script generated in the next cell.\n",
    "1. Edit the last two lines of the script for the correct input/output file paths:\\\n",
    "`seurat <- sce_to_seurat(sce_path='./segerstolpe_raw_sce.RDS', sc_anno_path='./segerstolpe_annot.csv', filename=NULL)`\\\n",
    "`sce_path` = path to SCE file generated above\\\n",
    "`sc_anno_path` = path to the .csv file containing cell annotations generated in the section above\n",
    "\\\n",
    "\\\n",
    "`eset <- seurat_to_eset(seurat, delim='_', idx=2, filename='./segerstolpe_raw_eset.RDS')`\\\n",
    "`delim` = Character to split cell names with to find individual ID. \\\n",
    "`idx` = Integer indicating 1-indexed position of individual ID after splitting cell name with delimiter. R indexing starts from 1\n",
    "2. Set the correct patient ID indexing as explained in the [section above](#bisque_id)\n",
    "3. Run from cmd line: `env R_MAX_VSIZE=100Gb Rscript sce_to_eset.R`"
   ]
  },
  {
   "cell_type": "code",
   "execution_count": null,
   "metadata": {},
   "outputs": [],
   "source": [
    "r_code = \"\"\"library(Seurat)\n",
    "library(BisqueRNA)\n",
    "\n",
    "sce_to_seurat <- function(sce_path, sc_anno_path, filename='eset.RDS'){\n",
    "    sce <- readRDS(sce_path)\n",
    "    sc_anno <- read.csv(sc_anno_path, header=FALSE)\n",
    "\n",
    "    seurat <- as.Seurat(sce, counts=NULL, data='X')\n",
    "\n",
    "# TODO add celltype_dream as param\n",
    "    seurat@meta.data$celltype_dream <- sc_anno$V1\n",
    "    Idents(seurat)<-\"celltype_dream\"\n",
    "    seurat@assays$RNA@counts<-seurat@assays$RNA@data\n",
    "    if(!is.null(filename)){\n",
    "        saveRDS(seurat, file=filename)\n",
    "    }\n",
    "    return(seurat)\n",
    "\n",
    "}\n",
    "\n",
    "seurat_to_eset <- function(seurat, delim='-', idx=2, filename='seurat.RDS'){\n",
    "    # Idents(liver_h5ad) %>% head() # to check sample names\n",
    "    out.eset <- BisqueRNA::SeuratToExpressionSet(seurat, delim, idx, version = 'v3')\n",
    "    # fix GeneID\n",
    "    out.eset@featureData@data$GeneID <- featureNames(out.eset)\n",
    "    #assign cluster to just characters\n",
    "    out.eset@phenoData@data$cluster<-as.character(out.eset@phenoData@data$cellType)\n",
    "    #update vardata\n",
    "    varMetadata(out.eset)<-data.frame(labelDescription=colnames(out.eset@phenoData@data),stringsAsFactors=FALSE)\n",
    "\n",
    "    out.eset@featureData@varMetadata<-data.frame(labelDescription=\"GeneID\",stringsAsFactors=FALSE)\n",
    "\n",
    "    rownames(out.eset@featureData@varMetadata)<-\"GeneID\"\n",
    "\n",
    "    saveRDS(out.eset, file=filename)\n",
    "    return(out.eset)\n",
    "}\n",
    "\n",
    "\n",
    "seurat <- sce_to_seurat(sce_path='./segerstolp_raw_exp_sce.RDS', sc_anno_path='./segerstolpe_annot.csv', filename=NULL)\n",
    "eset <- seurat_to_eset(seurat, delim='_', idx=1, filename='./segerstolpe_raw_exp_eset.RDS')\n",
    "\"\"\"\n",
    "\n",
    "if not os.path.isfile('sce_to_eset.R'):\n",
    "    with open('sce_to_eset.R','w') as f:\n",
    "        f.write(r_code)"
   ]
  }
 ],
 "metadata": {
  "kernelspec": {
   "display_name": "Python 3",
   "language": "python",
   "name": "python3"
  },
  "language_info": {
   "codemirror_mode": {
    "name": "ipython",
    "version": 3
   },
   "file_extension": ".py",
   "mimetype": "text/x-python",
   "name": "python",
   "nbconvert_exporter": "python",
   "pygments_lexer": "ipython3",
   "version": "3.7.1"
  }
 },
 "nbformat": 4,
 "nbformat_minor": 4
}
