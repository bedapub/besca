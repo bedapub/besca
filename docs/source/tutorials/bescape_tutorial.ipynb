{
 "cells": [
  {
   "cell_type": "markdown",
   "metadata": {},
   "source": [
    "# BESCAPE - tutorial on deconvolution of bulk RNA using single-cell annotations\n",
    "\n",
    "BESCAPE (BESCA Proportion Estimator) is a deconvolution module. It utilises single-cell annotations coming from the BESCA workflow to build a Gene Expression Profile (GEP). This GEP is used as a basis vector to deconvolute bulk RNA samples i.e. predict cell type proportions within a sample.\n",
    "\n",
    "BESCAPE has a useful implementation, whereby the user can specify their own GEP, as well as choose any of the supported deconvolution methods. Thus, it effectively allows decoupling of the deconvolution algorithm from its underlying GEP (basis vector).\n",
    "\n",
    "This tutorial presents the workflow for deconvolution, as well as the link to BESCA single-cell annotations.\n",
    "\n",
    "We assume that either Docker or Singularity services have already been installed.\n",
    "\n",
    "Install bescape using `pip install bescape`."
   ]
  },
  {
   "cell_type": "markdown",
   "metadata": {},
   "source": [
    "# Initialising the predictor object\n",
    "\n",
    "Initiate the decovnolution predictor object. Requires either a Docker, or a Singularity image to run. Both methods are shown below.\n",
    "\n",
    "## 1. Docker\n",
    "To initiate the Bescape deconvolution object, we to set the service to 'docker' and docker_image='bedapub/bescape:version'. It will first look for local docker images, and if not available, will pull the bescape image from DockerHub. This also means that one can locally build a customised Docker image from the BESCAPE source and set use it in the Bescape object.\n"
   ]
  },
  {
   "cell_type": "code",
   "execution_count": null,
   "metadata": {},
   "outputs": [],
   "source": [
    "import os\n",
    "from bescape import Bescape\n",
    "\n",
    "# docker\n",
    "# may take some time if the docker image is being built for the first time\n",
    "deconv = Bescape(service='docker', docker_image='bedapub/bescape:latest')"
   ]
  },
  {
   "cell_type": "markdown",
   "metadata": {},
   "source": [
    "#### Troubleshooting Docker permission error\n",
    "If running a permission error to run the docker image, please follow the steps in https://askubuntu.com/questions/477551/how-can-i-use-docker-without-sudo to run docker without sudo\n",
    "\n",
    "Namely,\n",
    "Add the docker group if it doesn't already exist:\n",
    "\n",
    "`sudo groupadd docker`\n",
    "\n",
    "Add the connected user \"$USER\" to the docker group. Change the user name to match your preferred user if you do not want to use your current user:\n",
    "\n",
    "`sudo gpasswd -a $USER docker`\n",
    "    \n",
    "Either do a newgrp docker or log out/in to activate the changes to groups.\n"
   ]
  },
  {
   "cell_type": "markdown",
   "metadata": {},
   "source": [
    "## 2. Singularity\n",
    "When using Singularity, the user specifies the absolute path for the Singularity container file. \n",
    "\n",
    "If the path is not given, Bescape will attempt to pull the lastest docker image from Dockerhub and build a new copy of a Singularity container file. In this case, the `docker_image` parameter specifies which image is pulled from the DockerHub to be converted to a Singularity container."
   ]
  },
  {
   "cell_type": "code",
   "execution_count": null,
   "metadata": {},
   "outputs": [],
   "source": [
    "import os\n",
    "from bescape import Bescape\n",
    "\n",
    "# singularity\n",
    "deconv = Bescape(service='singularity', docker_image='bedapub/bescape:0.5', path_singularity=None)"
   ]
  },
  {
   "cell_type": "markdown",
   "metadata": {},
   "source": [
    "# Performing Deconvolution\n",
    "Once the Bescape object has been initialised, the methods are the same for both `docker` and `singularity`.\n",
    "\n",
    "## Input file structure\n",
    "The correct example file input structure is shown here: https://github.com/bedapub/bescape/tree/master/docs/datasets/bescape\n",
    "\n",
    "The user needs to provide:\n",
    "1. Absolute path to the input FOLDER containing the [input.csv](https://github.com/bedapub/bescape/blob/master/docs/datasets/bescape/input/input.csv) file and the [bulk.csv](https://github.com/bedapub/bescape/blob/master/docs/datasets/bescape/input/ds1_ensg.csv) file (rows= bulk gene expression, columns=samples)\n",
    "2. Absolute path to the gep FOLDER containing the GEP file to be used as a basis vector for deconvolution\n",
    "\n",
    "\n"
   ]
  },
  {
   "cell_type": "markdown",
   "metadata": {},
   "source": [
    "## Using a single-cell annotation AnnData object as a basis vector\n",
    "- should contain single-cell annotations of multiple samples from which the deconvolution method generates its own GEP\n",
    "- currently supported packages:\n",
    "    1. MuSiC\n",
    "    2. SCDC\n",
    "- __The packages above are written in R. Thus, we need to convert the AnnData objects to R ExpressionSet objects. This has been semi-automated in the following notebook: [Converting AnnData to Eset](https://bedapub.github.io/besca/tutorials/adata_to_eset.html)__\n",
    "- implemented in the __Bescape.deconvolute_sc( )__ method"
   ]
  },
  {
   "cell_type": "markdown",
   "metadata": {},
   "source": [
    "### 1. Set input file structure and download example files\n",
    "The correct example file input structure is shown here: https://github.com/bedapub/bescape/tree/master/docs/datasets/bescape\n",
    "\n",
    "The user needs to provide:\n",
    "1. Absolute path to the input FOLDER containing the [input.csv](https://github.com/bedapub/bescape/blob/master/docs/tutorial_data/input/input.csv) file and the [bulk.csv](https://github.com/bedapub/bescape/blob/master/docs/tutorial_data/input/simulated_blk_segerstolpe_hugo.csv) file (rows= bulk gene expression, columns=samples)\n",
    "2. Absolute path to the gep FOLDER containing the GEP file to be used as a basis vector for deconvolution\n",
    "3. Absolute path to the output FOLDER, into which the deconvolution results should be written out\n",
    "\n",
    "The following cell handles folder creation and example file download for this tutorial"
   ]
  },
  {
   "cell_type": "code",
   "execution_count": null,
   "metadata": {},
   "outputs": [],
   "source": [
    "import urllib.request\n",
    "\n",
    "# Important to specify ABSOLUTE directory paths\n",
    "wd = os.getcwd()\n",
    "dir_annot = wd + '/tutorial_data/gep'\n",
    "dir_input = wd + '/tutorial_data/input'\n",
    "dir_output = wd + '/tutorial_data/output'\n",
    "dirlist = [dir_annot, dir_input, dir_output]\n",
    "for directory in dirlist:\n",
    "    if not os.path.exists(directory):\n",
    "        os.makedirs(directory)\n",
    "    \n",
    "\n",
    "uri_input = 'https://raw.githubusercontent.com/bedapub/bescape/master/docs/tutorial_data/input/input.csv'\n",
    "urllib.request.urlretrieve(uri_input, dir_input + '/input.csv')\n",
    "\n",
    "uri_sample = 'https://raw.githubusercontent.com/bedapub/bescape/master/docs/tutorial_data/input/simulated_blk_segerstolpe_hugo.csv'\n",
    "urllib.request.urlretrieve(uri_sample, dir_input + '/simulated_blk_segerstolpe_hugo.csv')\n",
    "\n",
    "uri_baron = 'https://raw.githubusercontent.com/bedapub/bescape/master/docs/tutorial_data/gep/baron_raw_exp_eset.RDS'\n",
    "uri_seger = 'https://raw.githubusercontent.com/bedapub/bescape/master/docs/tutorial_data/gep/segerstolpe_raw_exp_eset.RDS'\n",
    "urllib.request.urlretrieve(uri_baron, dir_annot + '/baron_raw_exp_eset.RDS')\n",
    "urllib.request.urlretrieve(uri_seger, dir_annot + '/segerstolpe_raw_exp_eset.RDS')\n"
   ]
  },
  {
   "cell_type": "markdown",
   "metadata": {},
   "source": [
    "### 1. MuSiC\n",
    "`dir_annot` should contain only one annotated ExpressionSet. If more are available, the first one in alphabetical order is picked"
   ]
  },
  {
   "cell_type": "code",
   "execution_count": null,
   "metadata": {
    "scrolled": true
   },
   "outputs": [],
   "source": [
    "# deconvolute using MuSiC - sc based basis vector\n",
    "deconv.deconvolute_sc(dir_annot= dir_annot, \n",
    "                      dir_input= dir_input,\n",
    "                      dir_output= dir_output, \n",
    "                      method='music')"
   ]
  },
  {
   "cell_type": "markdown",
   "metadata": {},
   "source": [
    "### 2. SCDC\n",
    "\n",
    "Using SCDC requires the following parameters:\n",
    "* `dir_annot` can contain one or more sc-annotation ExpressionSets. If more that one is available, SCDC reads all of them and performs [ENSEMBLE deconvolution](https://rdrr.io/github/meichendong/SCDC/man/SCDC_ENSEMBLE.html)\n",
    "* `celltypesel` - cell types of interest to estimate; has to be an intersecting set of celltypes contained in the supplied basis vectors in `dir_annot`\n"
   ]
  },
  {
   "cell_type": "code",
   "execution_count": null,
   "metadata": {
    "scrolled": false
   },
   "outputs": [],
   "source": [
    "wd = os.getcwd()\n",
    "dir_annot = wd + '/tutorial_data/gep'\n",
    "dir_input = wd + '/tutorial_data/input'\n",
    "dir_output = wd + '/tutorial_data/output'\n",
    "\n",
    "deconv.deconvolute_sc(dir_annot=dir_annot, \n",
    "                      dir_input=dir_input,\n",
    "                      dir_output=dir_output, \n",
    "                      method='scdc', \n",
    "                      celltype_sel=['fibroblast', 'PP cell', 'pancreatic D cell', \n",
    "                                    'pancreatic A cell', 'pancreatic ductal cell', \n",
    "                                    'type B pancreatic cell', 'pancreatic acinar cell', \n",
    "                                    'blood vessel endothelial cell'])"
   ]
  },
  {
   "cell_type": "code",
   "execution_count": null,
   "metadata": {},
   "outputs": [],
   "source": []
  }
 ],
 "metadata": {
  "kernelspec": {
   "display_name": "Python 3",
   "language": "python",
   "name": "python3"
  },
  "language_info": {
   "codemirror_mode": {
    "name": "ipython",
    "version": 3
   },
   "file_extension": ".py",
   "mimetype": "text/x-python",
   "name": "python",
   "nbconvert_exporter": "python",
   "pygments_lexer": "ipython3",
   "version": "3.7.7"
  }
 },
 "nbformat": 4,
 "nbformat_minor": 4
}
