{
 "cells": [
  {
   "cell_type": "markdown",
   "metadata": {},
   "source": [
    "# BESCAPE - tutorial on deconvolution of bulk RNA using single-cell annotations\n",
    "\n",
    "BESCAPE (BESCA Proportion Estimator) is a deconvolution module. It utilises single-cell annotations coming from the BESCA workflow to build a Gene Expression Profile (GEP). This GEP is used as a basis vector to deconvolute bulk RNA samples i.e. predict cell type proportions within a sample.\n",
    "\n",
    "BESCAPE has a useful implementation, whereby the user can specify their own GEP, as well as choose any of the supported deconvolution methods. Thus, it effectively allows decoupling of the deconvolution algorithm from its underlying GEP (basis vector).\n",
    "\n",
    "This tutorial presents the workflow for deconvolution, as well as the link to BESCA single-cell annotations.\n",
    "\n",
    "We assume that either Docker or Singularity services have already been installed."
   ]
  },
  {
   "cell_type": "markdown",
   "metadata": {},
   "source": [
    "# Initialising the predictor object\n",
    "\n",
    "Initiate the decovnolution predictor object. Requires either a Docker, or a Singularity image to run. Both methods are shown below.\n",
    "\n",
    "## 1. Docker\n",
    "To initiate the Bescape deconvolution object, we to set the service to 'docker' and docker_image='bedapub/bescape:version'. It will first look for local docker images, and if not available, will pull the bescape image from DockerHub. This also means that one can locally build a customised Docker image from the BESCAPE source and set use it in the Bescape object.\n"
   ]
  },
  {
   "cell_type": "code",
   "execution_count": null,
   "metadata": {},
   "outputs": [],
   "source": [
    "import os\n",
    "from bescape import Bescape\n",
    "\n",
    "# docker\n",
    "# may take some time if the docker image is being built for the first time\n",
    "deconv = Bescape(service='docker', docker_image='bedapub/bescape:0.5')"
   ]
  },
  {
   "cell_type": "markdown",
   "metadata": {},
   "source": [
    "#### Troubleshooting Docker permission error\n",
    "If running a permission error to run the docker image, please follow the steps in https://askubuntu.com/questions/477551/how-can-i-use-docker-without-sudo to run docker without sudo\n",
    "\n",
    "Namely,\n",
    "Add the docker group if it doesn't already exist:\n",
    "\n",
    "`sudo groupadd docker`\n",
    "\n",
    "Add the connected user \"$USER\" to the docker group. Change the user name to match your preferred user if you do not want to use your current user:\n",
    "\n",
    "`sudo gpasswd -a $USER docker`\n",
    "    \n",
    "Either do a newgrp docker or log out/in to activate the changes to groups.\n"
   ]
  },
  {
   "cell_type": "markdown",
   "metadata": {},
   "source": [
    "## 2. Singularity\n",
    "When using Singularity, the user specifies the absolute path for the Singularity container file. \n",
    "\n",
    "If the path is not given, Bescape will attempt to pull the lastest docker image from Dockerhub and build a new copy of a Singularity container file. In this case, the `docker_image` parameter specifies which image is pulled from the DockerHub to be converted to a Singularity container."
   ]
  },
  {
   "cell_type": "code",
   "execution_count": null,
   "metadata": {},
   "outputs": [],
   "source": [
    "import os\n",
    "from bescape import Bescape\n",
    "\n",
    "# singularity\n",
    "deconv = Bescape(service='singularity', docker_image='bedapub/bescape:0.5', path_singularity=None)"
   ]
  },
  {
   "cell_type": "markdown",
   "metadata": {},
   "source": [
    "# Performing Deconvolution\n",
    "Once the Bescape object has been initialised, the methods are the same for both `docker` and `singularity`. The module distinguishes between two types of basis vectors as input:  \n",
    "(Please note that when single file is expected either in the scRNASeq or bulkRNASeq, it will just grab the first alphabetical file in the respective folder)\n",
    "\n",
    "## Input file structure\n",
    "The correct example file input structure is shown here: https://github.com/bedapub/bescape/tree/master/docs/datasets/bescape\n",
    "\n",
    "The user needs to provide:\n",
    "1. Absolute path to the input FOLDER containing the [input.csv](https://github.com/bedapub/bescape/blob/master/docs/datasets/bescape/input/input.csv) file and the [bulk.csv](https://github.com/bedapub/bescape/blob/master/docs/datasets/bescape/input/ds1_ensg.csv) file (rows= bulk gene expression, columns=samples)\n",
    "2. Absolute path to the gep FOLDER containing the GEP file to be used as a basis vector for deconvolution\n",
    "\n",
    "\n",
    "## 1. Gene Expression Profile (GEP) \n",
    "- generated from single-cell annotations using [BESCA.export.generate_gep](https://bedapub.github.io/besca/export/besca.export.generate_gep.html) function\n",
    "- currently supported packages: \n",
    "    1. bescape - in-house method based on nu-SVR (CIBERSORT)\n",
    "- implemented in the __Bescape.deconvolute_gep( )__ method\n",
    "\n",
    "### 1.1. method = Bescape"
   ]
  },
  {
   "cell_type": "code",
   "execution_count": null,
   "metadata": {},
   "outputs": [],
   "source": [
    "# Important to specify ABSOLUTE directory paths\n",
    "wd = os.getcwd()\n",
    "annot = wd + '/datasets/bescape/gep'\n",
    "inpt = wd + '/datasets/bescape/input'\n",
    "output = wd + '/datasets/bescape/output'\n",
    "\n",
    "print(output)\n",
    "# deconvolute using MuSiC - sc based basis vector\n",
    "deconv.deconvolute_gep(dir_annot= annot, \n",
    "                      dir_input= inpt,\n",
    "                      dir_output= output, \n",
    "                      method='bescape')"
   ]
  },
  {
   "cell_type": "markdown",
   "metadata": {},
   "source": [
    "### 1.2. method = EPIC\n",
    "\n",
    "As bulk input EPIC takes in ExpressionSet with the `@assayData` slot filled with gene expression count from each bulk sample. The counts should be given in TPM, RPKM or FPKM when using the prebuilt reference profiles.\n",
    "\n",
    "If we leave `dir_annot='epic'`, EPIC will provide a prebuilt reference profile that can predict: __B cells, CAFs, CD4+ T cells, CD8+ T cells, NK, cells, and Macrophages__."
   ]
  },
  {
   "cell_type": "code",
   "execution_count": null,
   "metadata": {},
   "outputs": [],
   "source": [
    "# Important to specify ABSOLUTE directory paths\n",
    "wd = os.getcwd()\n",
    "annot = wd + '/datasets/epic/gep'\n",
    "inpt = wd + '/datasets/epic/input'\n",
    "output = wd + '/datasets/epic/output'\n",
    "\n",
    "# deconvolute using MuSiC - sc based basis vector\n",
    "deconv.deconvolute_gep(dir_annot= 'epic', \n",
    "                      dir_input= inpt,\n",
    "                      dir_output= output, \n",
    "                      method='epic')"
   ]
  },
  {
   "cell_type": "markdown",
   "metadata": {},
   "source": [
    "## 2. Single-cell annotation AnnData object \n",
    "- should contain single-cell annotations of multiple samples from which the deconvolution method generates its own GEP\n",
    "- currently supported packages:\n",
    "    1. MuSiC\n",
    "    2. SCDC\n",
    "- __The packages above are written in R. Thus, we need to convert the AnnData objects to R ExpressionSet objects. This has been semi-automated in the following notebook: [Converting AnnData to Eset](https://bedapub.github.io/besca/tutorials/adata_to_eset.html)__\n",
    "- implemented in the __Bescape.deconvolute_sc( )__ method\n",
    "\n",
    "### 2.1. MuSiC"
   ]
  },
  {
   "cell_type": "code",
   "execution_count": null,
   "metadata": {
    "scrolled": true
   },
   "outputs": [],
   "source": [
    "# Important to specify ABSOLUTE directory paths\n",
    "wd = os.getcwd()\n",
    "annot = wd + '/datasets/music/gep'\n",
    "inpt = wd + '/datasets/music/input'\n",
    "output = wd + '/datasets/music/output'\n",
    "\n",
    "# deconvolute using MuSiC - sc based basis vector\n",
    "deconv.deconvolute_sc(dir_annot= annot, \n",
    "                      dir_input= inpt,\n",
    "                      dir_output= output, \n",
    "                      method='music')"
   ]
  },
  {
   "cell_type": "markdown",
   "metadata": {},
   "source": [
    "### 2.2. SCDC\n",
    "\n",
    "Using SCDC requires additional parameters:\n",
    "* `celltype_var` - variable name containing the cell type annot in @phenoData of the eset\n",
    "* `celltypesel` - cell types of interest to estimate\n",
    "* `samplevar` - variable name in @phenoData identifying the sample name"
   ]
  },
  {
   "cell_type": "code",
   "execution_count": null,
   "metadata": {},
   "outputs": [],
   "source": [
    "wd = os.getcwd()\n",
    "dir_annot = wd + '/datasets/scdc/gep/'\n",
    "dir_input = wd + '/datasets/scdc/input'\n",
    "dir_output = wd + '/datasets/scdc/output'\n",
    "\n",
    "deconv.deconvolute_sc(dir_annot=dir_annot, \n",
    "                      dir_input=dir_input,\n",
    "                      dir_output=dir_output, \n",
    "                      method='scdc', \n",
    "                      celltype_var='cluster', \n",
    "                      celltype_sel=[\"alpha\",\"beta\",\"delta\",\"gamma\",\"acinar\",\"ductal\"], \n",
    "                      sample_var='sample')"
   ]
  },
  {
   "cell_type": "code",
   "execution_count": null,
   "metadata": {},
   "outputs": [],
   "source": []
  }
 ],
 "metadata": {
  "kernelspec": {
   "display_name": "Python 3",
   "language": "python",
   "name": "python3"
  },
  "language_info": {
   "codemirror_mode": {
    "name": "ipython",
    "version": 3
   },
   "file_extension": ".py",
   "mimetype": "text/x-python",
   "name": "python",
   "nbconvert_exporter": "python",
   "pygments_lexer": "ipython3",
   "version": "3.7.1"
  }
 },
 "nbformat": 4,
 "nbformat_minor": 4
}
