{
  "cells": [
    {
      "cell_type": "code",
      "execution_count": null,
      "metadata": {
        "collapsed": false
      },
      "outputs": [],
      "source": [
        "%matplotlib inline"
      ]
    },
    {
      "cell_type": "markdown",
      "metadata": {},
      "source": [
        "\n# Annotate celltypes\n\nAn example workflow using the PBMC3k dataset included with besca illustrating how to annotate celltypes based on leiden clusters.\nThis workflow begins with a preprocessed and filtered dataset. \nPlease refer to other tutorials on how to perform these steps.\n\nThis shows how to dipslay diffrent markers genes, assign the clusters and if need be to recluster on mixed cluster.\nFor PBMC dataset we advised the user to work using the sig-annot or auto-annot procedures which is automated, less error-prone, and\nallow for standardized annotations across datasets.\n\nThis is well illustrated in the tutorials (see Notebook 2 )\n"
      ]
    },
    {
      "cell_type": "code",
      "execution_count": null,
      "metadata": {
        "collapsed": false
      },
      "outputs": [],
      "source": [
        "#load libraries\nimport besca as bc \nimport scanpy as sc\nimport random \n\nrandom.seed(1)\n#load preprocessed dataset (included in BESCA for demonstration purposes)\nadata = bc.datasets.pbmc3k_filtered()\n\n#need to drop celltype annotation stored in this dataset (only relevant for this tutorial)\nadata.obs.drop(columns = ['leiden'], inplace = True)\n\nsc.tl.leiden(adata)\n#visualize the louvain clusters\nsc.pl.umap(adata, color=['leiden'])"
      ]
    },
    {
      "cell_type": "markdown",
      "metadata": {},
      "source": [
        "## visualization of marker genes\n\nDepending on the type of data you are analysing you will need to look at\ndifferent marker genes that are specific to the celltypes you would expect \nto find in your dataset. In this case we are looking at PBMC cells and will\ntry to identify the main Immunecell subtypes: T-cells, B-cells, Monocytes, and\nDendritic cells.\n\n"
      ]
    },
    {
      "cell_type": "code",
      "execution_count": null,
      "metadata": {
        "collapsed": false
      },
      "outputs": [],
      "source": [
        "#identification of T-cells\nsc.pl.umap(adata, color = ['CD3E', 'CD3G', 'CD3D'])\n\n#identification of NK cells\nsc.pl.umap(adata, color = ['NCAM1', 'NKG7', 'GNLY'])\n\n#identification of B-cells\nsc.pl.umap(adata, color = ['MS4A1', 'CD19', 'CD79A'])\n\n#identification of myeloid cells/dendritic cells\nsc.pl.umap(adata, color = ['CST3', 'S100A8', 'S100A9'])\n\n#identification of dendritic cells(FCERIA) and monocytes\nsc.pl.umap(adata, color = ['FCER1A','CD14', 'FCGR3A'])"
      ]
    },
    {
      "cell_type": "markdown",
      "metadata": {},
      "source": [
        "## cluster level celltype annotation\n\nDepending on how fine-grained your clustering is you will often come into the\nthe situation that a louvain cluster contains several cell-populations that\nare clearly segregated based on the marker gene expression. If this happens you\ncan try and adjust the louvain resolution parameter to make the clustering more\nfine-grained, but this will not always be successfull. Especially in cases where\nyour sample contains vastly different celltypes (e.g. an Immuncell dataset \ncontaining B-cells and T-cells) it will be difficult to resolve T-cell subsets\nsince they are much more comparable to each other than e.g. a T-cell vs a B-cell.\nIn this case it often makes sense to make a highlevel cell-labeling and then perform\na second clustering on onoly the mixed cellclusters. This is the procedure that will\nbe demonstrated in the rest of this tutorial.\n\n"
      ]
    },
    {
      "cell_type": "code",
      "execution_count": null,
      "metadata": {
        "collapsed": false
      },
      "outputs": [],
      "source": [
        "#define high-level celltype annotation\nnew_labels = [\"Tcells\", #0\n               \"CD14+ monocyte\", #1\n              \"mixed\", #2\n              \"Bcells\", #3\n              \"Tcells\", #4\n              \"FCGR3A+ monocyte\", #5\n              \"pDC\", #6\n              \"Tcells\"] #7\n\nbc.tl.annotate_cells_clustering(adata, new_labels)\n\n#visualize annotation\nsc.pl.umap(adata, color = ['celltype'])\n\n#preserve highlevel labels for future use if desired\nadata.obs['high_level celltype'] = adata.obs.celltype.tolist()"
      ]
    },
    {
      "cell_type": "markdown",
      "metadata": {},
      "source": [
        "## reclustering on mixed cell clusters\n\n"
      ]
    },
    {
      "cell_type": "code",
      "execution_count": null,
      "metadata": {
        "collapsed": false
      },
      "outputs": [],
      "source": [
        "#perform reclustering on subset using besca function\nadata_subset = bc.tl.rc.recluster(adata, celltype =  ('mixed',\"Tcells\" ), celltype_label= \"celltype\",  resolution = 1.3)\n\n#visualize important marker genes in reclustering\nsc.pl.umap(adata_subset, color = ['leiden', 'CD3G', 'CD8A', 'CD4', 'IL7R', 'NKG7', 'GNLY'], ncols = 3)\n\n#annotate celltypes based on the new leiden clusters\nnew_labels = [\"NK cell\",#0\n              \"CD4 T-cell\", #1\n              \"CD4 T-cell\", #2\n              \"CD4 T-cell\", #3\n              \"CD4 T-cell\", #4\n              \"CD8 T-cell\", #5\n              \"CD4 T-cell\",#6\n              \"CD8 T-cell\",#7\n              \"CD4 T-cell\",#8\n              \"CD4 T-cell\",#9\n              \"CD4 T-cell\",#10\n              \"CD4 T-cell\",#11\n              \"CD4 T-cell\",#12              \n              \"NK cell\" #13\n\n              ] \n              \n\n#merge new celllabels back into the original adata object containing all cells\n#Note: this will overwrite the labels contained in adata.obs.celltype! If you w\nbc.tl.rc.annotate_new_cellnames(adata, adata_subset, names=new_labels)\n\n#visualize finished celltype annotation\nsc.pl.umap(adata, color = ['celltype'])"
      ]
    }
  ],
  "metadata": {
    "kernelspec": {
      "display_name": "Python 3",
      "language": "python",
      "name": "python3"
    },
    "language_info": {
      "codemirror_mode": {
        "name": "ipython",
        "version": 3
      },
      "file_extension": ".py",
      "mimetype": "text/x-python",
      "name": "python",
      "nbconvert_exporter": "python",
      "pygments_lexer": "ipython3",
      "version": "3.7.8"
    }
  },
  "nbformat": 4,
  "nbformat_minor": 0
}