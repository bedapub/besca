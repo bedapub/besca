{
 "cells": [
  {
   "cell_type": "code",
   "execution_count": 1,
   "metadata": {},
   "outputs": [],
   "source": [
    "%matplotlib inline"
   ]
  },
  {
   "cell_type": "markdown",
   "metadata": {},
   "source": [
    "\n",
    "annotate celltypes\n",
    "==================\n",
    "\n",
    "An example workflow using the PBMC3k dataset included with besca illustrating how to annotate celltypes based on louvain clusters.\n",
    "This workflow begins with a preprocessed and filtered dataset on which a louvain clustering was already performed. \n",
    "Please refer to other tutorials on how to perform these steps.\n",
    "\n",
    "\n"
   ]
  },
  {
   "cell_type": "code",
   "execution_count": 2,
   "metadata": {},
   "outputs": [],
   "source": [
    "#load libraries\n",
    "import besca as bc \n",
    "import scanpy.api as sc\n",
    "\n",
    "#load preprocessed dataset (included in BESCA for demonstration purposes)\n",
    "adata = bc.datasets.pbmc3k_processed()\n",
    "\n",
    "#need to drop celltype annotation stored in this dataset (only relevant for this tutorial)\n",
    "adata.obs.drop(columns = ['celltype'], inplace = True)\n",
    "\n",
    "#visualize the louvain clusters\n",
    "sc.pl.umap(adata, color=['louvain'])"
   ]
  },
  {
   "cell_type": "markdown",
   "metadata": {},
   "source": [
    "visualization of marker genes\n",
    "-----------------------------\n",
    "\n",
    "Depending on the type of data you are analysing you will need to look at\n",
    "different marker genes that are specific to the celltypes you would expect \n",
    "to find in your dataset. In this case we are looking at PBMC cells and will\n",
    "try to identify the main Immunecell subtypes: T-cells, B-cells, Monocytes, and\n",
    "Dendritic cells.\n",
    "\n"
   ]
  },
  {
   "cell_type": "code",
   "execution_count": 3,
   "metadata": {},
   "outputs": [],
   "source": [
    "#identification of T-cells\n",
    "sc.pl.umap(adata, color = ['CD3E', 'CD3G', 'CD3D'])\n",
    "\n",
    "#identification of NK cells\n",
    "sc.pl.umap(adata, color = ['NCAM1', 'NKG7', 'GNLY'])\n",
    "\n",
    "#identification of B-cells\n",
    "sc.pl.umap(adata, color = ['MS4A1', 'CD19', 'CD79A'])\n",
    "\n",
    "#identification of myeloid cells/dendritic cells\n",
    "sc.pl.umap(adata, color = ['CST3', 'S100A8', 'S100A9'])\n",
    "\n",
    "#identification of dendritic cells(FCERIA) and monocytes\n",
    "sc.pl.umap(adata, color = ['FCER1A','CD14', 'FCGR3A'])"
   ]
  },
  {
   "cell_type": "markdown",
   "metadata": {},
   "source": [
    "cluster level celltype annotation\n",
    "---------------------------------\n",
    "\n",
    "Depending on how fine-grained your clustering is you will often come into the\n",
    "the situation that a louvain cluster contains several cell-populations that\n",
    "are clearly segregated based on the marker gene expression. If this happens you\n",
    "can try and adjust the louvain resolution parameter to make the clustering more\n",
    "fine-grained, but this will not always be successfull. Especially in cases where\n",
    "your sample contains vastly different celltypes (e.g. an Immuncell dataset \n",
    "containing B-cells and T-cells) it will be difficult to resolve T-cell subsets\n",
    "since they are much more comparable to each other than e.g. a T-cell vs a B-cell.\n",
    "In this case it often makes sense to make a highlevel cell-labeling and then perform\n",
    "a second clustering on onoly the mixed cellclusters. This is the procedure that will\n",
    "be demonstrated in the rest of this tutorial.\n",
    "\n"
   ]
  },
  {
   "cell_type": "code",
   "execution_count": 4,
   "metadata": {},
   "outputs": [],
   "source": [
    "#define high-level celltype annotation\n",
    "new_labels = [\"mixed\", #0\n",
    "              \"mixed\", #1\n",
    "              \"CD14+ monocyte\", #2\n",
    "              \"mixed\", #3\n",
    "              \"B-cell\", #4\n",
    "              \"FCGR3A+ monocyte\", #5\n",
    "              \"mixed\", #6\n",
    "              \"pDC\"] #7\n",
    "\n",
    "bc.tl.annotate_cells_clustering(adata, new_labels)\n",
    "\n",
    "#visualize annotation\n",
    "sc.pl.umap(adata, color = ['celltype'])\n",
    "\n",
    "#preserve highlevel labels for future use if desired\n",
    "adata.obs['high_level celltype'] = adata.obs.celltype.tolist()"
   ]
  },
  {
   "cell_type": "markdown",
   "metadata": {},
   "source": [
    "reclustering on mixed cell clusters\n",
    "-----------------------------------\n",
    "\n"
   ]
  },
  {
   "cell_type": "code",
   "execution_count": 6,
   "metadata": {},
   "outputs": [
    {
     "name": "stdout",
     "output_type": "stream",
     "text": [
      "In total 1471 highly variable genes selected within cluster\n"
     ]
    },
    {
     "name": "stdout",
     "output_type": "stream",
     "text": [
      "NOTE: overwriting labels for the selected cells saved in adata.obs.celltype with the new labels\n"
     ]
    }
   ],
   "source": [
    "#perform reclustering on subset using besca function\n",
    "adata_subset = bc.tl.rc.recluster(adata, ('0', '1', '3', '6'), resolution = 1.3)\n",
    "\n",
    "#visualize important marker genes in reclustering\n",
    "sc.pl.umap(adata_subset, color = ['louvain', 'CD3G', 'CD8A', 'CD4', 'IL7R', 'NKG7', 'GNLY'], ncols = 3)\n",
    "\n",
    "#annotate celltypes based on the new louvain clusters\n",
    "new_labels = [\"CD4 T-cell\", #0\n",
    "              \"CD4 T-cell\", #1\n",
    "              \"CD4 T-cell\", #2\n",
    "              \"CD8 T-cell\", #3\n",
    "              \"NK cell\", #4\n",
    "              \"CD8 T-cell\", #5\n",
    "              \"CD8 T-cell\",#6\n",
    "              \"CD4 T-cell\", #7\n",
    "              \"CD4 T-cell\", #8\n",
    "              \"CD4 T-cell\", #9\n",
    "              \"CD4 T-cell\"] #10\n",
    "\n",
    "#merge new celllabels back into the original adata object containing all cells\n",
    "#Note: this will overwrite the labels contained in adata.obs.celltype! If you w\n",
    "bc.tl.rc.annotate_new_cellnames(adata, adata_subset, names=new_labels)\n",
    "\n",
    "#visualize finished celltype annotation\n",
    "sc.pl.umap(adata, color = ['celltype'])"
   ]
  }
 ],
 "metadata": {
  "kernelspec": {
   "display_name": "Python3.7 (besca_test_auto_annot)",
   "language": "python",
   "name": "besca_test_auto_annot"
  },
  "language_info": {
   "codemirror_mode": {
    "name": "ipython",
    "version": 3
   },
   "file_extension": ".py",
   "mimetype": "text/x-python",
   "name": "python",
   "nbconvert_exporter": "python",
   "pygments_lexer": "ipython3",
   "version": "3.6.7"
  }
 },
 "nbformat": 4,
 "nbformat_minor": 1
}
