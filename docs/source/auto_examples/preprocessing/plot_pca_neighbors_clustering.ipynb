{
 "cells": [
  {
   "cell_type": "code",
   "execution_count": null,
   "metadata": {
    "collapsed": false
   },
   "outputs": [],
   "source": [
    "%matplotlib inline"
   ]
  },
  {
   "cell_type": "markdown",
   "metadata": {},
   "source": [
    "\n",
    "# cluster generation\n",
    "\n",
    "This example demonstrates how to perform highly variable gene selection, PCA, nearest neighbor calculation, and clustering.\n"
   ]
  },
  {
   "cell_type": "code",
   "execution_count": null,
   "metadata": {
    "collapsed": false
   },
   "outputs": [],
   "source": [
    "import besca as bc\n",
    "import scanpy as sc\n",
    "\n",
    "#import example dataset that has previously been filtered\n",
    "adata = bc.datasets.pbmc3k_filtered()\n",
    "## We get the raw matrix containing all the initial genes, keeping the filtering on the cells\n",
    "adata = bc.get_raw(adata)"
   ]
  },
  {
   "cell_type": "markdown",
   "metadata": {},
   "source": [
    "## highly variable gene selection\n",
    "\n",
    "select highly variable genes (considers correction for gene expression level)\n",
    "\n"
   ]
  },
  {
   "cell_type": "code",
   "execution_count": null,
   "metadata": {
    "collapsed": false
   },
   "outputs": [],
   "source": [
    "#define thresholds for highly variable genes\n",
    "variable_genes_min_mean = 0.01\n",
    "variable_genes_max_mean = 5\n",
    "variable_genes_min_disp = 0.4\n",
    "\n",
    "#identify genes with variable expression\n",
    "filter_result = sc.pp.filter_genes_dispersion(adata.X, min_mean=variable_genes_min_mean, max_mean=variable_genes_max_mean, min_disp=variable_genes_min_disp) \n",
    "sc.pl.filter_genes_dispersion(filter_result)\n",
    "nbr_variable_genes = sum(filter_result.gene_subset)\n",
    "print('number of variable genes selected ', nbr_variable_genes )\n",
    "\n",
    "#perform the actual filtering\n",
    "adata = adata[:, filter_result.gene_subset]"
   ]
  },
  {
   "cell_type": "markdown",
   "metadata": {},
   "source": [
    "## set random seed\n",
    "To get reproducible results you need to define a random seed for all of the stochastic\n",
    "processes, such as e.g. PCA, neighbors, etc.\n",
    "\n"
   ]
  },
  {
   "cell_type": "code",
   "execution_count": null,
   "metadata": {
    "collapsed": false
   },
   "outputs": [],
   "source": [
    "#set random seed\n",
    "random_seed = 0"
   ]
  },
  {
   "cell_type": "markdown",
   "metadata": {},
   "source": [
    "## PCA\n",
    "\n"
   ]
  },
  {
   "cell_type": "code",
   "execution_count": null,
   "metadata": {
    "collapsed": false
   },
   "outputs": [],
   "source": [
    "#log transform our data (is easier to work with numbers like this)\n",
    "sc.pp.log1p(adata)\n",
    "\n",
    "# Scale data to unit variance and zero mean, and cut-off at max value 10\n",
    "sc.pp.scale(adata, max_value=10) \n",
    "\n",
    "#calculate 50 principle components of the dataset\n",
    "sc.tl.pca(adata, random_state=random_seed, svd_solver='arpack')\n",
    "\n",
    "#visualize the amount of variance explained by each PC\n",
    "sc.pl.pca_variance_ratio(adata)\n",
    "\n",
    "#visualize the loadings onto the first 3 PCs\n",
    "sc.pl.pca_loadings(adata)"
   ]
  },
  {
   "cell_type": "markdown",
   "metadata": {},
   "source": [
    "## nearest neighbors\n",
    "\n"
   ]
  },
  {
   "cell_type": "code",
   "execution_count": null,
   "metadata": {
    "collapsed": false
   },
   "outputs": [],
   "source": [
    "sc.pp.neighbors(adata, n_neighbors=15, random_state = random_seed, n_pcs=50)"
   ]
  },
  {
   "cell_type": "markdown",
   "metadata": {},
   "source": [
    "## louvain clustering\n",
    "\n"
   ]
  },
  {
   "cell_type": "code",
   "execution_count": null,
   "metadata": {
    "collapsed": false
   },
   "outputs": [],
   "source": [
    "sc.tl.leiden(adata, random_state=random_seed)"
   ]
  },
  {
   "cell_type": "markdown",
   "metadata": {},
   "source": [
    "## UMAP and t-SNE generation\n",
    "\n"
   ]
  },
  {
   "cell_type": "code",
   "execution_count": null,
   "metadata": {
    "collapsed": false
   },
   "outputs": [],
   "source": [
    "#calculate UMAP\n",
    "sc.tl.umap(adata, random_state = random_seed)\n",
    "\n",
    "#calculate t-SNE\n",
    "sc.tl.tsne(adata, random_state = random_seed)"
   ]
  },
  {
   "cell_type": "markdown",
   "metadata": {},
   "source": [
    "## visualize the results\n",
    "\n"
   ]
  },
  {
   "cell_type": "code",
   "execution_count": null,
   "metadata": {
    "collapsed": false
   },
   "outputs": [],
   "source": [
    "sc.pl.umap(adata, color = ['leiden'])\n",
    "sc.pl.tsne(adata, color = ['leiden'])"
   ]
  }
 ],
 "metadata": {
  "kernelspec": {
   "display_name": "Python 3",
   "language": "python",
   "name": "python3"
  },
  "language_info": {
   "codemirror_mode": {
    "name": "ipython",
    "version": 3
   },
   "file_extension": ".py",
   "mimetype": "text/x-python",
   "name": "python",
   "nbconvert_exporter": "python",
   "pygments_lexer": "ipython3",
   "version": "3.7.8"
  }
 },
 "nbformat": 4,
 "nbformat_minor": 0
}
