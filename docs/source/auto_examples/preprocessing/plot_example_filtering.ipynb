{
 "cells": [
  {
   "cell_type": "code",
   "execution_count": 1,
   "metadata": {},
   "outputs": [],
   "source": [
    "%matplotlib inline"
   ]
  },
  {
   "cell_type": "markdown",
   "metadata": {},
   "source": [
    "\n",
    "performing filtering using besca\n",
    "================================\n",
    "\n",
    "This example demonstrates the entire process of filtering out cells/genes ob subpar quality\n",
    "before proceeding with analysis. \n",
    "\n",
    "\n"
   ]
  },
  {
   "cell_type": "code",
   "execution_count": 2,
   "metadata": {},
   "outputs": [],
   "source": [
    "import besca as bc\n",
    "import scanpy.api as sc\n",
    "import matplotlib.pyplot as plt\n",
    "\n",
    "#load example dataset\n",
    "adata = bc.datasets.pbmc3k_raw()\n",
    "\n",
    "#set standard filtering parameters\n",
    "min_genes = 600\n",
    "min_cells = 2\n",
    "min_UMI = 600\n",
    "max_UMI = 6500\n",
    "max_mito = 0.05\n",
    "max_genes = 1900"
   ]
  },
  {
   "cell_type": "markdown",
   "metadata": {},
   "source": [
    "visualization of thresholds\n",
    "---------------------------\n",
    "\n",
    "First the chosen thresholds are visualized to ensure that a suitable cutoff has been chosen.\n",
    "\n"
   ]
  },
  {
   "cell_type": "code",
   "execution_count": 3,
   "metadata": {},
   "outputs": [
    {
     "name": "stdout",
     "output_type": "stream",
     "text": [
      "adding percent mitochondrial genes to dataframe for species human\n"
     ]
    }
   ],
   "source": [
    "#visualize filtering thresholds\n",
    "fig, ((ax1, ax2, ax3), (ax4, ax5, ax6))= plt.subplots(ncols=3, nrows=2)\n",
    "fig.set_figwidth(15)\n",
    "fig.set_figheight(8)\n",
    "fig.tight_layout(pad=4.5)\n",
    "\n",
    "bc.pl.kp_genes(adata, min_genes=min_genes, ax = ax1)\n",
    "bc.pl.kp_cells(adata, min_cells=min_cells, ax = ax2)\n",
    "bc.pl.kp_counts(adata, min_counts=min_UMI, ax = ax3)\n",
    "bc.pl.max_counts(adata, max_counts=max_UMI, ax = ax4)\n",
    "bc.pl.max_mito(adata, max_mito=max_mito, annotation_type='SYMBOL', species='human', ax = ax5)\n",
    "bc.pl.max_genes(adata, max_genes=max_genes)"
   ]
  },
  {
   "cell_type": "markdown",
   "metadata": {},
   "source": [
    "application of filtering thresholds\n",
    "-----------------------------------\n",
    "\n",
    "Using the chosen thresholds the data is filtered. Before and after filtering results are depicted to compare.\n",
    "\n"
   ]
  },
  {
   "cell_type": "code",
   "execution_count": 4,
   "metadata": {},
   "outputs": [
    {
     "name": "stdout",
     "output_type": "stream",
     "text": [
      "The AnnData object currently contains: 737280 cells and 32738 genes\n",
      "AnnData object with n_obs × n_vars = 737280 × 32738 \n",
      "    obs: 'CELL', 'CONDITION', 'experiment', 'donor', 'n_counts', 'n_genes', 'percent_mito'\n",
      "    var: 'ENSEMBL', 'SYMBOL'\n",
      "started with  737280  total cells and  32738  total genes\n",
      "removed 15 cells that expressed more than 1900 genes\n",
      "removed 734965 cells that did not express at least 600  genes\n",
      "removed 4 cells that had more than 6500  counts\n",
      "removed 0 cells that did not have at least 600 counts\n",
      "removed 17843 genes that were not expressed in at least 2 cells\n",
      "removed  17  cells that expressed  5.0 percent mitochondrial genes or more\n",
      "finished with 2279  total cells and 14895 total genes\n",
      "The AnnData object now contains: 2279 cells and 14895 genes\n",
      "AnnData object with n_obs × n_vars = 2279 × 14895 \n",
      "    obs: 'CELL', 'CONDITION', 'experiment', 'donor', 'n_counts', 'n_genes', 'percent_mito'\n",
      "    var: 'ENSEMBL', 'SYMBOL', 'n_cells'\n"
     ]
    }
   ],
   "source": [
    "#visualize data before filtering\n",
    "sc.pl.violin(adata, ['n_counts', 'n_genes', 'percent_mito'], multi_panel=True, jitter = 0.4)\n",
    "\n",
    "print('The AnnData object currently contains:', str(adata.shape[0]), 'cells and', str(adata.shape[1]), 'genes')\n",
    "print(adata)\n",
    "\n",
    "#perform filtering\n",
    "adata = bc.pp.filter(adata, max_counts=max_UMI, max_genes=max_genes, max_mito=max_mito,min_genes=min_genes, min_counts=min_UMI, min_cells=min_cells)\n",
    "\n",
    "#visualize data after filtering\n",
    "sc.pl.violin(adata, ['n_counts', 'n_genes', 'percent_mito'], multi_panel=True, jitter = 0.4)\n",
    "\n",
    "print('The AnnData object now contains:', str(adata.shape[0]), 'cells and', str(adata.shape[1]), 'genes')\n",
    "print(adata)"
   ]
  }
 ],
 "metadata": {
  "kernelspec": {
   "display_name": "Python3.7 (besca_test_auto_annot)",
   "language": "python",
   "name": "besca_test_auto_annot"
  },
  "language_info": {
   "codemirror_mode": {
    "name": "ipython",
    "version": 3
   },
   "file_extension": ".py",
   "mimetype": "text/x-python",
   "name": "python",
   "nbconvert_exporter": "python",
   "pygments_lexer": "ipython3",
   "version": "3.6.7"
  }
 },
 "nbformat": 4,
 "nbformat_minor": 1
}
