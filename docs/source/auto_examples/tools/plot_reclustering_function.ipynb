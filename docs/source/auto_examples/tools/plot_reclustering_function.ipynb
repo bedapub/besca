{
 "cells": [
  {
   "cell_type": "code",
   "execution_count": 1,
   "metadata": {},
   "outputs": [],
   "source": [
    "%matplotlib inline"
   ]
  },
  {
   "cell_type": "markdown",
   "metadata": {},
   "source": [
    "\n",
    "reclustering on specific leiden clusters\n",
    "=========================================\n",
    "\n",
    "This example demonstrates who to perform a reclustering on a selected subset of\n",
    "leiden clusters. You will want to do this for example during the process of celltype\n",
    "annotation, when the leiden clusters do not have a sufficient resolution to seperate\n",
    "all clusters and mixed cell populations still exist.\n",
    "\n",
    "\n"
   ]
  },
  {
   "cell_type": "code",
   "execution_count": 2,
   "metadata": {},
   "outputs": [
    {
     "name": "stdout",
     "output_type": "stream",
     "text": [
      "In total 1471 highly variable genes selected within cluster\n",
      "NOTE: overwriting labels for the selected cells saved in adata.obs.celltype with the new labels\n",
      "CD4 T-cell          866\n",
      "CD8 T-cell          427\n",
      "CD14+ monocyte      369\n",
      "B-cell              259\n",
      "FCGR3A+ monocyte    177\n",
      "NK cell             162\n",
      "pDC                  19\n",
      "Name: celltype, dtype: int64\n"
     ]
    }
   ],
   "source": [
    "import besca as bc\n",
    "import scanpy.api as sc\n",
    "\n",
    "#load and preprocess data (here we will start from a preprocessed dataset)\n",
    "adata = bc.datasets.pbmc3k_processed()\n",
    "\n",
    "\n",
    "#extract subset using the recluster function whcih is part of the reclustering (rc) toolkit\n",
    "adata_subset = bc.tl.rc.recluster(adata, celltype=('CD4-positive, alpha-beta T cell', 'CD8-positive, alpha-beta T cell'), celltype_label = 'celltype2', resolution = 1)\n",
    "\n",
    "#visualize the new clusters\n",
    "sc.pl.umap(adata_subset, color = ['leiden',  'CD3G', 'CD8A', 'CD8B','CD4', 'IL7R', 'NKG7', 'GNLY'], color_map = 'viridis')\n",
    "\n",
    "\n",
    "#append new celltype labels to the subclusters\n",
    "new_labels = [\"CD4 T-cell\", #0\n",
    "              \"CD4 T-cell\", #1\n",
    "              \"CD8 T-cell\", #2\n",
    "              \"NK cell\", #3\n",
    "              \"CD8 T-cell\", #4\n",
    "              \"CD8 T-cell\", #5\n",
    "              \"CD4 T-cell\",#6\n",
    "              \"T cell\" #7\n",
    "              ] #10\n",
    "\n",
    "#merge the labels back into the original adata object\n",
    "#note this will overwrite what ever was saved in adata.obs.celltype\n",
    "bc.tl.rc.annotate_new_cellnames(adata, adata_subset, names=new_labels, new_label = 'celltype_rc')\n",
    "\n",
    "print(adata.obs.celltype_rc.value_counts())"
   ]
  }
 ],
 "metadata": {
  "kernelspec": {
   "display_name": "Python3.7 (besca_test_auto_annot)",
   "language": "python",
   "name": "besca_test_auto_annot"
  },
  "language_info": {
   "codemirror_mode": {
    "name": "ipython",
    "version": 3
   },
   "file_extension": ".py",
   "mimetype": "text/x-python",
   "name": "python",
   "nbconvert_exporter": "python",
   "pygments_lexer": "ipython3",
   "version": "3.6.7"
  }
 },
 "nbformat": 4,
 "nbformat_minor": 1
}
