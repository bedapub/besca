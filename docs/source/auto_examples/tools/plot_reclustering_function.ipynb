{
 "cells": [
  {
   "cell_type": "code",
   "execution_count": null,
   "metadata": {
    "collapsed": false
   },
   "outputs": [],
   "source": [
    "%matplotlib inline"
   ]
  },
  {
   "cell_type": "markdown",
   "metadata": {},
   "source": [
    "\n",
    "# reclustering on specific leiden clusters\n",
    "\n",
    "This example demonstrates who to perform a reclustering on a selected subset of\n",
    "leiden clusters. You will want to do this for example during the process of celltype\n",
    "annotation, when the  clusters do not have a sufficient resolution to seperate\n",
    "all clusters and mixed cell populations still exist.\n"
   ]
  },
  {
   "cell_type": "code",
   "execution_count": null,
   "metadata": {
    "collapsed": false
   },
   "outputs": [],
   "source": [
    "import besca as bc\n",
    "import scanpy as sc\n",
    "import pytest\n",
    "\n",
    "# pytest.skip('Test is only for here as example and should not be executed')\n",
    "# load and preprocess data (here we will start from a preprocessed dataset)\n",
    "adata = bc.datasets.pbmc3k_processed()\n",
    "\n",
    "# extract subset using the recluster function whcih is part of the reclustering (rc) toolkit\n",
    "adata_subset = bc.tl.rc.recluster(\n",
    "    adata,\n",
    "    celltype=(\"2\", \"3\", \"4\", \"5\", \"6\", \"8\", \"9\", \"10\", \"11\", \"12\"),\n",
    "    celltype_label=\"leiden\",\n",
    "    resolution=1.2,\n",
    ")\n",
    "\n",
    "\n",
    "# visualize the new clusters\n",
    "sc.pl.umap(\n",
    "    adata_subset, color=[\"leiden\", \"CD3G\", \"CD8A\", \"CD4\", \"IL7R\", \"NKG7\", \"GNLY\"]\n",
    ")\n",
    "\n",
    "# append new celltype labels to the subclusters.\n",
    "# This is an approximative hand annotation that should be dealt into more widths.\n",
    "labels = [\n",
    "    \"NK cell\",  # 0\n",
    "    \"CD4 T-cell\",  # 1\n",
    "    \"CD8 T-cell\",  # 2\n",
    "    \"CD4 T-cell\",  # 3\n",
    "    \"CD8 T-cell\",  # 4\n",
    "    \"CD8 T-cell\",  # 5\n",
    "    \"CD4 T-cell\",  # 6\n",
    "    \"CD4 T-cell\",  # 7\n",
    "    \"CD4 T-cell\",  # 8\n",
    "    \"CD4 T-cell\",  # 9\n",
    "    \"CD4 T-cell\",  # 10\n",
    "    \"CD4 T-cell\",  # 11\n",
    "    \"CD4 T-cell\",  # 12\n",
    "    \"CD4 T-cell\",  # 13\n",
    "    \"CD4 T-cell\",  # 14\n",
    "    \"CD4 T-cell\",  # 15\n",
    "    \"CD4 T-cell\",  # 16\n",
    "    \"CD4 T-cell\",  # 17\n",
    "    \"CD4 T-cell\",  # 18\n",
    "    \"CD4 T-cell\",  # 19\n",
    "]  # 10\n",
    "\n",
    "new_labels = [\n",
    "    labels[i]\n",
    "    for i in range(len(adata_subset.obs.get(\"leiden\").value_counts().index.tolist()))\n",
    "]\n",
    "\n",
    "\n",
    "# merge the labels back into the original adata object\n",
    "# note this will overwrite what ever was saved in adata.obs.celltype;\n",
    "# Here is was not assigned yet.\n",
    "bc.tl.rc.annotate_new_cellnames(\n",
    "    adata, adata_subset, names=new_labels, new_label=\"celltype\"\n",
    ")"
   ]
  }
 ],
 "metadata": {
  "kernelspec": {
   "display_name": "Python 3",
   "language": "python",
   "name": "python3"
  },
  "language_info": {
   "codemirror_mode": {
    "name": "ipython",
    "version": 3
   },
   "file_extension": ".py",
   "mimetype": "text/x-python",
   "name": "python",
   "nbconvert_exporter": "python",
   "pygments_lexer": "ipython3",
   "version": "3.8.13"
  }
 },
 "nbformat": 4,
 "nbformat_minor": 0
}
