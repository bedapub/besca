{
 "cells": [
  {
   "cell_type": "code",
   "execution_count": 1,
   "metadata": {},
   "outputs": [],
   "source": [
    "%matplotlib inline"
   ]
  },
  {
   "cell_type": "markdown",
   "metadata": {},
   "source": [
    "\n",
    "plotting gene expression\n",
    "========================\n",
    "\n",
    "This example shows you some of the different plots you can use to plot gene expression.\n",
    "\n",
    "\n"
   ]
  },
  {
   "cell_type": "code",
   "execution_count": 2,
   "metadata": {},
   "outputs": [],
   "source": [
    "import besca as bc\n",
    "\n",
    "#import data\n",
    "adata = bc.datasets.pbmc3k_processed()"
   ]
  },
  {
   "cell_type": "markdown",
   "metadata": {},
   "source": [
    "compare two conditions\n",
    "----------------------\n",
    "\n",
    "You can use the split violin plot to compare gene expression for two different conditions.\n",
    "\n"
   ]
  },
  {
   "cell_type": "markdown",
   "metadata": {},
   "source": [
    "use a stacked split violin plot to compare this for several genes at the same time\n",
    "\n"
   ]
  },
  {
   "cell_type": "code",
   "execution_count": 6,
   "metadata": {},
   "outputs": [
    {
     "name": "stdout",
     "output_type": "stream",
     "text": [
      "merging a total of  3  datasubset\n"
     ]
    }
   ],
   "source": [
    "#import dataset\n",
    "adata = bc.datasets.pbmc_storage_processed()\n"
   ]
  },
  {
   "cell_type": "code",
   "execution_count": 11,
   "metadata": {},
   "outputs": [],
   "source": [
    "bc.pl.gene_expr_split(adata, genes = ['CD3E', 'CD8A'], split_variable='donor');"
   ]
  },
  {
   "cell_type": "code",
   "execution_count": 12,
   "metadata": {},
   "outputs": [
    {
     "name": "stdout",
     "output_type": "stream",
     "text": [
      "merging a total of  3  datasubset\n"
     ]
    }
   ],
   "source": [
    "#update the dataset to only contain two conditions\n",
    "adata = adata[adata.obs.donor != 'Donor_3A']\n",
    "bc.pl.gene_expr_split_stacked(adata=adata, genes=['CD4', 'CD8A'], split_variable='donor', subset_variable = 'storage_condition');"
   ]
  }
 ],
 "metadata": {
  "kernelspec": {
   "display_name": "Python3.7 (besca_test_auto_annot)",
   "language": "python",
   "name": "besca_test_auto_annot"
  },
  "language_info": {
   "codemirror_mode": {
    "name": "ipython",
    "version": 3
   },
   "file_extension": ".py",
   "mimetype": "text/x-python",
   "name": "python",
   "nbconvert_exporter": "python",
   "pygments_lexer": "ipython3",
   "version": "3.6.7"
  }
 },
 "nbformat": 4,
 "nbformat_minor": 1
}
