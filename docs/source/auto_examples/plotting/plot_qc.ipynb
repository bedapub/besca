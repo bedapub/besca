{
 "cells": [
  {
   "cell_type": "code",
   "execution_count": null,
   "metadata": {
    "collapsed": false
   },
   "outputs": [],
   "source": [
    "%matplotlib inline"
   ]
  },
  {
   "cell_type": "markdown",
   "metadata": {},
   "source": [
    "\n",
    "quality control plots\n",
    "=====================\n",
    "\n",
    "This example shows you the inbuilt quality control plots from besca.\n",
    "\n",
    "\n"
   ]
  },
  {
   "cell_type": "code",
   "execution_count": null,
   "metadata": {
    "collapsed": false
   },
   "outputs": [],
   "source": [
    "#import libraries\n",
    "import besca as bc\n",
    "import matplotlib.pyplot as plt"
   ]
  },
  {
   "cell_type": "markdown",
   "metadata": {},
   "source": [
    "Before beginning any analysis it is useful to take a detailled look at your dataset\n",
    "to get an understanding for its characteristics.\n",
    "\n"
   ]
  },
  {
   "cell_type": "code",
   "execution_count": null,
   "metadata": {
    "collapsed": false
   },
   "outputs": [],
   "source": [
    "#import data\n",
    "adata = bc.datasets.pbmc3k_raw()"
   ]
  },
  {
   "cell_type": "markdown",
   "metadata": {},
   "source": [
    "transcript capture efficiency\n",
    "-----------------------------\n",
    "\n",
    "Plotting the transcript capture efficiency will give you an overview of the expression\n",
    "of genes within cells relative to the total UMI counts.\n",
    "\n"
   ]
  },
  {
   "cell_type": "code",
   "execution_count": null,
   "metadata": {
    "collapsed": false
   },
   "outputs": [],
   "source": [
    "#transcript capture efficiency\n",
    "fig, ax = plt.subplots(1)\n",
    "fig.set_figwidth(8)\n",
    "fig.set_figheight(5)\n",
    "fig.tight_layout()\n",
    "\n",
    "bc.pl.transcript_capture_efficiency(adata,ax=ax)"
   ]
  },
  {
   "cell_type": "markdown",
   "metadata": {},
   "source": [
    "overview of library size unprocessed\n",
    "------------------------------------\n",
    "\n",
    "This gives you an overview of the read distribution per cell. High quality cells\n",
    "will have a larger number of reads per cell and this is a parameter you can use to \n",
    "filter out low quality cells. The number of reads you would expect per cell is strongly\n",
    "dependent on the single-cell sequencing method you used.\n",
    "\n"
   ]
  },
  {
   "cell_type": "code",
   "execution_count": null,
   "metadata": {
    "collapsed": false
   },
   "outputs": [],
   "source": [
    "bc.pl.librarysize_overview(adata)"
   ]
  },
  {
   "cell_type": "markdown",
   "metadata": {},
   "source": [
    "most strongly expressed transcripts\n",
    "-----------------------------------\n",
    "\n",
    "This will let you identify the genes which dominant your experiment \n",
    "(generally you would expect mitochondrial and ribosomal genes, \n",
    "in this dataset these genes have been removed beforehand).\n",
    "\n"
   ]
  },
  {
   "cell_type": "code",
   "execution_count": null,
   "metadata": {
    "collapsed": false
   },
   "outputs": [],
   "source": [
    "bc.pl.top_genes_counts(adata=adata, top_n=25)"
   ]
  },
  {
   "cell_type": "markdown",
   "metadata": {},
   "source": [
    "visualize the processed dataset\n",
    "-------------------------------\n",
    "\n",
    "After performing your filtering it is generally a good idea to take another look\n",
    "at your dataset to ensure that the filtering parameters used were reasonable.\n",
    "\n"
   ]
  },
  {
   "cell_type": "code",
   "execution_count": null,
   "metadata": {
    "collapsed": false
   },
   "outputs": [],
   "source": [
    "adata = bc.datasets.pbmc3k_processed()"
   ]
  },
  {
   "cell_type": "markdown",
   "metadata": {},
   "source": [
    "Please note that the displayed counts have already been scaled. You would now expect\n",
    "a more or less normal distribution of library size within your dataset.\n",
    "\n"
   ]
  },
  {
   "cell_type": "code",
   "execution_count": null,
   "metadata": {
    "collapsed": false
   },
   "outputs": [],
   "source": [
    "bc.pl.librarysize_overview(adata)"
   ]
  }
 ],
 "metadata": {
  "kernelspec": {
   "display_name": "Python 3",
   "language": "python",
   "name": "python3"
  },
  "language_info": {
   "codemirror_mode": {
    "name": "ipython",
    "version": 3
   },
   "file_extension": ".py",
   "mimetype": "text/x-python",
   "name": "python",
   "nbconvert_exporter": "python",
   "pygments_lexer": "ipython3",
   "version": "3.6.11"
  }
 },
 "nbformat": 4,
 "nbformat_minor": 0
}
