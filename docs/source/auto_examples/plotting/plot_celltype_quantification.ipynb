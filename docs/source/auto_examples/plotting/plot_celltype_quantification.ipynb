{
 "cells": [
  {
   "cell_type": "code",
   "execution_count": null,
   "metadata": {
    "collapsed": false
   },
   "outputs": [],
   "source": [
    "%matplotlib inline"
   ]
  },
  {
   "cell_type": "markdown",
   "metadata": {},
   "source": [
    "\n",
    "# Visualize cell fractions\n",
    "\n",
    "This example demonstrates how to generate celltype quantification plots. These types of plots \n",
    "can be used to visually represent the number of cells that belong to a certain subset or condition.\n"
   ]
  },
  {
   "cell_type": "code",
   "execution_count": null,
   "metadata": {
    "collapsed": false
   },
   "outputs": [],
   "source": [
    "import besca as bc\n",
    "import pytest\n",
    "\n",
    "# pytest.skip('Test is only for here as example and should not be executed')\n",
    "\n",
    "# import dataset to workwith\n",
    "adata = bc.datasets.Peng2019_processed()"
   ]
  },
  {
   "cell_type": "markdown",
   "metadata": {},
   "source": [
    "quantify specific celllabels as a stacked barplot\n",
    "\n"
   ]
  },
  {
   "cell_type": "code",
   "execution_count": null,
   "metadata": {
    "collapsed": false
   },
   "outputs": [],
   "source": [
    "bc.pl.celllabel_quant_stackedbar(\n",
    "    adata, count_variable=\"Cell_type\", subset_variable=\"Patient\"\n",
    ")"
   ]
  },
  {
   "cell_type": "markdown",
   "metadata": {},
   "source": [
    "quantify number of cells belong to each condition in a specific subset\n",
    "\n",
    "here each dot represents one Patient, the boxplots are grouped according to tissue type (Normal or Tumoral)\n",
    "\n"
   ]
  },
  {
   "cell_type": "code",
   "execution_count": null,
   "metadata": {
    "collapsed": false
   },
   "outputs": [],
   "source": [
    "bc.pl.celllabel_quant_boxplot(\n",
    "    adata,\n",
    "    count_variable=\"Cell_type\",\n",
    "    subset_variable=\"Patient\",\n",
    "    condition_identifier=\"Type\",\n",
    "    plot_percentage=True,\n",
    ")"
   ]
  },
  {
   "cell_type": "markdown",
   "metadata": {},
   "source": [
    "here you can also choose to plot total counts instead of percentages\n",
    "\n"
   ]
  },
  {
   "cell_type": "code",
   "execution_count": null,
   "metadata": {
    "collapsed": false
   },
   "outputs": [],
   "source": [
    "bc.pl.celllabel_quant_boxplot(\n",
    "    adata,\n",
    "    count_variable=\"Cell_type\",\n",
    "    subset_variable=\"Patient\",\n",
    "    condition_identifier=\"Type\",\n",
    "    plot_percentage=False,\n",
    ")"
   ]
  }
 ],
 "metadata": {
  "kernelspec": {
   "display_name": "Python 3",
   "language": "python",
   "name": "python3"
  },
  "language_info": {
   "codemirror_mode": {
    "name": "ipython",
    "version": 3
   },
   "file_extension": ".py",
   "mimetype": "text/x-python",
   "name": "python",
   "nbconvert_exporter": "python",
   "pygments_lexer": "ipython3",
   "version": "3.8.13"
  }
 },
 "nbformat": 4,
 "nbformat_minor": 0
}
