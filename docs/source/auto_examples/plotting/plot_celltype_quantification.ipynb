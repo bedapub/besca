{
 "cells": [
  {
   "cell_type": "code",
   "execution_count": 1,
   "metadata": {},
   "outputs": [],
   "source": [
    "%matplotlib inline"
   ]
  },
  {
   "cell_type": "markdown",
   "metadata": {},
   "source": [
    "\n",
    "visualize cell fractions\n",
    "========================\n",
    "\n",
    "This example demonstrates how to generate celltype quantification plots. These types of plots \n",
    "can be used to visually represent the number of cells that belong to a certain subset or condition.\n",
    "\n",
    "\n"
   ]
  },
  {
   "cell_type": "code",
   "execution_count": 2,
   "metadata": {},
   "outputs": [],
   "source": [
    "import besca as bc \n",
    "\n",
    "#import dataset to workwith\n",
    "adata = bc.datasets.pbmc_storage_processed()"
   ]
  },
  {
   "cell_type": "markdown",
   "metadata": {},
   "source": [
    "quantify specific celllabels as a stacked barplot\n",
    "\n"
   ]
  },
  {
   "cell_type": "code",
   "execution_count": 3,
   "metadata": {},
   "outputs": [],
   "source": [
    "bc.pl.celllabel_quant_stackedbar(adata, count_variable = 'donor', subset_variable = 'storage_condition');"
   ]
  },
  {
   "cell_type": "markdown",
   "metadata": {},
   "source": [
    "quantify number of cells in each louvain cluster belonging to a specific subset variable (e.g. donor)\n",
    "\n",
    "Note that the louvain clusters are brought into the correct order.\n",
    "\n"
   ]
  },
  {
   "cell_type": "code",
   "execution_count": 4,
   "metadata": {},
   "outputs": [],
   "source": [
    "bc.pl.louvain_quant_stackedbar(adata, subset_variable = 'donor');"
   ]
  },
  {
   "cell_type": "markdown",
   "metadata": {},
   "source": [
    "quantify number of cells belong to each condition in a specific subset\n",
    "\n",
    "here each dot represents one donor, the boxplots are grouped according to storage condition\n",
    "\n"
   ]
  },
  {
   "cell_type": "code",
   "execution_count": 5,
   "metadata": {},
   "outputs": [],
   "source": [
    "bc.pl.celllabel_quant_boxplot(adata, count_variable = 'louvain', subset_variable = 'donor', condition_identifier = 'storage_condition',  plot_percentage = True);"
   ]
  },
  {
   "cell_type": "markdown",
   "metadata": {},
   "source": [
    "here you can also choose to plot total counts instead of percentages\n",
    "\n"
   ]
  },
  {
   "cell_type": "code",
   "execution_count": 6,
   "metadata": {},
   "outputs": [],
   "source": [
    "bc.pl.celllabel_quant_boxplot(adata, count_variable = 'louvain', subset_variable = 'donor', condition_identifier = 'storage_condition',  plot_percentage = False);"
   ]
  }
 ],
 "metadata": {
  "kernelspec": {
   "display_name": "Python3.7 (besca_test_auto_annot)",
   "language": "python",
   "name": "besca_test_auto_annot"
  },
  "language_info": {
   "codemirror_mode": {
    "name": "ipython",
    "version": 3
   },
   "file_extension": ".py",
   "mimetype": "text/x-python",
   "name": "python",
   "nbconvert_exporter": "python",
   "pygments_lexer": "ipython3",
   "version": "3.6.7"
  }
 },
 "nbformat": 4,
 "nbformat_minor": 1
}
