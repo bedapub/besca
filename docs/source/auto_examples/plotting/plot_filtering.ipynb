{
 "cells": [
  {
   "cell_type": "code",
   "execution_count": 1,
   "metadata": {},
   "outputs": [],
   "source": [
    "%matplotlib inline"
   ]
  },
  {
   "cell_type": "markdown",
   "metadata": {},
   "source": [
    "\n",
    "filtering functions\n",
    "===================\n",
    "\n",
    "This example shows you how to generate plots to visualize the chosen filter threshold.\n",
    "This way you can easily check (visually) if your chosen threshold is a good one.\n",
    "\n",
    "\n"
   ]
  },
  {
   "cell_type": "code",
   "execution_count": 2,
   "metadata": {},
   "outputs": [
    {
     "name": "stdout",
     "output_type": "stream",
     "text": [
      "adding percent mitochondrial genes to dataframe for species human\n"
     ]
    }
   ],
   "source": [
    "import besca as bc \n",
    "import matplotlib.pyplot as plt\n",
    "\n",
    "adata = bc.datasets.pbmc3k_raw()\n",
    "\n",
    "#define thresholds\n",
    "min_genes = 600\n",
    "min_cells = 2\n",
    "min_UMI = 600\n",
    "max_UMI = 6500\n",
    "max_mito = 0.05\n",
    "max_genes = 1900\n",
    "\n",
    "#visualize filtering thresholds\n",
    "fig, ((ax1, ax2, ax3), (ax4, ax5, ax6))= plt.subplots(ncols=3, nrows=2)\n",
    "fig.set_figwidth(15)\n",
    "fig.set_figheight(8)\n",
    "fig.tight_layout(pad=4.5)\n",
    "\n",
    "bc.pl.kp_genes(adata, min_genes=min_genes, ax = ax1)\n",
    "bc.pl.kp_cells(adata, min_cells=min_cells, ax = ax2)\n",
    "bc.pl.kp_counts(adata, min_counts=min_UMI, ax = ax3)\n",
    "bc.pl.max_counts(adata, max_counts=max_UMI, ax = ax4)\n",
    "bc.pl.max_mito(adata, max_mito=max_mito, annotation_type='SYMBOL', species='human', ax = ax5)\n",
    "bc.pl.max_genes(adata, max_genes=max_genes)"
   ]
  }
 ],
 "metadata": {
  "kernelspec": {
   "display_name": "Python3.7 (besca_test_auto_annot)",
   "language": "python",
   "name": "besca_test_auto_annot"
  },
  "language_info": {
   "codemirror_mode": {
    "name": "ipython",
    "version": 3
   },
   "file_extension": ".py",
   "mimetype": "text/x-python",
   "name": "python",
   "nbconvert_exporter": "python",
   "pygments_lexer": "ipython3",
   "version": "3.6.7"
  }
 },
 "nbformat": 4,
 "nbformat_minor": 1
}
