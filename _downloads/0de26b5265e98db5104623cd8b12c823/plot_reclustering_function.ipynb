{
 "cells": [
  {
   "cell_type": "code",
   "execution_count": null,
   "metadata": {
    "collapsed": false
   },
   "outputs": [],
   "source": [
    "%matplotlib inline"
   ]
  },
  {
   "cell_type": "markdown",
   "metadata": {},
   "source": [
    "\n",
    "# reclustering on specific louvain clusters\n",
    "\n",
    "This example demonstrates who to perform a reclustering on a selected subset of\n",
    "louvain clusters. You will want to do this for example during the process of celltype\n",
    "annotation, when the  clusters do not have a sufficient resolution to seperate\n",
    "all clusters and mixed cell populations still exist.\n"
   ]
  },
  {
   "cell_type": "code",
   "execution_count": null,
   "metadata": {
    "collapsed": false
   },
   "outputs": [],
   "source": [
    "import besca as bc\n",
    "import scanpy as sc\n",
    "\n",
    "#load and preprocess data (here we will start from a preprocessed dataset)\n",
    "adata = bc.datasets.pbmc3k_processed()\n",
    "\n",
    "#extract subset using the recluster function whcih is part of the reclustering (rc) toolkit\n",
    "adata_subset = bc.tl.rc.recluster(adata, celltype=('2', '3', '4', '5', '6','8', '9', '10', '11', '12'), celltype_label = 'leiden', resolution = 1.2)\n",
    "\n",
    "\n",
    "\n",
    "\n",
    "#visualize the new clusters\n",
    "sc.pl.umap(adata_subset, color = ['leiden', 'CD3G', 'CD8A', 'CD4', 'IL7R', 'NKG7', 'GNLY'])\n",
    "\n",
    "#append new celltype labels to the subclusters.\n",
    "# This is an approximative hand annotation that should be dealt into more widths.\n",
    "new_labels = [\"NK cell\", #0\n",
    "              \"CD4 T-cell\", #1\n",
    "              \"CD8 T-cell\", #2\n",
    "              \"CD4 T-cell\", #3\n",
    "              \"CD8 T-cell\", #4\n",
    "              \"CD8 T-cell\", #5\n",
    "              \"CD4 T-cell\", #6\n",
    "              \"CD4 T-cell\",  #7\n",
    "              \"CD4 T-cell\",  #8\n",
    "              \"CD4 T-cell\",  #9\n",
    "              \"CD4 T-cell\", #10\n",
    "              \"CD4 T-cell\", #11\n",
    "              \"CD4 T-cell\" #12\n",
    "              ] #10\n",
    "\n",
    "#merge the labels back into the original adata object\n",
    "#note this will overwrite what ever was saved in adata.obs.celltype;\n",
    "#Here is was not assigned yet.\n",
    "bc.tl.rc.annotate_new_cellnames(adata, adata_subset, names=new_labels, new_label = 'celltype')\n",
    "\n",
    "print(adata.obs.celltype.value_counts())"
   ]
  }
 ],
 "metadata": {
  "kernelspec": {
   "display_name": "Python 3",
   "language": "python",
   "name": "python3"
  },
  "language_info": {
   "codemirror_mode": {
    "name": "ipython",
    "version": 3
   },
   "file_extension": ".py",
   "mimetype": "text/x-python",
   "name": "python",
   "nbconvert_exporter": "python",
   "pygments_lexer": "ipython3",
   "version": "3.7.8"
  }
 },
 "nbformat": 4,
 "nbformat_minor": 0
}
