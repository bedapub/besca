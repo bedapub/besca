{
 "cells": [
  {
   "cell_type": "code",
   "execution_count": null,
   "metadata": {
    "collapsed": false
   },
   "outputs": [],
   "source": [
    "%matplotlib inline"
   ]
  },
  {
   "cell_type": "markdown",
   "metadata": {},
   "source": [
    "\n",
    "# plotting gene expression\n",
    "\n",
    "This example shows you some of the different plots you can use to plot gene expression.\n"
   ]
  },
  {
   "cell_type": "code",
   "execution_count": null,
   "metadata": {
    "collapsed": false
   },
   "outputs": [],
   "source": [
    "import besca as bc\n",
    "import pytest\n",
    "\n",
    "# pytest.skip('Test is only for here as example and should not be executed')\n",
    "# import data\n",
    "adata = bc.datasets.Haber2017_processed()"
   ]
  },
  {
   "cell_type": "markdown",
   "metadata": {},
   "source": [
    "## compare two conditions\n",
    "\n",
    "You can use the split violin plot to compare gene expression for two different conditions.\n",
    "\n"
   ]
  },
  {
   "cell_type": "code",
   "execution_count": null,
   "metadata": {
    "collapsed": false
   },
   "outputs": [],
   "source": [
    "bc.pl.gene_expr_split(adata, genes=[\"Defa24\", \"Gm15284\"], split_variable=\"donor\")"
   ]
  },
  {
   "cell_type": "markdown",
   "metadata": {},
   "source": [
    "use a stacked split violin plot to compare this for several genes at the same time\n",
    "\n"
   ]
  },
  {
   "cell_type": "code",
   "execution_count": null,
   "metadata": {
    "collapsed": false
   },
   "outputs": [],
   "source": [
    "bc.pl.gene_expr_split_stacked(\n",
    "    adata=adata,\n",
    "    genes=[\"Defa24\", \"Gm15284\"],\n",
    "    split_variable=\"donor\",\n",
    "    subset_variable=\"region_x\",\n",
    "    inner=None,\n",
    ")"
   ]
  }
 ],
 "metadata": {
  "kernelspec": {
   "display_name": "Python 3",
   "language": "python",
   "name": "python3"
  },
  "language_info": {
   "codemirror_mode": {
    "name": "ipython",
    "version": 3
   },
   "file_extension": ".py",
   "mimetype": "text/x-python",
   "name": "python",
   "nbconvert_exporter": "python",
   "pygments_lexer": "ipython3",
   "version": "3.8.13"
  }
 },
 "nbformat": 4,
 "nbformat_minor": 0
}
