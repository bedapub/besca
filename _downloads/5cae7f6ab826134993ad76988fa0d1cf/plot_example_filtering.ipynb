{
 "cells": [
  {
   "cell_type": "code",
   "execution_count": null,
   "metadata": {
    "collapsed": false
   },
   "outputs": [],
   "source": [
    "%matplotlib inline"
   ]
  },
  {
   "cell_type": "markdown",
   "metadata": {},
   "source": [
    "\n",
    "# performing filtering using besca\n",
    "\n",
    "This example demonstrates the entire process of filtering out cells/genes ob subpar quality\n",
    "before proceeding with analysis. \n"
   ]
  },
  {
   "cell_type": "code",
   "execution_count": null,
   "metadata": {
    "collapsed": false
   },
   "outputs": [],
   "source": [
    "import besca as bc\n",
    "import scanpy as sc\n",
    "import matplotlib.pyplot as plt\n",
    "import pytest\n",
    "\n",
    "# pytest.skip('Test is only for here as example and should not be executed')\n",
    "# load example dataset\n",
    "adata = bc.datasets.pbmc3k_raw()\n",
    "\n",
    "# set standard filtering parameters\n",
    "min_genes = 600\n",
    "min_cells = 2\n",
    "min_UMI = 600\n",
    "max_UMI = 6500\n",
    "max_mito = 0.05\n",
    "max_genes = 1900"
   ]
  },
  {
   "cell_type": "markdown",
   "metadata": {},
   "source": [
    "## visualization of thresholds\n",
    "\n",
    "First the chosen thresholds are visualized to ensure that a suitable cutoff has been chosen.\n",
    "\n"
   ]
  },
  {
   "cell_type": "code",
   "execution_count": null,
   "metadata": {
    "collapsed": false
   },
   "outputs": [],
   "source": [
    "# Visualize filtering thresholds\n",
    "fig, ((ax1, ax2, ax3), (ax4, ax5, ax6)) = plt.subplots(ncols=3, nrows=2)\n",
    "fig.set_figwidth(15)\n",
    "fig.set_figheight(8)\n",
    "fig.tight_layout(pad=4.5)\n",
    "\n",
    "bc.pl.kp_genes(adata, min_genes=min_genes, ax=ax1)\n",
    "bc.pl.kp_cells(adata, min_cells=min_cells, ax=ax2)\n",
    "bc.pl.kp_counts(adata, min_counts=min_UMI, ax=ax3)\n",
    "bc.pl.max_counts(adata, max_counts=max_UMI, ax=ax4)\n",
    "bc.pl.max_mito(\n",
    "    adata, max_mito=max_mito, annotation_type=\"SYMBOL\", species=\"human\", ax=ax5\n",
    ")\n",
    "bc.pl.max_genes(adata, max_genes=max_genes)"
   ]
  },
  {
   "cell_type": "markdown",
   "metadata": {},
   "source": [
    "## application of filtering thresholds\n",
    "\n",
    "Using the chosen thresholds the data is filtered. Before and after filtering results are depicted to compare.\n",
    "\n"
   ]
  },
  {
   "cell_type": "code",
   "execution_count": null,
   "metadata": {
    "collapsed": false
   },
   "outputs": [],
   "source": [
    "# visualize data before filtering\n",
    "sc.pl.violin(\n",
    "    adata, [\"n_counts\", \"n_genes\", \"percent_mito\"], multi_panel=True, jitter=0.4\n",
    ")\n",
    "\n",
    "print(\n",
    "    \"The AnnData object currently contains:\",\n",
    "    str(adata.shape[0]),\n",
    "    \"cells and\",\n",
    "    str(adata.shape[1]),\n",
    "    \"genes\",\n",
    ")\n",
    "print(adata)\n",
    "\n",
    "# perform filtering\n",
    "adata = bc.pp.filter(\n",
    "    adata,\n",
    "    max_counts=max_UMI,\n",
    "    max_genes=max_genes,\n",
    "    max_mito=max_mito,\n",
    "    min_genes=min_genes,\n",
    "    min_counts=min_UMI,\n",
    "    min_cells=min_cells,\n",
    ")\n",
    "\n",
    "# visualize data after filtering\n",
    "sc.pl.violin(\n",
    "    adata, [\"n_counts\", \"n_genes\", \"percent_mito\"], multi_panel=True, jitter=0.4\n",
    ")\n",
    "\n",
    "print(\n",
    "    \"The AnnData object now contains:\",\n",
    "    str(adata.shape[0]),\n",
    "    \"cells and\",\n",
    "    str(adata.shape[1]),\n",
    "    \"genes\",\n",
    ")\n",
    "print(adata)"
   ]
  }
 ],
 "metadata": {
  "kernelspec": {
   "display_name": "Python 3",
   "language": "python",
   "name": "python3"
  },
  "language_info": {
   "codemirror_mode": {
    "name": "ipython",
    "version": 3
   },
   "file_extension": ".py",
   "mimetype": "text/x-python",
   "name": "python",
   "nbconvert_exporter": "python",
   "pygments_lexer": "ipython3",
   "version": "3.8.13"
  }
 },
 "nbformat": 4,
 "nbformat_minor": 0
}
