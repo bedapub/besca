{
 "cells": [
  {
   "cell_type": "markdown",
   "metadata": {
    "toc": true
   },
   "source": [
    "<h1>Table of Contents<span class=\"tocSkip\"></span></h1>\n",
    "<div class=\"toc\"><ul class=\"toc-item\"><li><span><a href=\"#Standard-BESCA-workflow\" data-toc-modified-id=\"Standard-BESCA-workflow-1\"><span class=\"toc-item-num\">1&nbsp;&nbsp;</span>Standard BESCA workflow</a></span><ul class=\"toc-item\"><li><ul class=\"toc-item\"><li><span><a href=\"#Import-section\" data-toc-modified-id=\"Import-section-1.0.1\"><span class=\"toc-item-num\">1.0.1&nbsp;&nbsp;</span>Import section</a></span></li></ul></li><li><span><a href=\"#Setup-Standard-Wokflow\" data-toc-modified-id=\"Setup-Standard-Wokflow-1.1\"><span class=\"toc-item-num\">1.1&nbsp;&nbsp;</span>Setup Standard Wokflow</a></span><ul class=\"toc-item\"><li><span><a href=\"#Parameters-to-be-set---on-the-command-line-or-here\" data-toc-modified-id=\"Parameters-to-be-set---on-the-command-line-or-here-1.1.1\"><span class=\"toc-item-num\">1.1.1&nbsp;&nbsp;</span>Parameters to be set - on the command line or here</a></span></li><li><span><a href=\"#Define-Input\" data-toc-modified-id=\"Define-Input-1.1.2\"><span class=\"toc-item-num\">1.1.2&nbsp;&nbsp;</span>Define Input</a></span></li><li><span><a href=\"#Standard-parameters---these-should-be-kept-as-stable-as-possible\" data-toc-modified-id=\"Standard-parameters---these-should-be-kept-as-stable-as-possible-1.1.3\"><span class=\"toc-item-num\">1.1.3&nbsp;&nbsp;</span>Standard parameters - these should be kept as stable as possible</a></span></li></ul></li><li><span><a href=\"#Standard-Pipeline\" data-toc-modified-id=\"Standard-Pipeline-1.2\"><span class=\"toc-item-num\">1.2&nbsp;&nbsp;</span>Standard Pipeline</a></span><ul class=\"toc-item\"><li><span><a href=\"#Visualization-of-quality-control-plots-and-selected-filtering-parameters\" data-toc-modified-id=\"Visualization-of-quality-control-plots-and-selected-filtering-parameters-1.2.1\"><span class=\"toc-item-num\">1.2.1&nbsp;&nbsp;</span>Visualization of quality control plots and selected filtering parameters</a></span><ul class=\"toc-item\"><li><span><a href=\"#Count-occurrence\" data-toc-modified-id=\"Count-occurrence-1.2.1.1\"><span class=\"toc-item-num\">1.2.1.1&nbsp;&nbsp;</span>Count occurrence</a></span></li><li><span><a href=\"#Transcript-capture-efficiency\" data-toc-modified-id=\"Transcript-capture-efficiency-1.2.1.2\"><span class=\"toc-item-num\">1.2.1.2&nbsp;&nbsp;</span>Transcript capture efficiency</a></span></li><li><span><a href=\"#Library-size-distribution\" data-toc-modified-id=\"Library-size-distribution-1.2.1.3\"><span class=\"toc-item-num\">1.2.1.3&nbsp;&nbsp;</span>Library size distribution</a></span></li><li><span><a href=\"#The-effect-of-filtering-parameters\" data-toc-modified-id=\"The-effect-of-filtering-parameters-1.2.1.4\"><span class=\"toc-item-num\">1.2.1.4&nbsp;&nbsp;</span>The effect of filtering parameters</a></span></li><li><span><a href=\"#Scanpy-plots-of-genes,-counts,-and-mitochondria-gene-counts\" data-toc-modified-id=\"Scanpy-plots-of-genes,-counts,-and-mitochondria-gene-counts-1.2.1.5\"><span class=\"toc-item-num\">1.2.1.5&nbsp;&nbsp;</span>Scanpy plots of genes, counts, and mitochondria gene counts</a></span></li><li><span><a href=\"#Mitochondrial-genes,-genes,-and-counts-by-samples-grouped-by-the-split-condition\" data-toc-modified-id=\"Mitochondrial-genes,-genes,-and-counts-by-samples-grouped-by-the-split-condition-1.2.1.6\"><span class=\"toc-item-num\">1.2.1.6&nbsp;&nbsp;</span>Mitochondrial genes, genes, and counts by samples grouped by the split condition</a></span></li></ul></li><li><span><a href=\"#Filtering\" data-toc-modified-id=\"Filtering-1.2.2\"><span class=\"toc-item-num\">1.2.2&nbsp;&nbsp;</span>Filtering</a></span><ul class=\"toc-item\"><li><span><a href=\"#Filtering-with-thresholds-of-gene-and-cell-counts\" data-toc-modified-id=\"Filtering-with-thresholds-of-gene-and-cell-counts-1.2.2.1\"><span class=\"toc-item-num\">1.2.2.1&nbsp;&nbsp;</span>Filtering with thresholds of gene and cell counts</a></span></li><li><span><a href=\"#Filtering-with-thresholds-of-proportion-of-mitochondrial-genes-and-the-upper-limit-of-gene-counts\" data-toc-modified-id=\"Filtering-with-thresholds-of-proportion-of-mitochondrial-genes-and-the-upper-limit-of-gene-counts-1.2.2.2\"><span class=\"toc-item-num\">1.2.2.2&nbsp;&nbsp;</span>Filtering with thresholds of proportion of mitochondrial genes and the upper limit of gene counts</a></span></li><li><span><a href=\"#Visualising-QC-metrics-of-the-filtered-dataset\" data-toc-modified-id=\"Visualising-QC-metrics-of-the-filtered-dataset-1.2.2.3\"><span class=\"toc-item-num\">1.2.2.3&nbsp;&nbsp;</span>Visualising QC metrics of the filtered dataset</a></span></li></ul></li><li><span><a href=\"#Per-cell-normalization-and-output-of-the-normalized-data\" data-toc-modified-id=\"Per-cell-normalization-and-output-of-the-normalized-data-1.2.3\"><span class=\"toc-item-num\">1.2.3&nbsp;&nbsp;</span>Per-cell normalization and output of the normalized data</a></span></li><li><span><a href=\"#Feature-selection-(highly-variable-genes)-for-clustering\" data-toc-modified-id=\"Feature-selection-(highly-variable-genes)-for-clustering-1.2.4\"><span class=\"toc-item-num\">1.2.4&nbsp;&nbsp;</span>Feature selection (highly variable genes) for clustering</a></span></li><li><span><a href=\"#Regression-steps,-and-output-of-regressed-data\" data-toc-modified-id=\"Regression-steps,-and-output-of-regressed-data-1.2.5\"><span class=\"toc-item-num\">1.2.5&nbsp;&nbsp;</span>Regression steps, and output of regressed data</a></span></li><li><span><a href=\"#PCA-based-neighborhood-analysis-and-UMAP-with-optional-batch-correction\" data-toc-modified-id=\"PCA-based-neighborhood-analysis-and-UMAP-with-optional-batch-correction-1.2.6\"><span class=\"toc-item-num\">1.2.6&nbsp;&nbsp;</span>PCA-based neighborhood analysis and UMAP with optional batch correction</a></span></li><li><span><a href=\"#Clustering\" data-toc-modified-id=\"Clustering-1.2.7\"><span class=\"toc-item-num\">1.2.7&nbsp;&nbsp;</span>Clustering</a></span></li><li><span><a href=\"#Additional-Labeling\" data-toc-modified-id=\"Additional-Labeling-1.2.8\"><span class=\"toc-item-num\">1.2.8&nbsp;&nbsp;</span>Additional Labeling</a></span></li><li><span><a href=\"#CiteSeq-Standard-Wokflow-(only-executed-if-applicable)\" data-toc-modified-id=\"CiteSeq-Standard-Wokflow-(only-executed-if-applicable)-1.2.9\"><span class=\"toc-item-num\">1.2.9&nbsp;&nbsp;</span>CiteSeq Standard Wokflow (only executed if applicable)</a></span></li><li><span><a href=\"#Complete-the-log-file\" data-toc-modified-id=\"Complete-the-log-file-1.2.10\"><span class=\"toc-item-num\">1.2.10&nbsp;&nbsp;</span>Complete the log-file</a></span></li><li><span><a href=\"#Write-QC-Report\" data-toc-modified-id=\"Write-QC-Report-1.2.11\"><span class=\"toc-item-num\">1.2.11&nbsp;&nbsp;</span>Write QC Report</a></span></li><li><span><a href=\"#Session-info\" data-toc-modified-id=\"Session-info-1.2.12\"><span class=\"toc-item-num\">1.2.12&nbsp;&nbsp;</span>Session info</a></span></li></ul></li></ul></li></ul></div>"
   ]
  },
  {
   "cell_type": "markdown",
   "metadata": {},
   "source": [
    "# Standard BESCA workflow\n",
    "\n",
    "The current workflow works with the Scanpy version 1.9.\n",
    "\n",
    "Changes: \n",
    "- removed optional R-based functionality, including DSB CITE-seq normalisation \n",
    "- removed regress_out functionality \n",
    "\n",
    "### Import section ###"
   ]
  },
  {
   "cell_type": "code",
   "execution_count": 1,
   "metadata": {},
   "outputs": [
    {
     "name": "stderr",
     "output_type": "stream",
     "text": [
      "Global seed set to 0\n"
     ]
    },
    {
     "name": "stdout",
     "output_type": "stream",
     "text": [
      "scanpy==1.9.1 anndata==0.8.0 umap==0.5.3 numpy==1.21.5 scipy==1.9.0 pandas==1.4.3 scikit-learn==1.1.1 statsmodels==0.13.2 python-igraph==0.9.11 pynndescent==0.5.4\n",
      "besca==2.5\n"
     ]
    },
    {
     "name": "stderr",
     "output_type": "stream",
     "text": [
      "/Users/kohlem13/micromamba/envs/besca_3.8/lib/python3.8/site-packages/umap/__init__.py:9: ImportWarning:\n",
      "\n",
      "Tensorflow not installed; ParametricUMAP will be unavailable\n",
      "\n"
     ]
    }
   ],
   "source": [
    "import scanpy as sc\n",
    "import besca as bc \n",
    "\n",
    "vers = bc.print_software_versions()"
   ]
  },
  {
   "cell_type": "code",
   "execution_count": 3,
   "metadata": {},
   "outputs": [
    {
     "name": "stderr",
     "output_type": "stream",
     "text": [
      "/Users/kohlem13/micromamba/envs/besca_3.8/lib/python3.8/site-packages/scanpy/_settings.py:447: DeprecationWarning:\n",
      "\n",
      "`set_matplotlib_formats` is deprecated since IPython 7.23, directly use `matplotlib_inline.backend_inline.set_matplotlib_formats()`\n",
      "\n"
     ]
    }
   ],
   "source": [
    "import numpy as np\n",
    "import pandas as pd\n",
    "import matplotlib.pyplot as plt\n",
    "import matplotlib as mpl\n",
    "from scipy import sparse, io\n",
    "import seaborn as sns\n",
    "import os\n",
    "import re\n",
    "import time\n",
    "import IPython\n",
    "from random import sample\n",
    "\n",
    "import logging\n",
    "import seaborn as sns\n",
    "from sinfo import sinfo\n",
    "import warnings\n",
    "\n",
    "# Seed is fixed for reproducible analysis.\n",
    "import random \n",
    "random.seed(1)\n",
    "\n",
    "# for standard processing, set verbosity to minimum\n",
    "sc.settings.verbosity = 0  # verbosity: errors (0), warnings (1), info (2), hints (3)\n",
    "sc.settings.set_figure_params(dpi=80)\n",
    "sns.set_context(\"paper\", font_scale=0.9) #changes font sizes so better readable\n",
    "plt.rcParams['svg.fonttype'] = 'none' #ensures that any saved svgs have editable fonts\n",
    "version = '3.0' # This is the third version of the standard workflow, introduced with besca v2.5\n",
    "start0 = time.time()\n",
    "warnings.simplefilter(action=\"always\")"
   ]
  },
  {
   "cell_type": "code",
   "execution_count": 4,
   "metadata": {},
   "outputs": [],
   "source": [
    "%matplotlib inline"
   ]
  },
  {
   "cell_type": "markdown",
   "metadata": {},
   "source": [
    "## Setup Standard Wokflow"
   ]
  },
  {
   "cell_type": "markdown",
   "metadata": {},
   "source": [
    "### Parameters to be set - on the command line or here ###"
   ]
  },
  {
   "cell_type": "code",
   "execution_count": 5,
   "metadata": {},
   "outputs": [],
   "source": [
    "# decisions to be made\n",
    "use_example_dataset = True # If True, the pipeline will run using the example dataset shipped with BESCA\n",
    "\n",
    "species = 'human'\n",
    "batch_to_correct = 'None' # must be \"None\" or any one of the labels in \"metadata.tsv\", ID, SPECIES, TISSUE, DONOR, TREATMENT; typically \"ID\" or \"DONOR\"\n",
    "analysis_name = 'standard_workflow_besca2' # analysis name (will appear in db and viz), only alphanumeric and _ allowed (not - .)\n",
    "split_condition='donor' #'readout_id' or 'experiment' is generally a good default\n",
    "citeseq = False #specify if the dataset contains citeseq data: True or False \n",
    "adt_norm = 'CLR' # only CLR currently, DSB deprecated (required R packages)\n",
    "dynrange=['B2m','Actb','Pgk1','Ctcf'] #genes for which to plot dynamic range\n",
    "example_markers = ['PTPRC', 'CD14'] # Will be shown in the first umaps\n",
    "\n",
    "if species=='human': dynrange=[x.upper() for x in dynrange]\n",
    "if not re.match(r'^\\w+$', analysis_name):  raise Warning('Analysis name is NOT compliant with MongoDB, only alphanumeric and _ allowed (not - .)')\n",
    "    \n",
    "#additional labeling\n",
    "labeling_to_use = 'None' # must be \"None\" or any one of the labels in \"metadata.tsv\", ID, SPECIES, TISSUE, DONOR, TREATMENT; typically \"ID\" or \"DONOR\"\n",
    "labeling_name = 'MyAnno' # define name under which the labeling should be exported\n",
    "labeling_description = 'celltype annotation' #define description which should be saved to labeling_info file\n",
    "labeling_author = 'MyAnnotAuthor' #define author which should be saved to labeling info file"
   ]
  },
  {
   "cell_type": "markdown",
   "metadata": {},
   "source": [
    "### Define Input ###"
   ]
  },
  {
   "cell_type": "code",
   "execution_count": 6,
   "metadata": {},
   "outputs": [],
   "source": [
    "# define filepath (this is the folder that contains \"raw\" and \"analyzed\")\n",
    "root_path = os.getcwd()"
   ]
  },
  {
   "cell_type": "markdown",
   "metadata": {},
   "source": [
    "### Standard parameters - these should be kept as stable as possible ###"
   ]
  },
  {
   "cell_type": "code",
   "execution_count": 7,
   "metadata": {},
   "outputs": [],
   "source": [
    "# the standard parameter section\n",
    "standard_min_genes = 500\n",
    "standard_min_cells = 30\n",
    "standard_min_counts = 1000\n",
    "standard_n_genes = 3000 # this is the most tricky one to set\n",
    "standard_percent_mito = 0.05\n",
    "standard_max_counts = 20000 #might be redundant with n_genes"
   ]
  },
  {
   "cell_type": "markdown",
   "metadata": {},
   "source": [
    "\n",
    "Thresholds defined above for filtering should be a good start to treat most samples.\n",
    "In some cases, based on the QC plots shown below, one can decide to change the threshold.\n",
    "\n",
    "For example, with the pbmc3k dataset, we advise to lower those thresholds (see besca tutorial here: https://bedapub.github.io/besca/tutorials/notebook1_data_processing_pbmc3k.html).\n",
    "\n",
    "\n",
    "For the test dataset here (Kotliarov2020), one might argue that the max_counts threshold could be lower (based on the distribution in code chunk 12)"
   ]
  },
  {
   "cell_type": "markdown",
   "metadata": {},
   "source": [
    "## Standard Pipeline\n",
    "(note nothing below this point should be modified!!)"
   ]
  },
  {
   "cell_type": "code",
   "execution_count": 10,
   "metadata": {},
   "outputs": [
    {
     "name": "stderr",
     "output_type": "stream",
     "text": [
      "/Users/kohlem13/micromamba/envs/besca_3.8/lib/python3.8/site-packages/besca/st/_wrapper_funcs.py:86: ResourceWarning:\n",
      "\n",
      "unclosed file <_io.TextIOWrapper name='/Users/kohlem13/projects/besca/workbooks/analyzed/standard_workflow_besca2/standard_workflow_besca2.standard.log' mode='x' encoding='UTF-8'>\n",
      "\n",
      "INFO:root:Standard Pipeline Version 3.0 used\n",
      "LOG MESSAGE: Standard Pipeline Version 3.0 used\n",
      "LOG MESSAGE: Standard Pipeline Version 3.0 used\n",
      "LOG MESSAGE: Standard Pipeline Version 3.0 used\n",
      "INFO:root:2022-09-16\n",
      "LOG MESSAGE: 2022-09-16\n",
      "LOG MESSAGE: 2022-09-16\n",
      "LOG MESSAGE: 2022-09-16\n",
      "INFO:root:Analysis 'standard_workflow_besca2' on data located in'/Users/kohlem13/projects/besca/workbooks'\n",
      "LOG MESSAGE: Analysis 'standard_workflow_besca2' on data located in'/Users/kohlem13/projects/besca/workbooks'\n",
      "LOG MESSAGE: Analysis 'standard_workflow_besca2' on data located in'/Users/kohlem13/projects/besca/workbooks'\n",
      "LOG MESSAGE: Analysis 'standard_workflow_besca2' on data located in'/Users/kohlem13/projects/besca/workbooks'\n",
      "INFO:root:species: human\n",
      "LOG MESSAGE: species: human\n",
      "LOG MESSAGE: species: human\n",
      "LOG MESSAGE: species: human\n",
      "INFO:root:Batch effect to correct: None\n",
      "LOG MESSAGE: Batch effect to correct: None\n",
      "LOG MESSAGE: Batch effect to correct: None\n",
      "LOG MESSAGE: Batch effect to correct: None\n",
      "INFO:root:Parameters:\n",
      "LOG MESSAGE: Parameters:\n",
      "LOG MESSAGE: Parameters:\n",
      "LOG MESSAGE: Parameters:\n",
      "INFO:root:\tstandard_min_genes = 500\n",
      "LOG MESSAGE: \tstandard_min_genes = 500\n",
      "LOG MESSAGE: \tstandard_min_genes = 500\n",
      "LOG MESSAGE: \tstandard_min_genes = 500\n",
      "INFO:root:\tstandard_min_cells = 30\n",
      "LOG MESSAGE: \tstandard_min_cells = 30\n",
      "LOG MESSAGE: \tstandard_min_cells = 30\n",
      "LOG MESSAGE: \tstandard_min_cells = 30\n",
      "INFO:root:\tstandard_min_counts = 1000\n",
      "LOG MESSAGE: \tstandard_min_counts = 1000\n",
      "LOG MESSAGE: \tstandard_min_counts = 1000\n",
      "LOG MESSAGE: \tstandard_min_counts = 1000\n",
      "INFO:root:\tstandard_n_genes = 3000\n",
      "LOG MESSAGE: \tstandard_n_genes = 3000\n",
      "LOG MESSAGE: \tstandard_n_genes = 3000\n",
      "LOG MESSAGE: \tstandard_n_genes = 3000\n",
      "INFO:root:\tstandard_max_counts = 20000\n",
      "LOG MESSAGE: \tstandard_max_counts = 20000\n",
      "LOG MESSAGE: \tstandard_max_counts = 20000\n",
      "LOG MESSAGE: \tstandard_max_counts = 20000\n",
      "INFO:root:\tstandard_percent_mito = 0.05\n",
      "LOG MESSAGE: \tstandard_percent_mito = 0.05\n",
      "LOG MESSAGE: \tstandard_percent_mito = 0.05\n",
      "LOG MESSAGE: \tstandard_percent_mito = 0.05\n",
      "INFO:root:\tTime for creating all output directories and setting up logging: 0.107s\n",
      "LOG MESSAGE: \tTime for creating all output directories and setting up logging: 0.107s\n",
      "LOG MESSAGE: \tTime for creating all output directories and setting up logging: 0.107s\n",
      "LOG MESSAGE: \tTime for creating all output directories and setting up logging: 0.107s\n"
     ]
    },
    {
     "name": "stdout",
     "output_type": "stream",
     "text": [
      "all output directories created successfully\n",
      "utilizing example data\n"
     ]
    },
    {
     "name": "stderr",
     "output_type": "stream",
     "text": [
      "/Users/kohlem13/micromamba/envs/besca_3.8/lib/python3.8/site-packages/anndata/_io/specs/methods.py:590: OldFormatWarning:\n",
      "\n",
      "Element '/obs/CELL' was written without encoding metadata.\n",
      "\n",
      "/Users/kohlem13/micromamba/envs/besca_3.8/lib/python3.8/site-packages/anndata/_io/specs/methods.py:584: OldFormatWarning:\n",
      "\n",
      "Element '/obs/__categories/CONDITION' was written without encoding metadata.\n",
      "\n",
      "/Users/kohlem13/micromamba/envs/besca_3.8/lib/python3.8/site-packages/anndata/_io/specs/methods.py:587: OldFormatWarning:\n",
      "\n",
      "Element '/obs/CONDITION' was written without encoding metadata.\n",
      "\n",
      "/Users/kohlem13/micromamba/envs/besca_3.8/lib/python3.8/site-packages/anndata/_io/specs/methods.py:584: OldFormatWarning:\n",
      "\n",
      "Element '/obs/__categories/sample_type' was written without encoding metadata.\n",
      "\n",
      "/Users/kohlem13/micromamba/envs/besca_3.8/lib/python3.8/site-packages/anndata/_io/specs/methods.py:587: OldFormatWarning:\n",
      "\n",
      "Element '/obs/sample_type' was written without encoding metadata.\n",
      "\n",
      "/Users/kohlem13/micromamba/envs/besca_3.8/lib/python3.8/site-packages/anndata/_io/specs/methods.py:584: OldFormatWarning:\n",
      "\n",
      "Element '/obs/__categories/donor' was written without encoding metadata.\n",
      "\n",
      "/Users/kohlem13/micromamba/envs/besca_3.8/lib/python3.8/site-packages/anndata/_io/specs/methods.py:587: OldFormatWarning:\n",
      "\n",
      "Element '/obs/donor' was written without encoding metadata.\n",
      "\n",
      "/Users/kohlem13/micromamba/envs/besca_3.8/lib/python3.8/site-packages/anndata/_io/specs/methods.py:584: OldFormatWarning:\n",
      "\n",
      "Element '/obs/__categories/tenx_lane' was written without encoding metadata.\n",
      "\n",
      "/Users/kohlem13/micromamba/envs/besca_3.8/lib/python3.8/site-packages/anndata/_io/specs/methods.py:587: OldFormatWarning:\n",
      "\n",
      "Element '/obs/tenx_lane' was written without encoding metadata.\n",
      "\n",
      "/Users/kohlem13/micromamba/envs/besca_3.8/lib/python3.8/site-packages/anndata/_io/specs/methods.py:584: OldFormatWarning:\n",
      "\n",
      "Element '/obs/__categories/cohort' was written without encoding metadata.\n",
      "\n",
      "/Users/kohlem13/micromamba/envs/besca_3.8/lib/python3.8/site-packages/anndata/_io/specs/methods.py:587: OldFormatWarning:\n",
      "\n",
      "Element '/obs/cohort' was written without encoding metadata.\n",
      "\n",
      "/Users/kohlem13/micromamba/envs/besca_3.8/lib/python3.8/site-packages/anndata/_io/specs/methods.py:590: OldFormatWarning:\n",
      "\n",
      "Element '/obs/batch' was written without encoding metadata.\n",
      "\n",
      "/Users/kohlem13/micromamba/envs/besca_3.8/lib/python3.8/site-packages/anndata/_io/specs/methods.py:590: OldFormatWarning:\n",
      "\n",
      "Element '/obs/sampleid' was written without encoding metadata.\n",
      "\n",
      "/Users/kohlem13/micromamba/envs/besca_3.8/lib/python3.8/site-packages/anndata/_io/specs/methods.py:584: OldFormatWarning:\n",
      "\n",
      "Element '/obs/__categories/timepoint' was written without encoding metadata.\n",
      "\n",
      "/Users/kohlem13/micromamba/envs/besca_3.8/lib/python3.8/site-packages/anndata/_io/specs/methods.py:587: OldFormatWarning:\n",
      "\n",
      "Element '/obs/timepoint' was written without encoding metadata.\n",
      "\n",
      "/Users/kohlem13/micromamba/envs/besca_3.8/lib/python3.8/site-packages/anndata/_io/specs/methods.py:590: OldFormatWarning:\n",
      "\n",
      "Element '/obs/percent_mito' was written without encoding metadata.\n",
      "\n",
      "/Users/kohlem13/micromamba/envs/besca_3.8/lib/python3.8/site-packages/anndata/_io/specs/methods.py:590: OldFormatWarning:\n",
      "\n",
      "Element '/obs/_index' was written without encoding metadata.\n",
      "\n",
      "/Users/kohlem13/micromamba/envs/besca_3.8/lib/python3.8/site-packages/anndata/_io/specs/methods.py:584: OldFormatWarning:\n",
      "\n",
      "Element '/var/__categories/ENSEMBL' was written without encoding metadata.\n",
      "\n",
      "/Users/kohlem13/micromamba/envs/besca_3.8/lib/python3.8/site-packages/anndata/_io/specs/methods.py:587: OldFormatWarning:\n",
      "\n",
      "Element '/var/ENSEMBL' was written without encoding metadata.\n",
      "\n",
      "/Users/kohlem13/micromamba/envs/besca_3.8/lib/python3.8/site-packages/anndata/_io/specs/methods.py:590: OldFormatWarning:\n",
      "\n",
      "Element '/var/SYMBOL' was written without encoding metadata.\n",
      "\n",
      "/Users/kohlem13/micromamba/envs/besca_3.8/lib/python3.8/site-packages/anndata/_io/specs/methods.py:584: OldFormatWarning:\n",
      "\n",
      "Element '/var/__categories/feature_type' was written without encoding metadata.\n",
      "\n",
      "/Users/kohlem13/micromamba/envs/besca_3.8/lib/python3.8/site-packages/anndata/_io/specs/methods.py:587: OldFormatWarning:\n",
      "\n",
      "Element '/var/feature_type' was written without encoding metadata.\n",
      "\n",
      "/Users/kohlem13/micromamba/envs/besca_3.8/lib/python3.8/site-packages/anndata/_io/specs/methods.py:590: OldFormatWarning:\n",
      "\n",
      "Element '/var/_index' was written without encoding metadata.\n",
      "\n"
     ]
    }
   ],
   "source": [
    "#define standardized filepaths based on above input\n",
    "results_folder = os.path.join(root_path, 'analyzed', analysis_name)\n",
    "results_file = os.path.join(results_folder, analysis_name + '.h5ad') # specify a .h5ad file for storing the results\n",
    "results_file_raw = os.path.join(results_folder, analysis_name + '.raw.h5ad') # specify a .h5ad file for storing the raw counts after filtering (might be needed for other analyses/tools)\n",
    "log_file = os.path.join(results_folder, analysis_name + '.standard.log') # specify a log file for keeping a short summary and overview\n",
    "sc.settings.figdir = os.path.join(results_folder, 'figures')\n",
    "\n",
    "#setup standard workflow (generates output directories and setsup logging file)\n",
    "bc.st.setup(results_folder, \n",
    "              analysis_name, \n",
    "              labeling_name, \n",
    "              labeling_to_use, \n",
    "              log_file, \n",
    "              version,\n",
    "              root_path, \n",
    "              species, \n",
    "              batch_to_correct, \n",
    "              standard_min_genes,\n",
    "              standard_min_cells,\n",
    "              standard_min_counts,\n",
    "              standard_n_genes,\n",
    "              standard_percent_mito,\n",
    "              standard_max_counts)\n",
    "\n",
    "\n",
    "# read input data\n",
    "if use_example_dataset:\n",
    "    print('utilizing example data')\n",
    "    # subset the cells for speed purpose\n",
    "    adata = bc.datasets.Kotliarov2020_raw()\n",
    "    subset = sample([i for i in range(adata.shape[0])], 10000) \n",
    "    adata = adata[subset,:]\n",
    "    if citeseq:\n",
    "        adata_prot = bc.datasets.Kotliarov2020_citeSeq()[subset,:]\n",
    "        adata_prot.obs.index = adata.obs.index\n",
    "        results_folder_citeseq = os.path.join(results_folder, 'citeseq' )\n",
    "        results_folder_merged= os.path.join(results_folder_citeseq, 'citeseq_merged')\n",
    "        results_file_citeseq = os.path.join(results_folder_citeseq, analysis_name + '.h5ad')\n",
    "        results_file_merged = os.path.join(results_folder_merged, analysis_name + '.h5ad')\n",
    "        bc.st.setup_citeseq(results_folder_citeseq,\n",
    "                            labeling_name, \n",
    "                            labeling_to_use)\n",
    "        print('utilizing citeseq data')\n",
    "        \n",
    "elif citeseq:\n",
    "    #generate file strucutre for citeseq data\n",
    "    results_folder_citeseq = os.path.join(results_folder, 'citeseq' )\n",
    "    results_folder_merged= os.path.join(results_folder_citeseq, 'citeseq_merged')\n",
    "    results_file_citeseq = os.path.join(results_folder_citeseq, analysis_name + '.h5ad')\n",
    "    results_file_merged = os.path.join(results_folder_merged, analysis_name + '.h5ad')\n",
    "    bc.st.setup_citeseq(results_folder_citeseq,\n",
    "                        labeling_name, \n",
    "                        labeling_to_use)\n",
    "    \n",
    "    print('utilizing citeseq data')\n",
    "    #read citeseq data and normal data\n",
    "    logging.info('Reading Gene Expression Data...')\n",
    "    adata = bc.st.read_matrix(root_path, citeseq = 'gex_only')\n",
    "    logging.info('Reading Citeseq Data...')\n",
    "    adata_prot = bc.st.read_matrix(root_path, citeseq = 'citeseq_only')\n",
    "else:\n",
    "    #read data\n",
    "    adata = bc.st.read_matrix(root_path, citeseq = None)"
   ]
  },
  {
   "cell_type": "code",
   "execution_count": 11,
   "metadata": {},
   "outputs": [
    {
     "name": "stderr",
     "output_type": "stream",
     "text": [
      "/Users/kohlem13/micromamba/envs/besca_3.8/lib/python3.8/site-packages/besca/pp/_fraction_counts.py:64: ImplicitModificationWarning:\n",
      "\n",
      "Trying to modify attribute `.obs` of view, initializing view as actual.\n",
      "\n"
     ]
    }
   ],
   "source": [
    "#calculate mitochondrial gene content\n",
    "bc.pp.fraction_counts(adata=adata, species=species)"
   ]
  },
  {
   "cell_type": "markdown",
   "metadata": {
    "toc-hr-collapsed": true,
    "toc-nb-collapsed": true
   },
   "source": [
    "### Visualization of quality control plots and selected filtering parameters"
   ]
  },
  {
   "cell_type": "markdown",
   "metadata": {},
   "source": [
    "#### Count occurrence\n",
    "\n",
    "This plot shows cell counts per sample"
   ]
  },
  {
   "cell_type": "code",
   "execution_count": 12,
   "metadata": {},
   "outputs": [
    {
     "data": {
      "text/plain": [
       "<AxesSubplot:xlabel='Counts'>"
      ]
     },
     "execution_count": 12,
     "metadata": {},
     "output_type": "execute_result"
    },
    {
     "data": {
      "image/png": "[encoded data removed]",
      "text/plain": [
       "<Figure size 432x288 with 1 Axes>"
      ]
     },
     "metadata": {
      "image/png": {
       "height": 267,
       "width": 392
      },
      "needs_background": "light"
     },
     "output_type": "display_data"
    }
   ],
   "source": [
    "temp=bc.tl.count_occurrence(adata,split_condition)\n",
    "sns.barplot(y=temp.index,x=temp.Counts,color='gray',orient='h')"
   ]
  },
  {
   "cell_type": "markdown",
   "metadata": {},
   "source": [
    "#### Transcript capture efficiency\n",
    "\n",
    "This plot gives you an idea about the sequencing depth and if the sequencing has reached saturation or not.\n",
    "- Each dot represents a gene. \n",
    "- X-axis: Total gene count across all cells\n",
    "- Y-axis: Proportion of cells the gene is detected in\n",
    "- There are non-linear ranges where the genecounts are too low to get a reasonable detection\n",
    "probability (this is basically below the sensitivity threshold) "
   ]
  },
  {
   "cell_type": "code",
   "execution_count": 19,
   "metadata": {},
   "outputs": [
    {
     "data": {
      "image/png": "[encoded data removed]",
      "text/plain": [
       "<Figure size 576x360 with 1 Axes>"
      ]
     },
     "metadata": {
      "image/png": {
       "height": 375,
       "width": 574
      },
      "needs_background": "light"
     },
     "output_type": "display_data"
    }
   ],
   "source": [
    "fig, ax = plt.subplots(1)\n",
    "fig.set_figwidth(8)\n",
    "fig.set_figheight(5)\n",
    "fig.tight_layout()\n",
    "\n",
    "bc.pl.transcript_capture_efficiency(adata,ax=ax)\n",
    "fig.savefig(os.path.join(results_folder, 'figures/transcriptcaptureefficiency.png'), format='png', bbox_inches = 'tight') #save figure for QC report"
   ]
  },
  {
   "cell_type": "markdown",
   "metadata": {},
   "source": [
    "#### Library size distribution\n",
    "\n",
    "This plot gives you an idea about the library size distribution in your dataset before processing."
   ]
  },
  {
   "cell_type": "code",
   "execution_count": null,
   "metadata": {},
   "outputs": [],
   "source": [
    "fig = bc.pl.librarysize_overview(adata, bins=100)\n",
    "fig.savefig(os.path.join(results_folder, 'figures/librarysize.png'), format='png', bbox_inches = 'tight') #save figure for QC report"
   ]
  },
  {
   "cell_type": "code",
   "execution_count": null,
   "metadata": {},
   "outputs": [],
   "source": [
    "adata_unfiltered = adata.copy()"
   ]
  },
  {
   "cell_type": "markdown",
   "metadata": {},
   "source": [
    "#### The effect of filtering parameters"
   ]
  },
  {
   "cell_type": "code",
   "execution_count": null,
   "metadata": {},
   "outputs": [],
   "source": [
    "fig, ((ax1, ax2, ax3), (ax4, ax5, ax6)) = plt.subplots(ncols=3, nrows=2)\n",
    "fig.set_figwidth(17)\n",
    "fig.set_figheight(9)\n",
    "fig.tight_layout(pad=4.5)\n",
    "\n",
    "bc.pl.kp_genes(adata, min_genes=standard_min_genes, ax = ax1)\n",
    "bc.pl.kp_counts(adata, min_counts=standard_min_counts, ax = ax2)\n",
    "bc.pl.kp_cells(adata, min_cells=standard_min_cells, ax = ax3)\n",
    "bc.pl.max_genes(adata, max_genes=standard_n_genes, ax = ax4)\n",
    "bc.pl.max_mito(adata, max_mito=standard_percent_mito, annotation_type='SYMBOL', species=species, ax = ax5)\n",
    "bc.pl.max_counts(adata, max_counts=standard_max_counts, ax=ax6)\n",
    "fig.savefig(os.path.join(results_folder, 'figures/filtering_thresholds.png'), format='png', bbox_inches = 'tight') #save figure for QC report"
   ]
  },
  {
   "cell_type": "markdown",
   "metadata": {},
   "source": [
    "#### Scanpy plots of genes, counts, and mitochondria gene counts"
   ]
  },
  {
   "cell_type": "code",
   "execution_count": null,
   "metadata": {},
   "outputs": [],
   "source": [
    "sc.pl.violin(adata, ['n_genes', 'n_counts', 'percent_mito'], jitter=0.2, multi_panel=True, save = '.before_filtering.png')"
   ]
  },
  {
   "cell_type": "markdown",
   "metadata": {},
   "source": [
    "#### Mitochondrial genes, genes, and counts by samples grouped by the split condition"
   ]
  },
  {
   "cell_type": "code",
   "execution_count": null,
   "metadata": {},
   "outputs": [],
   "source": [
    "sc.pl.violin(adata, ['percent_mito','n_genes', 'n_counts'], groupby=split_condition,jitter=0.1,rotation=90, save = '.before_filtering.split.png')"
   ]
  },
  {
   "cell_type": "markdown",
   "metadata": {},
   "source": [
    "### Filtering\n",
    "\n",
    "#### Filtering with thresholds of gene and cell counts"
   ]
  },
  {
   "cell_type": "code",
   "execution_count": null,
   "metadata": {},
   "outputs": [],
   "source": [
    "%%capture filtering1\n",
    "adata = bc.st.filtering_cells_genes_min(adata, standard_min_cells, standard_min_genes, standard_min_counts)"
   ]
  },
  {
   "cell_type": "code",
   "execution_count": null,
   "metadata": {},
   "outputs": [],
   "source": [
    "filtering1.show()"
   ]
  },
  {
   "cell_type": "markdown",
   "metadata": {},
   "source": [
    "#### Filtering with thresholds of proportion of mitochondrial genes and the upper limit of gene counts"
   ]
  },
  {
   "cell_type": "code",
   "execution_count": null,
   "metadata": {},
   "outputs": [],
   "source": [
    "%%capture filtering2\n",
    "adata = bc.st.filtering_mito_genes_max(adata, standard_percent_mito, standard_n_genes, standard_max_counts)"
   ]
  },
  {
   "cell_type": "code",
   "execution_count": null,
   "metadata": {},
   "outputs": [],
   "source": [
    "filtering2.show()"
   ]
  },
  {
   "cell_type": "markdown",
   "metadata": {},
   "source": [
    "#### Visualising QC metrics of the filtered dataset"
   ]
  },
  {
   "cell_type": "code",
   "execution_count": null,
   "metadata": {},
   "outputs": [],
   "source": [
    "sc.pl.violin(adata, ['n_genes', 'n_counts', 'percent_mito'], jitter=0.2, multi_panel=True, save = '.after_filtering.png')"
   ]
  },
  {
   "cell_type": "code",
   "execution_count": null,
   "metadata": {},
   "outputs": [],
   "source": [
    "adata.var"
   ]
  },
  {
   "cell_type": "code",
   "execution_count": null,
   "metadata": {},
   "outputs": [],
   "source": [
    "# check mitochondrial reads per sample \n",
    "sc.pl.violin(adata, ['percent_mito','n_genes', 'n_counts'], groupby=split_condition,jitter=0.1,rotation=90, save = '.after_filtering.split.png')"
   ]
  },
  {
   "cell_type": "code",
   "execution_count": null,
   "metadata": {},
   "outputs": [],
   "source": [
    "# cell counts per sample\n",
    "temp=bc.tl.count_occurrence(adata,split_condition)\n",
    "sns.barplot(y=temp.index,x=temp.Counts,color='gray',orient='h')"
   ]
  },
  {
   "cell_type": "code",
   "execution_count": null,
   "metadata": {},
   "outputs": [],
   "source": [
    "#display the top 25 genes in the dataset\n",
    "fig, ax = plt.subplots(ncols=1, nrows=1, figsize = (8, 6))\n",
    "bc.pl.top_genes_counts(adata=adata, top_n=25, ax = ax )\n",
    "fig.savefig(os.path.join(results_folder, 'figures/top_genes.png'), format='png', bbox_inches = 'tight') #save figure for QC report"
   ]
  },
  {
   "cell_type": "code",
   "execution_count": null,
   "metadata": {},
   "outputs": [],
   "source": [
    "adata.var"
   ]
  },
  {
   "cell_type": "code",
   "execution_count": null,
   "metadata": {},
   "outputs": [],
   "source": [
    "# Export adata object with raw counts and filtered cells/genes (might be needed by other analyses)\n",
    "adata.write(results_file_raw)"
   ]
  },
  {
   "cell_type": "markdown",
   "metadata": {},
   "source": [
    "### Per-cell normalization and output of the normalized data"
   ]
  },
  {
   "cell_type": "code",
   "execution_count": null,
   "metadata": {},
   "outputs": [],
   "source": [
    "adata = bc.st.per_cell_normalize(adata, results_folder)"
   ]
  },
  {
   "cell_type": "markdown",
   "metadata": {},
   "source": [
    "We perform an additional QC, which checks the dynamic range of ubiquitously expressed marker genes."
   ]
  },
  {
   "cell_type": "code",
   "execution_count": null,
   "metadata": {},
   "outputs": [],
   "source": [
    "# Further QC: dynamic range of ubi/marker genes\n",
    "fig = plt.figure()\n",
    "sns.set(font_scale=0.8)\n",
    "plt.style.use('seaborn-white')\n",
    "fig = plt.figure(figsize=(len(dynrange)*2.8,2))\n",
    "fig.subplots_adjust(hspace=0.2, wspace=0.35)\n",
    "for i in range(1,len(dynrange)+1):\n",
    "    ax = fig.add_subplot(1, len(dynrange), i)\n",
    "    myg=dynrange[i-1]\n",
    "    plt_t = 'log.cp10k'\n",
    "    try:\n",
    "        g=sns.distplot(adata.raw[:,myg].X.toarray(), norm_hist=True)\n",
    "        ax.set(xlabel=plt_t,ylabel=myg)\n",
    "        g.set_xlim(-1, 7)\n",
    "    except:\n",
    "        print( myg + ' can not be plotted')"
   ]
  },
  {
   "cell_type": "markdown",
   "metadata": {},
   "source": [
    "### Feature selection (highly variable genes) for clustering ###"
   ]
  },
  {
   "cell_type": "code",
   "execution_count": null,
   "metadata": {},
   "outputs": [],
   "source": [
    "adata = bc.st.highly_variable_genes(adata)"
   ]
  },
  {
   "cell_type": "markdown",
   "metadata": {},
   "source": [
    "### Data scaling ###"
   ]
  },
  {
   "cell_type": "code",
   "execution_count": null,
   "metadata": {},
   "outputs": [],
   "source": [
    "adata "
   ]
  },
  {
   "cell_type": "code",
   "execution_count": null,
   "metadata": {},
   "outputs": [],
   "source": [
    "sc.pp.scale(adata, max_value=10, copy=False)"
   ]
  },
  {
   "cell_type": "markdown",
   "metadata": {},
   "source": [
    "### PCA-based neighborhood analysis and UMAP with optional batch correction\n",
    "\n",
    "We use the Batch Balanced K-Nearest Neighbourhood (bbknn, [Teichlab/bbknn](https://github.com/Teichlab/bbknn)) method as the batch correction method."
   ]
  },
  {
   "cell_type": "code",
   "execution_count": null,
   "metadata": {},
   "outputs": [],
   "source": [
    "if (batch_to_correct != 'None'):\n",
    "    #save a copy of uncorrected in case we need it for something later\n",
    "    adata_uncorrected = adata.copy()\n",
    "    adata.obs['batch'] = adata.obs[batch_to_correct]\n",
    "    adata = bc.st.pca_neighbors_umap(adata,results_folder, method='bbknn')\n",
    "else:\n",
    "    adata = bc.st.pca_neighbors_umap(adata, results_folder)\n"
   ]
  },
  {
   "cell_type": "markdown",
   "metadata": {},
   "source": [
    "### Clustering"
   ]
  },
  {
   "cell_type": "code",
   "execution_count": null,
   "metadata": {},
   "outputs": [],
   "source": [
    "# leiden clustering is the default \n",
    "adata = bc.st.clustering(adata, results_folder)"
   ]
  },
  {
   "cell_type": "code",
   "execution_count": null,
   "metadata": {},
   "outputs": [],
   "source": [
    "adata.var"
   ]
  },
  {
   "cell_type": "code",
   "execution_count": null,
   "metadata": {},
   "outputs": [],
   "source": [
    "# everything that was done so far goes to the .h5ad file for later use\n",
    "adata.write(results_file)\n",
    "print(results_file)"
   ]
  },
  {
   "cell_type": "code",
   "execution_count": null,
   "metadata": {},
   "outputs": [],
   "source": [
    "marker = [x for x in example_markers if x in adata.raw.var_names ] \n",
    "if len(marker) >0 :\n",
    "    sc.pl.umap( adata, color = marker , color_map = 'viridis')"
   ]
  },
  {
   "cell_type": "markdown",
   "metadata": {},
   "source": [
    "### Additional Labeling ###\n",
    "\n",
    "If `labeling_to_use` is specified, additional labels are taken from annotations in \"metadata.tsv\", and the data associated with additional labelling will be exported to files. And the fract_pos.gct and average.gct files are generated."
   ]
  },
  {
   "cell_type": "code",
   "execution_count": null,
   "metadata": {},
   "outputs": [],
   "source": [
    "if (labeling_to_use != 'None'):\n",
    "    adata = bc.st.additional_labeling(adata, labeling_to_use, labeling_name, labeling_description, labeling_author, results_folder)"
   ]
  },
  {
   "cell_type": "markdown",
   "metadata": {},
   "source": [
    "### CiteSeq Standard Wokflow (only executed if applicable)"
   ]
  },
  {
   "cell_type": "markdown",
   "metadata": {},
   "source": [
    "#### ADT normalization"
   ]
  },
  {
   "cell_type": "code",
   "execution_count": null,
   "metadata": {},
   "outputs": [],
   "source": [
    "if citeseq:\n",
    "    if all(adata.obs_names.isin(adata_prot.obs_names)):\n",
    "        logging.info('Performing analysis of Citeseq Data.')\n",
    "        sc.settings.figdir = os.path.join(results_folder_citeseq, 'citeseq','figures') #update results directory\n",
    "        start_citeseq = time.time()\n",
    "        \n",
    "        #apply filtering from gex to citeseq data\n",
    "        cells = adata.obs_names.to_list()\n",
    "        adata_prot_unfiltered= adata_prot\n",
    "        adata_prot_unfiltered._X=adata_prot_unfiltered.X\n",
    "        adata_prot = adata_prot[[x in cells for x in adata_prot.obs_names.tolist()], :]\n",
    "        adata_prot.obs.index = cells\n",
    "        #adata_prot = adata_prot[[str(x) in cells for x in adata_prot.obs_names.tolist()], :]\n",
    "        \n",
    "        #generate a QC plot \n",
    "        n_prots = len(adata_prot.var_names)\n",
    "        percent_top = (int(round(0.01*n_prots, 0)) if int(round(0.01*n_prots, 0)) >= 1 else 1, int(round(0.1*n_prots, 0)), int(round(0.25*n_prots, 0)))\n",
    "        qc_adata = sc.pp.calculate_qc_metrics(adata_prot, percent_top=percent_top, var_type=\"antibodies\", inplace=False)\n",
    "        fig = sns.jointplot(\"log1p_total_counts\", \"n_antibodies_by_counts\", qc_adata[0], kind=\"hex\", norm=mpl.colors.LogNorm())\n",
    "        fig.savefig(os.path.join(results_folder_citeseq, 'citeseq', 'figures', 'CITESEQ_QC_plot.png'))\n",
    "        \n",
    "        #generate overview of n_counts\n",
    "        adata_prot.obs['n_counts'] = adata_prot.X.sum(axis=1)  \n",
    "        \n",
    "        #save counts into a layer\n",
    "        adata_prot.layers[\"counts\"] = adata_prot.X.copy()\n",
    "        \n",
    "        #perform normalization (this normalization is specific to CITEseq data)\n",
    "        if adt_norm == 'CLR':\n",
    "            bc.st.clr_normalize(adata_prot, os.path.join(results_folder_citeseq, 'citeseq'))\n",
    "\n",
    "        #perform batch correction if desired otherwise just perform clustering\n",
    "        if (batch_to_correct != 'None'):\n",
    "            #save a copy of uncorrected in case we need it for something later\n",
    "            adata_prot_uncorrected = adata_prot.copy()\n",
    "            adata_prot.obs['batch'] = adata_prot.obs[batch_to_correct]\n",
    "            \n",
    "            if n_prots < 50:\n",
    "                nrpcs = n_prots - 1\n",
    "            else:\n",
    "                nrpcs = 50\n",
    "            \n",
    "            #important: nrpcs_neigh = 0, uses all input components not the calculated PCs\n",
    "            adata_prot = bc.st.pca_neighbors_umap(adata_prot, os.path.join(results_folder_citeseq, 'citeseq'), method='bbknn', nrpcs = nrpcs, nrpcs_neigh=0)\n",
    "        else:\n",
    "            \n",
    "            if n_prots < 50:\n",
    "                nrpcs = n_prots - 1\n",
    "            else:\n",
    "                nrpcs = 50\n",
    "            \n",
    "            #important: nrpcs_neigh = 0, uses all input components not the calculated PCs\n",
    "            adata_prot = bc.st.pca_neighbors_umap(adata_prot, os.path.join(results_folder_citeseq, 'citeseq'), nrpcs = nrpcs, nrpcs_neigh=0)\n",
    "            \n",
    "        #perform clustering\n",
    "        adata_prot = bc.st.clustering(adata_prot, os.path.join(results_folder_citeseq, 'citeseq'))\n",
    "        \n",
    "        #save to file\n",
    "        adata_prot.write(results_file_citeseq)\n",
    "        logging.info('Citeseq analysis written to file: '+ results_file_citeseq)\n",
    "        \n",
    "        logging.info('Time for Citeseq analysis: '+str(round(time.time()-start_citeseq, 3))+'s')\n",
    "        \n",
    "        #generate a merged file which contains both the citeseq data and the gene expression data\n",
    "        # (with clustering on gene expression data only)\n",
    "        logging.info('Generating a merged adata object which contains both gene expression and citeseq data. Clustering and UMAP visualization were calculated using only the gene expression values as input.')\n",
    "        sc.settings.figdir = os.path.join(results_folder_merged, 'figures') #update results directory\n",
    "        start_merge = time.time()\n",
    "        adata_prot.obs.CELL = adata_prot.obs.index\n",
    "        adata.obs.CELL = adata.obs.index\n",
    "        adata_merged = bc.concate_adata(adata, adata_prot)\n",
    "        \n",
    "        \n",
    "        #add calculated values\n",
    "        adata_merged.obsm['X_umap'] = adata.obsm['X_umap']\n",
    "        adata_merged.obsm['X_pca'] = adata.obsm['X_pca']\n",
    "        adata_merged.uns['neighbors'] = adata.uns['neighbors']\n",
    "        \n",
    "        #add leiden clustering of protein back in.\n",
    "        adata_merged.obs['leiden_citeseq'] = adata_prot.obs[\"leiden\"]\n",
    "        \n",
    "        #add protein calculated embedding\n",
    "        adata_merged.obsm[\"protein\"] = adata_prot.to_df()\n",
    "        adata_merged.obsm[\"umap_citeseq\"] = adata_prot.obsm[\"X_umap\"]\n",
    "        \n",
    "        #replace NaN with False for HVGs, otherwise error upon output\n",
    "        adata_merged.var['highly_variable']=adata_merged.var['highly_variable'].fillna(False)\n",
    "\n",
    "        logging.info('Protein based embeddings were also saved into the object and can be plotted using sc.pl.embeddings')\n",
    "\n",
    "    else:\n",
    "        print(\"Please set adata.obs_names equal to adata_prot.obs_names.\")\n",
    "   "
   ]
  },
  {
   "cell_type": "code",
   "execution_count": null,
   "metadata": {},
   "outputs": [],
   "source": [
    "if citeseq:\n",
    "    #adding metadata of RNA based on protein clustering\n",
    "    bc.st.additional_labeling(adata_merged, 'leiden_citeseq', 'leiden_citeseq', labeling_description, labeling_author,  os.path.join(results_folder_citeseq, 'citeseq'))\n",
    "    bc.st.additional_labeling(adata_merged, 'leiden', 'leiden', labeling_description, labeling_author,  os.path.join(results_folder_citeseq, 'citeseq'))\n"
   ]
  },
  {
   "cell_type": "markdown",
   "metadata": {},
   "source": [
    "#### Visualization of ADT expression"
   ]
  },
  {
   "cell_type": "markdown",
   "metadata": {},
   "source": [
    "Raw CITE-seq values:"
   ]
  },
  {
   "cell_type": "code",
   "execution_count": null,
   "metadata": {},
   "outputs": [],
   "source": [
    "if citeseq:\n",
    "    mym=list(adata_prot.var_names)\n",
    "    fig, ax = plt.subplots(figsize=(12,2*round(len(mym)/4)))\n",
    "    sns.set(font_scale=1) \n",
    "    fig.subplots_adjust(hspace=1, wspace=0.4)\n",
    "    plt.axis('off')\n",
    "    for i in range(1, len(mym)+1):\n",
    "        ax = fig.add_subplot(round(len(mym)/3), 4, i)\n",
    "        ax=sns.distplot(adata_prot.layers['counts'].toarray()[:,adata_prot.var_names==mym[i-1]])\n",
    "        ax=ax.set_title(mym[i-1])"
   ]
  },
  {
   "cell_type": "markdown",
   "metadata": {},
   "source": [
    "Normalized values:"
   ]
  },
  {
   "cell_type": "code",
   "execution_count": null,
   "metadata": {},
   "outputs": [],
   "source": [
    "if citeseq:\n",
    "    #### Plot the norm values ####\n",
    "    mym=list(adata_prot.var_names)\n",
    "    fig, ax = plt.subplots(figsize=(12,2*round(len(mym)/4)))\n",
    "    sns.set(font_scale=1) \n",
    "    fig.subplots_adjust(hspace=1, wspace=0.4)\n",
    "    plt.axis('off')\n",
    "    for i in range(1, len(mym)+1):\n",
    "        ax = fig.add_subplot(round(len(mym)/3), 4, i)\n",
    "        ax=sns.distplot(adata_prot.X[:,adata_prot.var_names==mym[i-1]])\n",
    "        ax=ax.set_title(mym[i-1])"
   ]
  },
  {
   "cell_type": "markdown",
   "metadata": {},
   "source": [
    "#### Clusters comparison"
   ]
  },
  {
   "cell_type": "markdown",
   "metadata": {},
   "source": [
    "Comparison of clusters between the clustering done on RNA and on ADT. The choice of clustering can be important for the annotation notebook, which can be based on one of the two. \n",
    "\n",
    "**For datasets with less than 10 antibodies, it is highly advised to choose the RNA-based clustering.**"
   ]
  },
  {
   "cell_type": "code",
   "execution_count": null,
   "metadata": {},
   "outputs": [],
   "source": [
    "if citeseq:\n",
    "    sc.settings.set_figure_params(dpi=80)\n",
    "    sc.pl.umap(adata_merged, color=[\"leiden\", \"leiden_citeseq\"], wspace = 0.5, save = '.rna_umap.clustering_results_rna_citeseq.png')\n",
    "    sc.pl.embedding(adata_merged, basis=\"umap_citeseq\", color=[\"leiden\", \"leiden_citeseq\"], wspace = 0.5,  save = '.citeseq_umap.clustering_results_rna_citeseq.png')"
   ]
  },
  {
   "cell_type": "code",
   "execution_count": null,
   "metadata": {},
   "outputs": [],
   "source": [
    "if citeseq:\n",
    "    bc.pl.riverplot_2categories(adata_merged, ['leiden', 'leiden_citeseq'])"
   ]
  },
  {
   "cell_type": "code",
   "execution_count": null,
   "metadata": {},
   "outputs": [],
   "source": [
    "if citeseq:    \n",
    "    #save to file\n",
    "    adata_merged.write(results_file_merged)\n",
    "    logging.info('Merged Citeseq anndata object written to file: '+ results_file_merged)\n",
    "    logging.info('Time for generation of merged anndata object: '+str(round(time.time()-start_merge, 3))+'s')"
   ]
  },
  {
   "cell_type": "markdown",
   "metadata": {},
   "source": [
    "### Complete the log-file"
   ]
  },
  {
   "cell_type": "code",
   "execution_count": null,
   "metadata": {},
   "outputs": [],
   "source": [
    "logging.info('Entire workflow completed.')\n",
    "logging.info('\\tTime for entire workflow: '+str(round(time.time()-start0, 3))+'s')"
   ]
  },
  {
   "cell_type": "markdown",
   "metadata": {},
   "source": [
    "### Write QC Report"
   ]
  },
  {
   "cell_type": "code",
   "execution_count": null,
   "metadata": {},
   "outputs": [],
   "source": [
    "bc.st.write_qc(adata_unfiltered = adata_unfiltered, \n",
    "                 adata_filtered = adata,\n",
    "                 version = version, \n",
    "                 analysis_name = analysis_name, \n",
    "                 standard_min_genes = standard_min_genes, \n",
    "                 standard_min_cells = standard_min_cells, \n",
    "                 standard_min_counts = standard_min_counts, \n",
    "                 standard_percent_mito = standard_percent_mito, \n",
    "                 standard_max_counts = standard_max_counts,\n",
    "                 standard_n_genes = standard_n_genes,\n",
    "                 filtering_output1 = filtering1,\n",
    "                 filtering_output2 = filtering2,\n",
    "                 results_folder = results_folder,\n",
    "                 css_path = os.path.join(os.path.dirname(bc.__file__),'st', 'style.css'))\n",
    "logging.info('QC Report generated and saved as .html')"
   ]
  },
  {
   "cell_type": "markdown",
   "metadata": {},
   "source": [
    "### Session info\n",
    "\n",
    "Finally, we report the session info with the package [sinfo](https://gitlab.com/joelostblom/sinfo)."
   ]
  },
  {
   "cell_type": "code",
   "execution_count": null,
   "metadata": {},
   "outputs": [],
   "source": [
    "%%capture session_info\n",
    "sinfo()\n"
   ]
  },
  {
   "cell_type": "code",
   "execution_count": null,
   "metadata": {},
   "outputs": [],
   "source": [
    "logging.info(session_info)"
   ]
  },
  {
   "cell_type": "markdown",
   "metadata": {},
   "source": [
    "### Convert to html"
   ]
  },
  {
   "cell_type": "code",
   "execution_count": null,
   "metadata": {},
   "outputs": [],
   "source": [
    "bc.convert_notebook_to_HTML()"
   ]
  }
 ],
 "metadata": {
  "kernelspec": {
   "display_name": "Python 3.8.13",
   "language": "python",
   "name": "python3"
  },
  "language_info": {
   "codemirror_mode": {
    "name": "ipython",
    "version": 3
   },
   "file_extension": ".py",
   "mimetype": "text/x-python",
   "name": "python",
   "nbconvert_exporter": "python",
   "pygments_lexer": "ipython3",
   "version": "3.8.13"
  },
  "toc": {
   "base_numbering": 1,
   "nav_menu": {},
   "number_sections": true,
   "sideBar": true,
   "skip_h1_title": false,
   "title_cell": "Table of Contents",
   "title_sidebar": "Contents",
   "toc_cell": true,
   "toc_position": {},
   "toc_section_display": true,
   "toc_window_display": true
  },
  "vscode": {
   "interpreter": {
    "hash": "b9dea2d003d87676325b87da227df116e4cd201f5bea5c1857be972557bccd45"
   }
  }
 },
 "nbformat": 4,
 "nbformat_minor": 4
}
