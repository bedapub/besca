{
 "cells": [
  {
   "cell_type": "markdown",
   "metadata": {},
   "source": [
    "# Annotating Cell Types\n",
    "\n",
    "This workbook can be run after the standard workflow.\n",
    "It is demonstrating how to use the  annotation function to annotate the dataset that was runned through the standard worflow.\n",
    "\n",
    "In this notebook, we will show how to use in-besca annotation to assign cell type to clusters.\n",
    "We focus on immune celltype and demonstrate signature-scoring functions.\n",
    "\n",
    "\n",
    "An alternative in the case a an annotated training dataset already exists is to use the auto-annot module. Please refer to the corresponding tutorial."
   ]
  },
  {
   "cell_type": "code",
   "execution_count": null,
   "metadata": {
    "scrolled": true
   },
   "outputs": [],
   "source": [
    "import besca as bc\n",
    "import numpy as np\n",
    "import pandas as pd\n",
    "import scanpy.api as sc\n",
    "import matplotlib.pyplot as plt\n",
    "from scipy import sparse, io\n",
    "import os\n",
    "import time\n",
    "import logging\n",
    "import seaborn as sns\n",
    "sc.logging.print_versions()\n",
    "\n",
    "# for standard processing, set verbosity to minimum\n",
    "sc.settings.verbosity = 0  # verbosity: errors (0), warnings (1), info (2), hints (3)\n",
    "sc.settings.set_figure_params(dpi=80)\n",
    "version = '2.8'\n",
    "start0 = time.time()"
   ]
  },
  {
   "cell_type": "code",
   "execution_count": null,
   "metadata": {
    "scrolled": true
   },
   "outputs": [],
   "source": [
    "#define standardized filepaths based on above input\n",
    "root_path = os.getcwd()\n",
    "bescapath_full = os.path.dirname(bc.__file__)\n",
    "bescapath = os.path.split(bescapath_full)[0]\n",
    "\n",
    "### Uncomment this when running after the standard workflow\n",
    "analysis_name = 'standard_workflow_besca2.0'\n",
    "\n",
    "clusters='leiden'\n",
    "\n",
    "\n"
   ]
  },
  {
   "cell_type": "markdown",
   "metadata": {},
   "source": [
    "The chunk of code below is usefull if this is the initial installation of besca and that you are running this notebook as a test. It will download if needed the test datasets and export the labelling. \n",
    "This export is usually done at the end of the standard workflow. Exported files  are necessary for the annotations."
   ]
  },
  {
   "cell_type": "code",
   "execution_count": null,
   "metadata": {
    "scrolled": true
   },
   "outputs": [],
   "source": [
    "use_example_dataset = True\n",
    "if use_example_dataset:\n",
    "    analysis_name='pbmc3k_processed'\n",
    "    results_folder = os.path.split(os.getcwd())[0] + '/besca/datasets/data/'\n",
    "    clusters='leiden'\n",
    "# This line will either download, or load the datasets\n",
    "    adata = bc.datasets.pbmc3k_processed()\n",
    "    # This line export the annotation for the annotation.\n",
    "    adata = bc.st.additional_labeling(adata, labeling_to_use= clusters, labeling_name = clusters, \n",
    "                                      labeling_description = 'Exporting a postori the labels for annotation',\n",
    "                                      labeling_author = 'Testing', \n",
    "                                      results_folder= results_folder)\n",
    "else:\n",
    "    results_folder = os.path.join(root_path, 'analyzed', analysis_name)\n",
    "    adata = sc.read_h5ad(os.path.join(results_folder, analysis_name + '.h5ad') )\n"
   ]
  },
  {
   "cell_type": "code",
   "execution_count": null,
   "metadata": {},
   "outputs": [],
   "source": [
    "sc.pl.umap(adata, color= [clusters], legend_loc='on data')"
   ]
  },
  {
   "cell_type": "code",
   "execution_count": null,
   "metadata": {},
   "outputs": [],
   "source": [
    "# One can load besca-provided signatures using the function below\n",
    "signature_dict = bc.datasets.load_immune_signatures(refined=False)\n",
    "\n",
    "signature_dict"
   ]
  },
  {
   "cell_type": "markdown",
   "metadata": {},
   "source": [
    "Additionaly it is possible to read an compute scanpy score using this function below.\n",
    "\n",
    "If the gmt file is composed of combined signature (UP and DN), a common score will be computed: \n",
    "$$Total\\_SCORE= Score_{UP} - Score_{DN}$$"
   ]
  },
  {
   "cell_type": "code",
   "execution_count": null,
   "metadata": {
    "scrolled": true
   },
   "outputs": [],
   "source": [
    "\n",
    "gmt_file= bescapath + '/besca/datasets/genesets/Immune.gmt'\n",
    "bc.tl.sig.combined_signature_score(adata, gmt_file,\n",
    "                             UP_suffix='_UP', DN_suffix='_DN', method='scanpy',\n",
    "                             overwrite=False, verbose=False,\n",
    "                             use_raw=True, conversion=None)"
   ]
  },
  {
   "cell_type": "code",
   "execution_count": null,
   "metadata": {
    "scrolled": true
   },
   "outputs": [],
   "source": [
    "scores = [x for x in adata.obs.columns if 'scanpy' in x]"
   ]
  },
  {
   "cell_type": "code",
   "execution_count": null,
   "metadata": {
    "scrolled": true
   },
   "outputs": [],
   "source": [
    "sc.pl.umap(adata, color= scores)"
   ]
  },
  {
   "cell_type": "markdown",
   "metadata": {},
   "source": [
    "# Immune signatures for specific sub-populations"
   ]
  },
  {
   "cell_type": "code",
   "execution_count": null,
   "metadata": {
    "scrolled": true
   },
   "outputs": [],
   "source": [
    " ## PROVIDED WITH BESCA\n",
    "gmt_file_anno= bescapath + '/besca/datasets/genesets/CellNames_scseqCMs6_sigs.gmt'\n",
    "bc.tl.sig.combined_signature_score(adata, gmt_file_anno)\n"
   ]
  },
  {
   "cell_type": "code",
   "execution_count": null,
   "metadata": {
    "scrolled": true
   },
   "outputs": [],
   "source": [
    "scores = [x for x in adata.obs.columns if 'scanpy' in x]\n",
    "sc.pl.umap(adata, color= scores, color_map = 'viridis')"
   ]
  },
  {
   "cell_type": "markdown",
   "metadata": {
    "toc-hr-collapsed": true
   },
   "source": [
    "# Automated annotation\n",
    "\n",
    "A decision-tree-based annotation that reads signatures from a provided .gmt file and hierarchy as well as cutoffs and signature ordering from a configuration file and attributes each cell to a specific type according to signature enrichment. \n",
    "\n",
    "This is an aid to start ther annotation and annotation can then be further refined by adding further signatures or adjusting the configuration files. It was tested mainly on PBMCs and oncology (tumor biopsies) related samples.\n"
   ]
  },
  {
   "cell_type": "markdown",
   "metadata": {},
   "source": [
    "## Loading markers and signature"
   ]
  },
  {
   "cell_type": "code",
   "execution_count": null,
   "metadata": {},
   "outputs": [],
   "source": [
    "mymarkers = bc.tl.sig.read_GMT_sign(gmt_file_anno,directed=False)\n",
    "mymarkers = bc.tl.sig.filter_siggenes(adata, mymarkers) ### remove genes not present in dataset or empty signatures\n",
    "mymarkers['Ubi'] = ['B2M','ACTB', 'GAPDH'] ### used for cutoff adjustment to individual dataset, can be modified"
   ]
  },
  {
   "cell_type": "code",
   "execution_count": null,
   "metadata": {
    "scrolled": true
   },
   "outputs": [],
   "source": [
    "sc.pl.umap(adata, color= mymarkers['NClassMonocyte'])"
   ]
  },
  {
   "cell_type": "markdown",
   "metadata": {},
   "source": [
    "## Configuration of the annotation\n",
    "\n",
    "We read the configuration file, containing hierarchy, cutoff and signature priority information. \n",
    "A new version of this file should be created and maintained with each annotation. \n",
    "The included example is optimised for the annotation of the 6.6k PBMC dataset. "
   ]
  },
  {
   "cell_type": "code",
   "execution_count": null,
   "metadata": {},
   "outputs": [],
   "source": [
    "configfile=bescapath + '/besca/datasets/genesets/CellNames_scseqCMs6_config.tsv' ### replace this with your config"
   ]
  },
  {
   "cell_type": "code",
   "execution_count": null,
   "metadata": {},
   "outputs": [],
   "source": [
    "sigconfig,levsk=bc.tl.sig.read_annotconfig(configfile)"
   ]
  },
  {
   "cell_type": "markdown",
   "metadata": {},
   "source": [
    "Fract_pos was exported by BESCA in the standard worflow test, \n",
    "contains information of fraction positive cells per genes per cluster.\n",
    "\n",
    "We use these values as a basis for a wilcoxon test per signature per cluster. "
   ]
  },
  {
   "cell_type": "code",
   "execution_count": null,
   "metadata": {},
   "outputs": [],
   "source": [
    "\n",
    "f=pd.read_csv(results_folder + \"/labelings/\"+clusters+\"/fract_pos.gct\",sep=\"\\t\",skiprows=2)\n",
    "df=bc.tl.sig.score_mw(f,mymarkers)\n",
    "myc=np.median(df.loc['Ubi',:]*0.5) ### Set a cutoff based on Ubi and scale with values from config file\n"
   ]
  },
  {
   "cell_type": "code",
   "execution_count": null,
   "metadata": {},
   "outputs": [],
   "source": [
    "df.iloc[0:3,0:7]"
   ]
  },
  {
   "cell_type": "markdown",
   "metadata": {},
   "source": [
    "For each signature, positive and negative clusters are determined. Only positive clusters are maintained. Cutoffs can be individualised based on the config file (scaling factor) and myc, which is determined based on ubiquitously expressed genes. "
   ]
  },
  {
   "cell_type": "code",
   "execution_count": null,
   "metadata": {},
   "outputs": [],
   "source": [
    "#Cluster attribution based on cutoff\n",
    "df=df.drop('Ubi')\n",
    "sigscores={}\n",
    "for mysig in list(df.index):\n",
    "    sigscores[mysig]=bc.tl.sig.getset(df,mysig,sigconfig.loc[mysig,'Cutoff']*myc)\n",
    "    #sigscores[mysig]=bc.tl.sig.getset(df,mysig,10)"
   ]
  },
  {
   "cell_type": "markdown",
   "metadata": {},
   "source": [
    "One can inspect the cluster attribution per cell type in the signature list and adjust cutoffs as required. "
   ]
  },
  {
   "cell_type": "code",
   "execution_count": null,
   "metadata": {},
   "outputs": [],
   "source": [
    "sigscores"
   ]
  },
  {
   "cell_type": "code",
   "execution_count": null,
   "metadata": {},
   "outputs": [],
   "source": [
    "sc.pl.umap(adata, color= [clusters], legend_loc='on data')"
   ]
  },
  {
   "cell_type": "markdown",
   "metadata": {},
   "source": [
    "Now each cluster gets annotated, according to the distinct levels specified in the config file. \n",
    "Note that in case a cluster is positive for multiple identities, only the first one is taken, \n",
    "in the order specified in the \"Order\" column in the config file. "
   ]
  },
  {
   "cell_type": "markdown",
   "metadata": {},
   "source": [
    "To check the given order, per levels, you can inspect levsk"
   ]
  },
  {
   "cell_type": "code",
   "execution_count": null,
   "metadata": {},
   "outputs": [],
   "source": [
    "levsk"
   ]
  },
  {
   "cell_type": "markdown",
   "metadata": {},
   "source": [
    "## Obtained cluster assignation"
   ]
  },
  {
   "cell_type": "code",
   "execution_count": null,
   "metadata": {},
   "outputs": [],
   "source": [
    "cnames=bc.tl.sig.make_anno(df,sigscores,sigconfig,levsk)"
   ]
  },
  {
   "cell_type": "markdown",
   "metadata": {},
   "source": [
    "We now obtained per each cluster cell type attribution at distinct levels. "
   ]
  },
  {
   "cell_type": "code",
   "execution_count": null,
   "metadata": {},
   "outputs": [],
   "source": [
    "cnames"
   ]
  },
  {
   "cell_type": "markdown",
   "metadata": {},
   "source": [
    "Export the annotation used"
   ]
  },
  {
   "cell_type": "code",
   "execution_count": null,
   "metadata": {},
   "outputs": [],
   "source": [
    "bc.tl.sig.export_annotconfig(sigconfig, levsk, results_folder, analysis_name)"
   ]
  },
  {
   "cell_type": "markdown",
   "metadata": {},
   "source": [
    "## Using db label convention\n",
    "\n",
    "Only short names were used in the signature naming convention in this case. \n",
    "One can easity tranform this to EFO terms if preferred, a conversion table comes with besca. \n",
    "\n",
    "This nomenclature is quite extended, and the function \n",
    "**obtain_dblabel** can perform the conversion."
   ]
  },
  {
   "cell_type": "code",
   "execution_count": null,
   "metadata": {},
   "outputs": [],
   "source": [
    "### transform these short forms to dblabel - EFO standard nomenclature\n",
    "cnamesDBlabel = bc.tl.sig.obtain_dblabel(bescapath+'/besca/datasets/nomenclature/CellTypes_v1.tsv', cnames )\n",
    "cnamesDBlabel"
   ]
  },
  {
   "cell_type": "markdown",
   "metadata": {},
   "source": [
    "Finally, one can add the new labels to adata.obs as annotation. "
   ]
  },
  {
   "cell_type": "code",
   "execution_count": null,
   "metadata": {},
   "outputs": [],
   "source": [
    "adata.obs['celltype0']=bc.tl.sig.add_anno(adata,cnamesDBlabel,'celltype0',clusters)\n",
    "adata.obs['celltype2']=bc.tl.sig.add_anno(adata,cnamesDBlabel,'celltype2',clusters)\n",
    "adata.obs['celltype3']=bc.tl.sig.add_anno(adata,cnamesDBlabel,'celltype3',clusters)"
   ]
  },
  {
   "cell_type": "code",
   "execution_count": null,
   "metadata": {},
   "outputs": [],
   "source": [
    "sc.pl.umap(adata,color=['celltype2']) #,'celltype3'"
   ]
  },
  {
   "cell_type": "code",
   "execution_count": null,
   "metadata": {},
   "outputs": [],
   "source": [
    "sc.pl.umap(adata,color=['celltype3']) #,'celltype3'"
   ]
  },
  {
   "cell_type": "markdown",
   "metadata": {},
   "source": [
    "# Reclustering sub-clusters \n",
    "\n",
    "Sometimes, clusters appears to be of mix cells type. For example, for PBM3K, the lymphocyte clusters are mixed.  In this case, one can try to increase clustering resolution or recluster specifically on those clusters.\n",
    "Below we show an example.\n",
    "\n",
    "The main steps are:\n",
    "+ saving previous clustering and annotation for comparison purpose (advised)\n",
    "+ recluster \n",
    "+ Export the new labelling (see function additional_labeling)\n",
    "+ Read the new labelling information including fract_pos files.\n",
    "+ Recompute signatures/markers values\n",
    "+ Reannotate\n",
    "+ Convert annotation to dblabel\n",
    "+ Export all for the data subset to the larger adata object."
   ]
  },
  {
   "cell_type": "code",
   "execution_count": null,
   "metadata": {},
   "outputs": [],
   "source": [
    "recluster = False\n",
    "\n",
    "if use_example_dataset:\n",
    "    recluster = True\n",
    "    celltype_label = 'celltype2_original'\n",
    "    to_recluster =  ('CD8-positive, alpha-beta T cell','CD4-positive, alpha-beta T cell',\n",
    "                                         'cytotoxic CD56-dim natural killer cell')"
   ]
  },
  {
   "cell_type": "code",
   "execution_count": null,
   "metadata": {},
   "outputs": [],
   "source": [
    "if recluster:\n",
    "    # Save previous clustering obtained for comparision\n",
    "    adata.obs['leiden_original'] = adata.obs['leiden'].copy()\n",
    "    adata.obs['celltype2_original']  = adata.obs['celltype2'].copy() \n",
    "\n",
    "    # Calling reclustering\n",
    "    adata_rc = bc.tl.rc.recluster ( adata, celltype_label = celltype_label, \n",
    "                               celltype=to_recluster, resolution=1.3)\n",
    "    # Leiden reclustering have to be exported to use the annotation function \n",
    "    cluster_renamed = 'Leiden_Reclustering'\n",
    "    adata_rc = bc.st.additional_labeling(adata_rc, 'leiden', cluster_renamed, 'Leiden Reclustering on Lymphocytes', 'author', results_folder)\n",
    "   \n",
    "    # Reading additional labelling\n",
    "    f=pd.read_csv(results_folder + \"/labelings/\"+cluster_renamed+\"/fract_pos.gct\",sep=\"\\t\",skiprows=2)\n",
    "    df=bc.tl.sig.score_mw(f,mymarkers)\n",
    "    myc=np.median(df.loc['Ubi',:]*0.5) ### Set a cutoff based on Ubi and scale with values from config file\n",
    "    # RECOMPUTING SIG SCORE WITH NEW CUTOFF\n",
    "    df=df.drop('Ubi')\n",
    "    sigscores={}\n",
    "    for mysig in list(df.index):\n",
    "        sigscores[mysig]=bc.tl.sig.getset(df,mysig,sigconfig.loc[mysig,'Cutoff']*myc)\n",
    "    cnames=bc.tl.sig.make_anno(df,sigscores,sigconfig,levsk)\n",
    "    cnamesDBlabel = bc.tl.sig.obtain_dblabel(bescapath+'/besca/datasets/nomenclature/CellTypes_v1.tsv', cnames )\n",
    "    \n",
    "    adata_rc.obs['celltype0']=bc.tl.sig.add_anno(adata_rc,cnamesDBlabel,'celltype0','leiden')\n",
    "    adata_rc.obs['celltype2']=bc.tl.sig.add_anno(adata_rc,cnamesDBlabel,'celltype2','leiden')\n",
    "    adata_rc.obs['celltype3']=bc.tl.sig.add_anno(adata_rc,cnamesDBlabel,'celltype3','leiden')\n",
    "    # Lex orrder needed.\n",
    "    names_2 = []\n",
    "    names_3 = []\n",
    "    for i in range( cnames.shape[0]) :\n",
    "        names_2 += [cnames['celltype2'][str(i)]]\n",
    "        names_3 += [cnames['celltype3'][str(i)]]\n",
    "    \n",
    "    bc.tl.rc.annotate_new_cellnames( adata, adata_rc, names = names_2, new_label='celltype2', method = 'leiden')\n",
    "\n",
    "    bc.tl.rc.annotate_new_cellnames( adata, adata_rc, names = names_3, new_label='celltype3', method = 'leiden')\n",
    "    \n",
    "    sc.pl.umap(adata,color=['celltype2', 'celltype2_original',\n",
    "                       'celltype3'], ncols=1) "
   ]
  },
  {
   "cell_type": "markdown",
   "metadata": {},
   "source": [
    "### Export labelling"
   ]
  },
  {
   "cell_type": "markdown",
   "metadata": {},
   "source": [
    "Chosen labels can also be exported as a new folder in labelings/"
   ]
  },
  {
   "cell_type": "code",
   "execution_count": null,
   "metadata": {},
   "outputs": [],
   "source": [
    "### Save labelling\n",
    "adata = bc.st.additional_labeling(adata, 'celltype3', 'celltype3', 'Major cell types attributed based on HumanCD45p_scseqCMs8', 'schwalip', results_folder)\n"
   ]
  },
  {
   "cell_type": "code",
   "execution_count": null,
   "metadata": {},
   "outputs": [],
   "source": []
  }
 ],
 "metadata": {
  "kernelspec": {
   "display_name": "Besca/besca_dev",
   "language": "python",
   "name": "besca_dev"
  },
  "language_info": {
   "codemirror_mode": {
    "name": "ipython",
    "version": 3
   },
   "file_extension": ".py",
   "mimetype": "text/x-python",
   "name": "python",
   "nbconvert_exporter": "python",
   "pygments_lexer": "ipython3",
   "version": "3.7.6"
  },
  "toc-autonumbering": false,
  "toc-showcode": false,
  "toc-showmarkdowntxt": false,
  "toc-showtags": false
 },
 "nbformat": 4,
 "nbformat_minor": 4
}
