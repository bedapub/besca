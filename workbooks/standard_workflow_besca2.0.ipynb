{
 "cells": [
  {
   "cell_type": "markdown",
   "metadata": {},
   "source": [
    "# Standard scanpy workflow version 2.8 #\n",
    "\n",
    "Changes: \n",
    "- Adding leiden clustering as default and a generic cluster function.\n",
    "- BBKNN is the default batch correction method\n",
    "\n",
    "### Import section ###"
   ]
  },
  {
   "cell_type": "code",
   "execution_count": null,
   "metadata": {},
   "outputs": [],
   "source": [
    "import besca as bc\n",
    "import numpy as np\n",
    "import pandas as pd\n",
    "import scanpy.api as sc\n",
    "import matplotlib.pyplot as plt\n",
    "from scipy import sparse, io\n",
    "import os\n",
    "import time\n",
    "sc.logging.print_versions()\n",
    "\n",
    "import logging\n",
    "import seaborn as sns\n",
    "\n",
    "# for standard processing, set verbosity to minimum\n",
    "sc.settings.verbosity = 0  # verbosity: errors (0), warnings (1), info (2), hints (3)\n",
    "sc.settings.set_figure_params(dpi=80)\n",
    "version = '2.8'\n",
    "start0 = time.time()"
   ]
  },
  {
   "cell_type": "markdown",
   "metadata": {},
   "source": [
    "## Setup Standard Wokflow"
   ]
  },
  {
   "cell_type": "markdown",
   "metadata": {},
   "source": [
    "### Parameters to be set - on the command line or here ###"
   ]
  },
  {
   "cell_type": "code",
   "execution_count": null,
   "metadata": {},
   "outputs": [],
   "source": [
    "# decisions to be made\n",
    "use_example_dataset = False # If True, the pipeline will run using the example dataset shipped with BESCA\n",
    "\n",
    "species = 'human'\n",
    "batch_to_correct = 'None' # must be \"None\" or any one of the labels in \"metadata.tsv\", ID, SPECIES, TISSUE, DONOR, TREATMENT; typically \"ID\" or \"DONOR\"\n",
    "analysis_name = 'standard_workflow_besca2.0'\n",
    "split_condition='donor' #'experiment' is generally a good default\n",
    "dynrange=['B2m','Actb','Pgk1','Ctcf'] #genes for which to plot dynamic range\n",
    "if species=='human': dynrange=[x.upper() for x in dynrange]\n",
    "\n",
    "#additional labeling\n",
    "labeling_to_use = 'None' # must be \"None\" or any one of the labels in \"metadata.tsv\", ID, SPECIES, TISSUE, DONOR, TREATMENT; typically \"ID\" or \"DONOR\"\n",
    "labeling_name = 'MyAnno' # define name under which the labeling should be exported\n",
    "labeling_description = 'celltype annotation' #define description which should be saved to labeling_info file\n",
    "labeling_author = 'author' #define author which should be saved to labeling info file"
   ]
  },
  {
   "cell_type": "markdown",
   "metadata": {},
   "source": [
    "### Define Input ###"
   ]
  },
  {
   "cell_type": "code",
   "execution_count": null,
   "metadata": {},
   "outputs": [],
   "source": [
    "# define filepath (this is the folder that contains \"raw\" and \"analyzed\")\n",
    "root_path = os.getcwd()"
   ]
  },
  {
   "cell_type": "markdown",
   "metadata": {},
   "source": [
    "### Standard parameters - these should be kept as stable as possible ###"
   ]
  },
  {
   "cell_type": "code",
   "execution_count": null,
   "metadata": {},
   "outputs": [],
   "source": [
    "# the standard parameter section\n",
    "standard_min_genes = 500\n",
    "standard_min_cells = 30\n",
    "standard_min_counts = 1000\n",
    "standard_n_genes = 4500 # this is the most tricky one to set\n",
    "standard_percent_mito = 0.1\n",
    "standard_max_counts = 100000 #might be redundant with n_genes"
   ]
  },
  {
   "cell_type": "markdown",
   "metadata": {},
   "source": [
    "## Standard Pipeline\n",
    "(note nothing below this point should be modified!!)"
   ]
  },
  {
   "cell_type": "code",
   "execution_count": null,
   "metadata": {},
   "outputs": [],
   "source": [
    "# define standardized file paths based on the input above\n",
    "results_folder = os.path.join(root_path, 'analyzed', analysis_name)\n",
    "results_file = os.path.join(results_folder, analysis_name + '.h5ad') # specify a .h5ad file for storing the results\n",
    "log_file = os.path.join(results_folder, analysis_name + '.standard.log') # specify a log file for keeping a short summary and overview\n",
    "sc.settings.figdir = os.path.join(results_folder, 'figures')\n",
    "\n",
    "#setup standard workflow (generates output directories and setsup logging file)\n",
    "bc.st.setup(results_folder, \n",
    "          analysis_name, \n",
    "          labeling_name, \n",
    "          labeling_to_use, \n",
    "          log_file, \n",
    "          version,\n",
    "          root_path, \n",
    "          species, \n",
    "          batch_to_correct, \n",
    "          standard_min_genes,\n",
    "          standard_min_cells,\n",
    "          standard_min_counts,\n",
    "          standard_n_genes,\n",
    "          standard_percent_mito,\n",
    "          standard_max_counts)\n",
    "\n",
    "# read input data\n",
    "if use_example_dataset:\n",
    "    ## Currently this fails, solving issue 19 will help\n",
    "    adata = bc.datasets.pbmc_storage_raw()\n",
    "else:\n",
    "    adata = bc.st.read_matrix(root_path)\n"
   ]
  },
  {
   "cell_type": "code",
   "execution_count": null,
   "metadata": {},
   "outputs": [],
   "source": [
    "adata"
   ]
  },
  {
   "cell_type": "code",
   "execution_count": null,
   "metadata": {},
   "outputs": [],
   "source": [
    "# calculate mitochondrial gene content\n",
    "bc.pp.fraction_counts(adata=adata, species=species)"
   ]
  },
  {
   "cell_type": "markdown",
   "metadata": {},
   "source": [
    "### Visualization of quality control plots and selected filtering parameters"
   ]
  },
  {
   "cell_type": "markdown",
   "metadata": {},
   "source": [
    "#### Count occurrence\n",
    "\n",
    "This plot shows cell counts per sample"
   ]
  },
  {
   "cell_type": "code",
   "execution_count": null,
   "metadata": {},
   "outputs": [],
   "source": [
    "temp=bc.tl.count_occurrence(adata,split_condition)\n",
    "sns.barplot(y=temp.index,x=temp.Counts,color='gray',orient='h')"
   ]
  },
  {
   "cell_type": "markdown",
   "metadata": {},
   "source": [
    "#### Transcript capture efficiency\n",
    "\n",
    "This plot gives you an idea about the sequencing depth and if the sequencing has reached saturation or not."
   ]
  },
  {
   "cell_type": "code",
   "execution_count": null,
   "metadata": {},
   "outputs": [],
   "source": [
    "fig, ax = plt.subplots(1)\n",
    "fig.set_figwidth(8)\n",
    "fig.set_figheight(5)\n",
    "fig.tight_layout()\n",
    "\n",
    "bc.pl.transcript_capture_efficiency(adata,ax=ax)\n",
    "fig.savefig(os.path.join(results_folder, 'figures/transcriptcaptureefficiency.png'), format='png', bbbox_inches = 'tight') #save figure for QC report"
   ]
  },
  {
   "cell_type": "markdown",
   "metadata": {},
   "source": [
    "#### Library size distribution\n",
    "\n",
    "This plot gives you an idea about the library size distribution in your dataset before processing."
   ]
  },
  {
   "cell_type": "code",
   "execution_count": null,
   "metadata": {},
   "outputs": [],
   "source": [
    "fig = bc.pl.librarysize_overview(adata, bins=100)\n",
    "fig.savefig(os.path.join(results_folder, 'figures/librarysize.png'), format='png',bbbox_inches = 'tight') #save figure for QC report"
   ]
  },
  {
   "cell_type": "code",
   "execution_count": null,
   "metadata": {},
   "outputs": [],
   "source": [
    "adata_unfiltered = adata.copy()"
   ]
  },
  {
   "cell_type": "markdown",
   "metadata": {},
   "source": [
    "#### The effect of filtering parameters"
   ]
  },
  {
   "cell_type": "code",
   "execution_count": null,
   "metadata": {},
   "outputs": [],
   "source": [
    "fig, ((ax1, ax2, ax3), (ax4, ax5, ax6)) = plt.subplots(ncols=3, nrows=2)\n",
    "fig.set_figwidth(17)\n",
    "fig.set_figheight(9)\n",
    "fig.tight_layout(pad=4.5)\n",
    "\n",
    "bc.pl.kp_genes(adata, min_genes=standard_min_genes, ax = ax1)\n",
    "bc.pl.kp_counts(adata, min_counts=standard_min_counts, ax = ax2)\n",
    "bc.pl.kp_cells(adata, min_cells=standard_min_cells, ax = ax3)\n",
    "bc.pl.max_genes(adata, max_genes=standard_n_genes, ax = ax4)\n",
    "bc.pl.max_mito(adata, max_mito=standard_percent_mito, annotation_type='SYMBOL', species=species, ax = ax5)\n",
    "bc.pl.max_counts(adata, max_counts=standard_max_counts, ax=ax6)\n",
    "fig.savefig(os.path.join(results_folder, 'figures/filtering_thresholds.png'), format='png', bbbox_inches = 'tight') #save figure for QC report"
   ]
  },
  {
   "cell_type": "markdown",
   "metadata": {},
   "source": [
    "#### Scanpy plots of genes, counts, and mitochondria gene counts"
   ]
  },
  {
   "cell_type": "code",
   "execution_count": null,
   "metadata": {},
   "outputs": [],
   "source": [
    "sc.pl.violin(adata, ['n_genes', 'n_counts', 'percent_mito'], jitter=0.4, multi_panel=True, save = '.before_filtering.png')"
   ]
  },
  {
   "cell_type": "markdown",
   "metadata": {},
   "source": [
    "#### Mitochondrial genes, genes, and counts by samples grouped by the split condition"
   ]
  },
  {
   "cell_type": "code",
   "execution_count": null,
   "metadata": {},
   "outputs": [],
   "source": [
    "sc.pl.violin(adata, ['percent_mito','n_genes', 'n_counts'], groupby=split_condition,jitter=0.1,rotation=90, save = '.before_filtering.split.png')"
   ]
  },
  {
   "cell_type": "markdown",
   "metadata": {},
   "source": [
    "### First filtering on gene and cell counts"
   ]
  },
  {
   "cell_type": "code",
   "execution_count": null,
   "metadata": {},
   "outputs": [],
   "source": [
    "%%capture filtering1\n",
    "adata = bc.st.filtering_cells_genes_min(adata, standard_min_cells, standard_min_genes, standard_min_counts)"
   ]
  },
  {
   "cell_type": "code",
   "execution_count": null,
   "metadata": {},
   "outputs": [],
   "source": [
    "filtering1.show()"
   ]
  },
  {
   "cell_type": "markdown",
   "metadata": {},
   "source": [
    "### Second filtering on mitochondrial genes, and upper limit for gene number ###"
   ]
  },
  {
   "cell_type": "code",
   "execution_count": null,
   "metadata": {},
   "outputs": [],
   "source": [
    "%%capture filtering2\n",
    "adata = bc.st.filtering_mito_genes_max(adata, standard_percent_mito, standard_n_genes, standard_max_counts)"
   ]
  },
  {
   "cell_type": "code",
   "execution_count": null,
   "metadata": {},
   "outputs": [],
   "source": [
    "filtering2.show()"
   ]
  },
  {
   "cell_type": "markdown",
   "metadata": {},
   "source": [
    "###  Filtered dataset characteristics"
   ]
  },
  {
   "cell_type": "code",
   "execution_count": null,
   "metadata": {},
   "outputs": [],
   "source": [
    "sc.pl.violin(adata, ['n_genes', 'n_counts', 'percent_mito'], jitter=0.4, multi_panel=True, save = '.after_filtering.png')"
   ]
  },
  {
   "cell_type": "code",
   "execution_count": null,
   "metadata": {},
   "outputs": [],
   "source": [
    "### check mitochondrial reads per sample \n",
    "sc.pl.violin(adata, ['percent_mito','n_genes', 'n_counts'], groupby=split_condition,jitter=0.1,rotation=90, save = '.after_filtering.split.png')"
   ]
  },
  {
   "cell_type": "code",
   "execution_count": null,
   "metadata": {},
   "outputs": [],
   "source": [
    "#display the top 25 genes in the dataset\n",
    "fig, ax = plt.subplots(ncols=1, nrows=1, figsize = (8, 6))\n",
    "bc.pl.top_genes_counts(adata=adata, top_n=25, ax = ax )\n",
    "fig.savefig(os.path.join(results_folder, 'figures/top_genes.png'), format='png', bbbox_inches = 'tight') #save figure for QC report"
   ]
  },
  {
   "cell_type": "markdown",
   "metadata": {},
   "source": [
    "### Per-cell normalization, and output of normalized results ###"
   ]
  },
  {
   "cell_type": "code",
   "execution_count": null,
   "metadata": {},
   "outputs": [],
   "source": [
    "adata = bc.st.per_cell_normalize(adata, results_folder)"
   ]
  },
  {
   "cell_type": "code",
   "execution_count": null,
   "metadata": {},
   "outputs": [],
   "source": [
    "# Further QC: dynamic range of ubi/marker genes\n",
    "fig = plt.figure()\n",
    "sns.set(font_scale=0.8)\n",
    "plt.style.use('seaborn-white')\n",
    "fig = plt.figure(figsize=(len(dynrange)*2.8,2))\n",
    "fig.subplots_adjust(hspace=0.2, wspace=0.35)\n",
    "for i in range(1,len(dynrange)+1):\n",
    "    ax = fig.add_subplot(1, len(dynrange), i)\n",
    "    myg=dynrange[i-1]\n",
    "    try:\n",
    "        g=sns.distplot(adata.raw[:,myg].X.toarray(), norm_hist=True)\n",
    "    except:\n",
    "        print( myg + ' can not be plotted')\n",
    "    ax.set(xlabel='log.cp10k',ylabel=myg)\n",
    "    g.set_xlim(-1, 7)\n"
   ]
  },
  {
   "cell_type": "markdown",
   "metadata": {},
   "source": [
    "### Feature selection (highly variable genes) for clustering ###"
   ]
  },
  {
   "cell_type": "code",
   "execution_count": null,
   "metadata": {},
   "outputs": [],
   "source": [
    "adata = bc.st.highly_variable_genes(adata)"
   ]
  },
  {
   "cell_type": "markdown",
   "metadata": {},
   "source": [
    "### Regression steps, and output of regressed data ###"
   ]
  },
  {
   "cell_type": "code",
   "execution_count": null,
   "metadata": {},
   "outputs": [],
   "source": [
    "adata "
   ]
  },
  {
   "cell_type": "code",
   "execution_count": null,
   "metadata": {
    "scrolled": true
   },
   "outputs": [],
   "source": [
    "# RMK : AS OF FEB 2020 there is a bug in scanpy regress out if scanpy installed with PIP (see https://github.com/theislab/scanpy/issues/707)\n",
    "# Before the fix is available, one should coopy the data toprevet it. hence the adata = adata.copy()\n",
    "adata = adata.copy()\n",
    "adata = bc.st.regress_out(adata, results_folder)"
   ]
  },
  {
   "cell_type": "markdown",
   "metadata": {},
   "source": [
    "### PCA-based neighborhood analysis and UMAP with optional batch correction\n",
    "\n",
    "The standard workflow uses bbknn as  batch correction method.\n"
   ]
  },
  {
   "cell_type": "code",
   "execution_count": null,
   "metadata": {},
   "outputs": [],
   "source": [
    "if (batch_to_correct != 'None'):\n",
    "    #save a copy of uncorrected in case we need it for something later\n",
    "    adata_uncorrected = adata.copy()\n",
    "    adata.obs['batch'] = adata.obs[batch_to_correct]\n",
    "    adata = bc.st.pca_neighbors_umap(adata,results_folder, method='bbknn')\n",
    "else:\n",
    "    adata = bc.st.pca_neighbors_umap(adata, results_folder)\n",
    "    "
   ]
  },
  {
   "cell_type": "markdown",
   "metadata": {},
   "source": [
    "### Clustering ###"
   ]
  },
  {
   "cell_type": "code",
   "execution_count": null,
   "metadata": {},
   "outputs": [],
   "source": [
    "# leiden clustering is the default \n",
    "adata = bc.st.clustering(adata, results_folder)"
   ]
  },
  {
   "cell_type": "code",
   "execution_count": null,
   "metadata": {},
   "outputs": [],
   "source": [
    "# everything that was done so far goes to the .h5ad file for later use\n",
    "adata.write(results_file)\n",
    "print(results_file)"
   ]
  },
  {
   "cell_type": "code",
   "execution_count": null,
   "metadata": {},
   "outputs": [],
   "source": [
    "sc.pl.umap( adata, color=['PTPRC', 'CD14'], color_map = 'viridis')"
   ]
  },
  {
   "cell_type": "markdown",
   "metadata": {},
   "source": [
    "### Additional Labeling ###\n",
    "\n",
    "(if specified) based on external annotation in \"metadata.tsv\"  the additional labeling will be exported to file and the fract_pos.gct and average.gct files generated"
   ]
  },
  {
   "cell_type": "code",
   "execution_count": null,
   "metadata": {},
   "outputs": [],
   "source": [
    "if (labeling_to_use != 'None'):\n",
    "    adata = bc.st.additional_labeling(adata, labeling_to_use, labeling_name, labeling_description, labeling_author, results_folder)"
   ]
  },
  {
   "cell_type": "markdown",
   "metadata": {},
   "source": [
    "### Complete the log-file"
   ]
  },
  {
   "cell_type": "code",
   "execution_count": null,
   "metadata": {},
   "outputs": [],
   "source": [
    "logging.info('Entire workflow completed.')\n",
    "logging.info('\\tTime for entire workflow: '+str(round(time.time()-start0, 3))+'s')"
   ]
  },
  {
   "cell_type": "markdown",
   "metadata": {},
   "source": [
    "### Write QC Report"
   ]
  },
  {
   "cell_type": "code",
   "execution_count": null,
   "metadata": {},
   "outputs": [],
   "source": [
    "bc.st.write_qc(adata_unfiltered = adata_unfiltered, \n",
    "                 adata_filtered = adata,\n",
    "                 version = version, \n",
    "                 analysis_name = analysis_name, \n",
    "                 standard_min_genes = standard_min_genes, \n",
    "                 standard_min_cells = standard_min_cells, \n",
    "                 standard_min_counts = standard_min_counts, \n",
    "                 standard_percent_mito = standard_percent_mito, \n",
    "                 standard_max_counts = standard_max_counts,\n",
    "                 standard_n_genes = standard_n_genes,\n",
    "                 filtering_output1 = filtering1,\n",
    "                 filtering_output2 = filtering2,\n",
    "                 results_folder = results_folder,\n",
    "                 css_path = os.path.join(os.path.dirname(bc.__file__),'st', 'style.css'))\n",
    "logging.info('QC Report generated and saved as .html')"
   ]
  }
 ],
 "metadata": {
  "kernelspec": {
   "display_name": "Python 3",
   "language": "python",
   "name": "python3"
  },
  "language_info": {
   "codemirror_mode": {
    "name": "ipython",
    "version": 3
   },
   "file_extension": ".py",
   "mimetype": "text/x-python",
   "name": "python",
   "nbconvert_exporter": "python",
   "pygments_lexer": "ipython3",
   "version": "3.6.9"
  }
 },
 "nbformat": 4,
 "nbformat_minor": 4
}
