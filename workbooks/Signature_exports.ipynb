{
 "cells": [
  {
   "cell_type": "markdown",
   "id": "950d9b7a",
   "metadata": {},
   "source": [
    "# Signature import exports\n",
    "\n",
    "This workbook exemplifies how to export various types of signatures for storage in [GeMS](https://github.com/bedapub/GeMS). "
   ]
  },
  {
   "cell_type": "code",
   "execution_count": null,
   "id": "28ac01f2",
   "metadata": {},
   "outputs": [],
   "source": [
    "import besca as bc\n",
    "import numpy as np\n",
    "import pandas as pd\n",
    "import scanpy as sc\n",
    "import matplotlib.pyplot as plt\n",
    "from scipy import sparse, io\n",
    "import os\n",
    "import time\n",
    "import logging\n",
    "import seaborn as sns\n",
    "import yaml\n",
    "import requests\n",
    "sc.logging.print_header()\n",
    "\n",
    "# for standard processing, set verbosity to minimum\n",
    "sc.settings.verbosity = 0  # verbosity: errors (0), warnings (1), info (2), hints (3)\n",
    "sc.settings.set_figure_params(dpi=80)\n",
    "version = '2.8'\n",
    "start0 = time.time()"
   ]
  },
  {
   "cell_type": "code",
   "execution_count": null,
   "id": "37460b69",
   "metadata": {},
   "outputs": [],
   "source": [
    "#define standardized filepaths based on above input\n",
    "root_path = os.getcwd()\n",
    "bescapath_full = os.path.dirname(bc.__file__)\n",
    "bescapath = os.path.split(bescapath_full)[0]\n",
    "\n",
    "analysis_name = 'sw_besca24' ## your analysis name, as per standard workflow\n",
    "species='human' ## or mouse for now\n",
    "conversion=False\n",
    "#analysis_name = 'standard_workflow_besca2_CLR' #use _CLR or _DSB for citeseq analysis\n",
    "annot_author = 'annot_author' ### replace with own userid\n",
    "\n",
    "# Choose the clustering to base the annotation on.\n",
    "# leiden (RNA), citeseq (protein)\n",
    "clusters='leiden' \n",
    "results_folder = os.path.join(root_path, 'analyzed')\n",
    "results_folder = os.path.join(results_folder, analysis_name)\n",
    "\n",
    "### Set global DE cutoffs \n",
    "myfc=1 # (log2FC)\n",
    "mypval=0.05 # adjusted p-val\n",
    "\n",
    "use_example_dataset = True ### Set to False if own data"
   ]
  },
  {
   "cell_type": "code",
   "execution_count": null,
   "id": "9b50c20a",
   "metadata": {},
   "outputs": [],
   "source": [
    "if use_example_dataset:\n",
    "    analysis_name='Granja_processed'\n",
    "    results_folder = os.path.split(os.getcwd())[0] + '/besca/datasets/data/'\n",
    "    clusters='leiden'\n",
    "    # This line will either download, or load the datasets\n",
    "    adata = bc.datasets.Granja2019_processed()\n",
    "    # This line exports the annotation for the annotation."
   ]
  },
  {
   "cell_type": "markdown",
   "id": "b1f0c914",
   "metadata": {},
   "source": [
    "## Part 1: Signature exports "
   ]
  },
  {
   "cell_type": "markdown",
   "id": "919329e2",
   "metadata": {},
   "source": [
    "### Example 1: export cell type markers "
   ]
  },
  {
   "cell_type": "code",
   "execution_count": null,
   "id": "06a5555e",
   "metadata": {},
   "outputs": [],
   "source": [
    "### Metadata setup for cell type signatures\n",
    "User=annot_author\n",
    "Source='internal scseq'  \n",
    "Subtype='healthy' # or healthy, onc, ...\n",
    "domain='cell marker'\n",
    "studyID='Granja2019' # replace with the scMongoDB studyID\n",
    "analysisID=analysis_name\n",
    "genesetname=studyID+'_dblabel'\n",
    "suffix='_BMPBMC_user' # replace with specific info, e.g. _mc38_pcs\n",
    "signature_dict={}"
   ]
  },
  {
   "cell_type": "code",
   "execution_count": null,
   "id": "855a1b9d",
   "metadata": {},
   "outputs": [],
   "source": [
    "### Perform DE cells of each celltype3 vs. all other cells\n",
    "DEgenes=bc.tl.dge.get_de(adata,'dblabel',demethod='wilcoxon',topnr=5000, logfc=myfc,padj=mypval)\n"
   ]
  },
  {
   "cell_type": "markdown",
   "id": "b5d1cb50",
   "metadata": {},
   "source": [
    "##### Example 1: naive B cell markers\n"
   ]
  },
  {
   "cell_type": "code",
   "execution_count": null,
   "id": "dbc66544",
   "metadata": {},
   "outputs": [],
   "source": [
    "### Select only top 35 genes (in order of p-val) for 2 cell types and plot expression per cell type\n",
    "coi='naive B cell' # full dblabel\n",
    "coishort='NaiBcell' # dblabel short\n",
    "tops=list(DEgenes[coi].sort_values('Log2FC',ascending=False)['Name'][0:35])\n",
    "sc.pl.dotplot(adata, var_names=tops,groupby='celltype3')\n",
    "\n",
    "\n",
    "setName=coishort+suffix\n",
    "desc='Genes higher expressed in '+ coi + ' vs. all other cells in Kotliarov et al. 2019 data; coefs are log2FC'\n",
    "pdout=DEgenes[coi].sort_values('Log2FC',ascending=False)[0:30]\n",
    "genes=\"\\t\".join(list(pdout['Name'].astype(str) + \" | \" + pdout['Log2FC'].round(2).astype(str)))\n",
    "signature_dict[setName] = bc.tl.sig.make_gmtx(setName,desc,User,Source,Subtype,domain,genesetname,genes,studyID,analysisID)\n"
   ]
  },
  {
   "cell_type": "markdown",
   "id": "83f67a1e",
   "metadata": {},
   "source": [
    "##### Example 2: pDC markers"
   ]
  },
  {
   "cell_type": "code",
   "execution_count": null,
   "id": "5686f2e2",
   "metadata": {},
   "outputs": [],
   "source": [
    "### Select only top 15 genes (in order of p-val) for 2 cell types and plot expression per cell type\n",
    "coi='plasmacytoid dendritic cell' # full dblabel\n",
    "coishort='pDC' #dblabel short\n",
    "tops=list(DEgenes[coi].sort_values('Log2FC',ascending=False)['Name'][0:35])\n",
    "sc.pl.dotplot(adata, var_names=tops,groupby='celltype3')\n",
    "\n",
    "setName=coishort+suffix\n",
    "desc='Genes higher expressed in '+ coi + ' vs. all other cells in MC38 in vivo exp ID tumor; coefs are log2FC'\n",
    "pdout=DEgenes[coi].sort_values('Log2FC',ascending=False)[0:30]\n",
    "genes=\"\\t\".join(list(pdout['Name'].astype(str) + \" | \" + pdout['Log2FC'].round(2).astype(str)))\n",
    "signature_dict[setName] = bc.tl.sig.make_gmtx(setName,desc,User,Source,Subtype,domain,genesetname,genes,studyID,analysisID)\n",
    "\n"
   ]
  },
  {
   "cell_type": "markdown",
   "id": "3d0ae57c",
   "metadata": {},
   "source": [
    "And now export the signatures to a .gmtx file"
   ]
  },
  {
   "cell_type": "code",
   "execution_count": null,
   "id": "c6fd4d7c",
   "metadata": {},
   "outputs": [],
   "source": [
    "outgmtfile=results_folder+'/Celltypemarkers.gmtx' ### replace this with the path and file name of interest\n",
    "\n",
    "bc.tl.sig.write_gmtx_forgems(signature_dict, outgmtfile)"
   ]
  },
  {
   "cell_type": "markdown",
   "id": "12c76542",
   "metadata": {},
   "source": [
    "### Example 2: export condition markers"
   ]
  },
  {
   "cell_type": "markdown",
   "id": "c07110ad",
   "metadata": {},
   "source": [
    "This is a similar setup to a perturbation setting. Here, we only focus on a cell of a specific type and calculate differences PBMC vs. bone marrow, thus the example is a tissue marker.  "
   ]
  },
  {
   "cell_type": "code",
   "execution_count": null,
   "id": "8fe97817",
   "metadata": {},
   "outputs": [],
   "source": [
    "### Metadata setup for cell type signatures\n",
    "User=annot_author\n",
    "Source='internal scseq'  \n",
    "Subtype='healthy' # or healthy, onc, ...\n",
    "domain='tissue marker' ### change to perturbation if needed\n",
    "studyID='Granja2019' # replace with the scMongoDB studyID\n",
    "analysisID=analysis_name\n",
    "genesetname=studyID+'_BMvsPBMC_higher' # for perturbation e.g. Pembro_induced_MC38CD8Tcell\n",
    "suffix='_'+studyID # replace with specific info, e.g. _mc38_pcs\n",
    "signature_dict={}\n"
   ]
  },
  {
   "cell_type": "markdown",
   "id": "8aaccf78",
   "metadata": {},
   "source": [
    "###### Genes DE expressed BM vs. PBMC in CD8+ T cells"
   ]
  },
  {
   "cell_type": "code",
   "execution_count": null,
   "id": "c5a3beb1",
   "metadata": {},
   "outputs": [],
   "source": [
    "totest=adata[adata.obs['Type'].isin(['BMMC','PBMC'])].copy()\n",
    "totest=totest[totest.obs['celltype2']=='CD8-positive, alpha-beta T cell']"
   ]
  },
  {
   "cell_type": "code",
   "execution_count": null,
   "id": "56fa6be1",
   "metadata": {},
   "outputs": [],
   "source": [
    "\n",
    "DEgenes=bc.tl.dge.get_de(totest,'Type',demethod='wilcoxon',topnr=5000, logfc=myfc,padj=mypval) ### Would be treatment_id"
   ]
  },
  {
   "cell_type": "code",
   "execution_count": null,
   "id": "c229a596",
   "metadata": {},
   "outputs": [],
   "source": [
    "setName='BMMChigh_inCD8Tcell'+suffix # for perturbation e.g. Pembro_induced_MC38CD8Tcell_T1\n",
    "desc='Genes higher expressed in bone marrow vs. PBMC in CD8-positive T cells in Granja et al. dataset; coefs are log2FC'\n",
    "# for perturbation e.g. 'Genes higher expressed in Pembro vs. vehicle in CD8-positive T cells in MC38 in vivo exp. ID time T2; coefs are log2FC'\n",
    "pdout=DEgenes['BMMC'].sort_values('Log2FC', ascending=False)\n",
    "genes=\"\\t\".join(list(pdout['Name'].astype(str) + \" | \" + pdout['Log2FC'].round(2).astype(str)))\n",
    "signature_dict[setName]=bc.tl.sig.make_gmtx(setName,desc,User,Source,Subtype,domain,genesetname,genes,studyID,analysisID)"
   ]
  },
  {
   "cell_type": "code",
   "execution_count": null,
   "id": "caddce08",
   "metadata": {},
   "outputs": [],
   "source": [
    "setName='PBMChigh_inCD8Tcell'+suffix # for perturbation e.g. Pembro_induced_MC38CD8Tcell_T1\n",
    "desc='Genes higher expressed in PBMC vs. bone marrow in CD8-positive T cells in Granja et al. dataset; coefs are log2FC'\n",
    "# for perturbation e.g. 'Genes higher expressed in Pembro vs. vehicle in CD8-positive T cells in MC38 in vivo exp. ID time T2; coefs are log2FC'\n",
    "pdout=DEgenes['PBMC'].sort_values('Log2FC', ascending=False)\n",
    "genes=\"\\t\".join(list(pdout['Name'].astype(str) + \" | \" + pdout['Log2FC'].round(2).astype(str)))\n",
    "signature_dict[setName]=bc.tl.sig.make_gmtx(setName,desc,User,Source,Subtype,domain,genesetname,genes,studyID,analysisID)"
   ]
  },
  {
   "cell_type": "markdown",
   "id": "3696d965",
   "metadata": {},
   "source": [
    "And now export the signatures to a .gmtx file\n"
   ]
  },
  {
   "cell_type": "code",
   "execution_count": null,
   "id": "ba76fccc",
   "metadata": {},
   "outputs": [],
   "source": [
    "outgmtfile=results_folder+'/Tissuemarkers.gmtx' ### replace this with the path and file name of interest\n",
    "bc.tl.sig.write_gmtx_forgems(signature_dict, outgmtfile)"
   ]
  },
  {
   "cell_type": "markdown",
   "id": "fbccf3ce",
   "metadata": {},
   "source": [
    "### Instead of writing to a .gmtx, directly upload to GeMS"
   ]
  },
  {
   "cell_type": "code",
   "execution_count": null,
   "id": "bc22518d",
   "metadata": {},
   "outputs": [],
   "source": [
    "outgmtfile=results_folder+'/Celltypemarkers.gmtx'"
   ]
  },
  {
   "cell_type": "code",
   "execution_count": null,
   "id": "cee7afbd",
   "metadata": {},
   "outputs": [],
   "source": [
    "mysigs=bc.tl.sig.read_GMT_sign(outgmtfile,  directed=False, verbose=False) ### replace this with example file\n",
    "forheader=mysigs[list(mysigs.keys())[0]]\n",
    "del mysigs[list(mysigs.keys())[0]]"
   ]
  },
  {
   "cell_type": "code",
   "execution_count": null,
   "id": "50f209fd",
   "metadata": {},
   "outputs": [],
   "source": [
    "### read the description as well\n",
    "mysigsdesc=pd.read_csv(outgmtfile,sep='\\t')\n",
    "description=pd.Series([x[1] for x in list(mysigsdesc.index)])\n",
    "description.index=[x[0] for x in list(mysigsdesc.index)]"
   ]
  },
  {
   "cell_type": "code",
   "execution_count": null,
   "id": "3109c05e",
   "metadata": {},
   "outputs": [],
   "source": [
    "#### Set parameters\n",
    "params = {'gf': 0, 'ti': 9606}\n",
    "params['us']=mysigs[list(mysigs.keys())[0]][0]\n",
    "params['so']=mysigs[list(mysigs.keys())[0]][1]\n",
    "params['st']=mysigs[list(mysigs.keys())[0]][2]\n",
    "params['do']=mysigs[list(mysigs.keys())[0]][4]\n",
    "\n",
    "headers = ['setName', 'desc','geneset']+forheader[5:7]+['genes | logFC']"
   ]
  },
  {
   "cell_type": "code",
   "execution_count": null,
   "id": "952e47f2",
   "metadata": {},
   "outputs": [],
   "source": [
    "params"
   ]
  },
  {
   "cell_type": "code",
   "execution_count": null,
   "id": "84522ebc",
   "metadata": {},
   "outputs": [],
   "source": [
    "parsed=[]\n",
    "for key in mysigs.keys():\n",
    "    tmp=mysigs[key].copy()\n",
    "    mysigs[key].pop(0)\n",
    "    mysigs[key].pop(0)\n",
    "    mysigs[key].pop(0)\n",
    "    mysigs[key].pop(1)\n",
    "    mysigs[key].insert(0,description[key])\n",
    "    parsed.append([key]+mysigs[key])"
   ]
  },
  {
   "cell_type": "code",
   "execution_count": null,
   "id": "81ba3241",
   "metadata": {},
   "outputs": [],
   "source": [
    "dataIn_1 = {\n",
    "    'headers': headers,\n",
    "    'parsed': parsed,\n",
    "    'params': params\n",
    "}"
   ]
  },
  {
   "cell_type": "code",
   "execution_count": null,
   "id": "5e9a3528",
   "metadata": {},
   "outputs": [],
   "source": [
    "from requests import post\n",
    "import yaml\n",
    "\n",
    "gems_file = None\n",
    "if os.path.exists('.credentials/gems.yml'):\n",
    "    gems_file = '.credentials/gems.yml'\n",
    "else:\n",
    "    user_credentials = os.path.expanduser('~/.credentials/gems.yml')\n",
    "    if os.path.exists(user_credentials):\n",
    "        gems_file = user_credentials\n",
    "if gems_file is None:\n",
    "    raise ValueError(\"Credential file cannot be found in the current path\"\n",
    "                     \"or in the user's home directory (~/.credentials/gems.yml)\")\n",
    "        \n",
    "with open(gems_file) as f: ### replace this with your credentials for GeMS API if available\n",
    "    dataMap = yaml.safe_load(f)\n",
    "\n",
    "BASE_URL_1 = 'http://' + dataMap['hostname'] + ':' + str(dataMap['localport']) + '/api/insert'\n"
   ]
  },
  {
   "cell_type": "code",
   "execution_count": null,
   "id": "37a27ee0",
   "metadata": {},
   "outputs": [],
   "source": [
    "returnJSON = post(BASE_URL_1, json=dataIn_1).json()\n",
    "print(returnJSON)"
   ]
  },
  {
   "cell_type": "markdown",
   "id": "089b9fb2",
   "metadata": {},
   "source": [
    "#### Remove from GeMS signatures that are not desired"
   ]
  },
  {
   "cell_type": "code",
   "execution_count": null,
   "id": "69ac67b4",
   "metadata": {},
   "outputs": [],
   "source": [
    "BASE_URL_2 = 'http://' + dataMap['hostname'] + ':' + str(dataMap['localport']) + '/api/remove'"
   ]
  },
  {
   "cell_type": "code",
   "execution_count": null,
   "id": "1549502c",
   "metadata": {},
   "outputs": [],
   "source": [
    "toRemove = []\n",
    "for key in mysigs.keys(): \n",
    "    toRemove.append(\n",
    "    {\n",
    "        'setName': key, \n",
    "        'source': 'internal scseq', \n",
    "        'user': 'annot_author', \n",
    "        'subtype': 'healthy',\n",
    "    })\n",
    "\n",
    "dataIn_2 = {\n",
    "    'genesets': toRemove\n",
    "}"
   ]
  },
  {
   "cell_type": "code",
   "execution_count": null,
   "id": "6ced46df",
   "metadata": {},
   "outputs": [],
   "source": [
    "returnJSON = post(BASE_URL_2, json=dataIn_2).json()\n",
    "print(returnJSON)"
   ]
  },
  {
   "cell_type": "markdown",
   "id": "43553a3d",
   "metadata": {},
   "source": [
    "## Part 2: Signature imports from GeMS"
   ]
  },
  {
   "cell_type": "markdown",
   "id": "13e53160",
   "metadata": {},
   "source": [
    "*Use case*: for a given set of signatures, retrieve all from GeMS. "
   ]
  },
  {
   "cell_type": "code",
   "execution_count": null,
   "id": "1cc117b9",
   "metadata": {},
   "outputs": [],
   "source": [
    "# Get GEMS hostname and localport from credentials file\n",
    "with open(os.path.join(os.path.expanduser('~'), '.credentials/gems.yml')) as f:\n",
    "        cred = yaml.safe_load(f)\n"
   ]
  },
  {
   "cell_type": "code",
   "execution_count": null,
   "id": "5f6ef628",
   "metadata": {},
   "outputs": [],
   "source": [
    "# Test if GEMS signature retrieval works\n",
    "print(bc.tl.sig.get_gems('Tcell_sc', BASE_URL= 'http://' + str(cred['hostname']) + ':' +  str(cred['localport'])))\n"
   ]
  },
  {
   "cell_type": "markdown",
   "id": "b44d45f6",
   "metadata": {},
   "source": [
    "All signature names related to a certain application can be retrieved with a single call, **example rtbeda_CIT signatures**. "
   ]
  },
  {
   "cell_type": "code",
   "execution_count": null,
   "id": "504c6255",
   "metadata": {},
   "outputs": [],
   "source": [
    "apigetsignames=False\n",
    "\n",
    "if apigetsignames:\n",
    "    apihttp='http://youraddress' #replace with relevant value\n",
    "    dbname='yourdbname'  #replace with relevant value\n",
    "    colname='yourgenesetcollection' #replace with relevant value\n",
    "    selcolumn='meta.application'  #uses 'application' field in GeMS metadata entry\n",
    "    applicationname='rtbeda_CIT'#'application' field equals to rtbeda_CIT; replace with bescaviz, celltypeviz etc. \n",
    "\n",
    "    # Get CIT signature names from MongoDB API\n",
    "    api_call =  apihttp+ 'db='+dbname+'&' + 'col='+colname+'&' + 'select='+selcolumn+'&' + \\\n",
    "                'oper=eq&' + 'val='+applicationname+'&' + 'fields=setName&' + 'out=jsonArray'\n",
    "    # print(api_call)\n",
    "\n",
    "    response = requests.get(api_call)\n",
    "    # print(response.status_code)\n",
    "    json = response.json()\n",
    "    # print(json)\n",
    "\n",
    "    ### List all the signatures of a specific set name\n",
    "    CIT_signature_names = [dic['setName'] for dic in json]\n",
    "    print(CIT_signature_names)\n",
    "else:\n",
    "    CIT_signature_names=['Immune_l_Ayers17', 'IFNG_l_Ayers17', 'NKcell_sc', 'NaiTcell_sc'] #replace this with your sigs of interest"
   ]
  },
  {
   "cell_type": "code",
   "execution_count": null,
   "id": "fc6a0c78",
   "metadata": {},
   "outputs": [],
   "source": [
    "# Get all CIT signatures from GEMS\n",
    "CIT_signatures = {}\n",
    "CIT_signatures_UP = {}\n",
    "for sig in CIT_signature_names:\n",
    "    CIT_signatures[sig] = bc.tl.sig.get_gems(sig, BASE_URL= 'http://' + str(cred['hostname']) + ':' +  str(cred['localport']))[sig]\n",
    "    CIT_signatures_UP[sig] = bc.tl.sig.get_gems(sig, BASE_URL= 'http://' + str(cred['hostname']) + ':' +  str(cred['localport']))[sig]['UP']\n",
    "print(CIT_signatures)"
   ]
  },
  {
   "cell_type": "code",
   "execution_count": null,
   "id": "558a457e",
   "metadata": {},
   "outputs": [],
   "source": [
    "bc.convert_notebook_to_HTML()"
   ]
  }
 ],
 "metadata": {
  "kernelspec": {
   "display_name": "besca_dev",
   "language": "python",
   "name": "besca_dev"
  },
  "language_info": {
   "codemirror_mode": {
    "name": "ipython",
    "version": 3
   },
   "file_extension": ".py",
   "mimetype": "text/x-python",
   "name": "python",
   "nbconvert_exporter": "python",
   "pygments_lexer": "ipython3",
   "version": "3.7.1"
  }
 },
 "nbformat": 4,
 "nbformat_minor": 5
}
