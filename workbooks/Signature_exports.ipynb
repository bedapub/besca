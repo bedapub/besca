{
 "cells": [
  {
   "cell_type": "markdown",
   "id": "baking-digit",
   "metadata": {},
   "source": [
    "# Signature exports\n",
    "\n",
    "This workbook exemplifies how to export various types of signatures for storage in [GeMS](https://github.com/bedapub/GeMS). "
   ]
  },
  {
   "cell_type": "code",
   "execution_count": 50,
   "id": "catholic-sydney",
   "metadata": {},
   "outputs": [
    {
     "name": "stdout",
     "output_type": "stream",
     "text": [
      "scanpy==1.6.0 anndata==0.7.5 umap==0.3.10 numpy==1.20.1 scipy==1.5.1 pandas==1.2.3 scikit-learn==0.24.1 statsmodels==0.10.2 python-igraph==0.9.0 louvain==0.7.0 leidenalg==0.8.3\n"
     ]
    }
   ],
   "source": [
    "import besca as bc\n",
    "import numpy as np\n",
    "import pandas as pd\n",
    "import scanpy as sc\n",
    "import matplotlib.pyplot as plt\n",
    "from scipy import sparse, io\n",
    "import os\n",
    "import time\n",
    "import logging\n",
    "import seaborn as sns\n",
    "sc.logging.print_header()\n",
    "\n",
    "# for standard processing, set verbosity to minimum\n",
    "sc.settings.verbosity = 0  # verbosity: errors (0), warnings (1), info (2), hints (3)\n",
    "sc.settings.set_figure_params(dpi=80)\n",
    "version = '2.8'\n",
    "start0 = time.time()"
   ]
  },
  {
   "cell_type": "code",
   "execution_count": 5,
   "id": "wrapped-story",
   "metadata": {},
   "outputs": [],
   "source": [
    "#define standardized filepaths based on above input\n",
    "root_path = os.getcwd()\n",
    "bescapath_full = os.path.dirname(bc.__file__)\n",
    "bescapath = os.path.split(bescapath_full)[0]\n",
    "\n",
    "analysis_name = 'sw_besca24' ## your analysis name, as per standard workflow\n",
    "species='human' ## or mouse for now\n",
    "conversion=False\n",
    "#analysis_name = 'standard_workflow_besca2_CLR' #use _CLR or _DSB for citeseq analysis\n",
    "annot_author = 'annot_author' ### replace with own userid\n",
    "\n",
    "# Choose the clustering to base the annotation on.\n",
    "# leiden (RNA), citeseq (protein)\n",
    "clusters='leiden' \n",
    "results_folder = os.path.join(root_path, 'analyzed')\n",
    "results_folder = os.path.join(results_folder, analysis_name)\n",
    "\n",
    "### Set global DE cutoffs \n",
    "myfc=1 # (log2FC)\n",
    "mypval=0.05 # adjusted p-val\n",
    "\n",
    "use_example_dataset = True ### Set to False if own data"
   ]
  },
  {
   "cell_type": "code",
   "execution_count": null,
   "id": "accomplished-balloon",
   "metadata": {},
   "outputs": [],
   "source": [
    "\n",
    "if use_example_dataset:\n",
    "    analysis_name='Granja_processed'\n",
    "    results_folder = os.path.split(os.getcwd())[0] + '/besca/datasets/data/'\n",
    "    clusters='leiden'\n",
    "    # This line will either download, or load the datasets\n",
    "    adata = bc.datasets.Granja2019_processed()\n",
    "    # This line exports the annotation for the annotation."
   ]
  },
  {
   "cell_type": "markdown",
   "id": "fancy-typing",
   "metadata": {},
   "source": [
    "### Example 1: export cell type markers "
   ]
  },
  {
   "cell_type": "code",
   "execution_count": 18,
   "id": "little-denial",
   "metadata": {},
   "outputs": [],
   "source": [
    "### Metadata setup for cell type signatures\n",
    "User=annot_author\n",
    "Source='internal scseq'  \n",
    "Subtype='healthy' # or healthy, onc, ...\n",
    "domain='cell marker'\n",
    "studyID='Granja2019' # replace with the scMongoDB studyID\n",
    "analysisID=analysis_name\n",
    "genesetname=studyID+'_dblabel'\n",
    "suffix='_BMPBMC_user' # replace with specific info, e.g. _mc38_pcs\n",
    "signature_dict={}"
   ]
  },
  {
   "cell_type": "code",
   "execution_count": 19,
   "id": "accompanied-mechanics",
   "metadata": {},
   "outputs": [],
   "source": [
    "### Perform DE cells of each celltype3 vs. all other cells\n",
    "DEgenes=bc.tl.dge.get_de(adata,'dblabel',demethod='wilcoxon',topnr=5000, logfc=myfc,padj=pval)\n"
   ]
  },
  {
   "cell_type": "markdown",
   "id": "assured-uniform",
   "metadata": {},
   "source": [
    "##### Example 1: naive B cell markers\n"
   ]
  },
  {
   "cell_type": "code",
   "execution_count": null,
   "id": "existing-doubt",
   "metadata": {},
   "outputs": [],
   "source": [
    "### Select only top 35 genes (in order of p-val) for 2 cell types and plot expression per cell type\n",
    "coi='naive B cell' # full dblabel\n",
    "coishort='NaiBcell' # dblabel short\n",
    "tops=list(DEgenes[coi].sort_values('Log2FC',ascending=False)['Name'][0:35])\n",
    "sc.pl.dotplot(adata, var_names=tops,groupby='celltype3')\n",
    "\n",
    "\n",
    "setName=coishort+suffix\n",
    "desc='Genes higher expressed in '+ coi + ' vs. all other cells in Kotliarov et al. 2019 data; coefs are log2FC'\n",
    "pdout=DEgenes[coi].sort_values('Log2FC',ascending=False)[0:30]\n",
    "genes=\"\\t\".join(list(pdout['Name'].astype(str) + \" | \" + pdout['Log2FC'].round(2).astype(str)))\n",
    "signature_dict[setName] = bc.tl.sig.make_gmtx(setName,desc,User,Source,Subtype,domain,genesetname,genes,studyID,analysisID)\n"
   ]
  },
  {
   "cell_type": "markdown",
   "id": "metric-coordinator",
   "metadata": {},
   "source": [
    "##### Example 2: pDC markers"
   ]
  },
  {
   "cell_type": "code",
   "execution_count": null,
   "id": "appropriate-bulgarian",
   "metadata": {},
   "outputs": [],
   "source": [
    "### Select only top 15 genes (in order of p-val) for 2 cell types and plot expression per cell type\n",
    "coi='plasmacytoid dendritic cell' # full dblabel\n",
    "coishort='pDC' #dblabel short\n",
    "tops=list(DEgenes[coi].sort_values('Log2FC',ascending=False)['Name'][0:35])\n",
    "sc.pl.dotplot(adata, var_names=tops,groupby='celltype3')\n",
    "\n",
    "setName=coishort+suffix\n",
    "desc='Genes higher expressed in '+ coi + ' vs. all other cells in MC38 in vivo exp ID tumor; coefs are log2FC'\n",
    "pdout=DEgenes[coi].sort_values('Log2FC',ascending=False)[0:30]\n",
    "genes=\"\\t\".join(list(pdout['Name'].astype(str) + \" | \" + pdout['Log2FC'].round(2).astype(str)))\n",
    "signature_dict[setName] = bc.tl.sig.make_gmtx(setName,desc,User,Source,Subtype,domain,genesetname,genes,studyID,analysisID)\n",
    "\n"
   ]
  },
  {
   "cell_type": "markdown",
   "id": "hungarian-anime",
   "metadata": {},
   "source": [
    "And now export the signatures to a .gmtx file"
   ]
  },
  {
   "cell_type": "code",
   "execution_count": null,
   "id": "photographic-import",
   "metadata": {},
   "outputs": [],
   "source": [
    "outgmtfile=results_folder+'/Celltypemarkers.gmtx' ### replace this with the path and file name of interest\n",
    "\n",
    "bc.tl.sig.write_gmtx_forgems(signature_dict, outgmtfile)"
   ]
  },
  {
   "cell_type": "markdown",
   "id": "sexual-sheffield",
   "metadata": {},
   "source": [
    "### Example 2: export condition markers"
   ]
  },
  {
   "cell_type": "markdown",
   "id": "banner-signal",
   "metadata": {},
   "source": [
    "This is a similar setup to a perturbation setting. Here, we only focus on a cell of a specific type and calculate differences PBMC vs. bone marrow, thus the example is a tissue marker.  "
   ]
  },
  {
   "cell_type": "code",
   "execution_count": 39,
   "id": "vital-mountain",
   "metadata": {},
   "outputs": [],
   "source": [
    "### Metadata setup for cell type signatures\n",
    "User=annot_author\n",
    "Source='internal scseq'  \n",
    "Subtype='healthy' # or healthy, onc, ...\n",
    "domain='tissue marker' ### change to perturbation if needed\n",
    "studyID='Granja2019' # replace with the scMongoDB studyID\n",
    "analysisID=analysis_name\n",
    "genesetname=studyID+'_BMvsPBMC_higher' # for perturbation e.g. Pembro_induced_MC38CD8Tcell\n",
    "suffix='_'+studyID # replace with specific info, e.g. _mc38_pcs\n",
    "signature_dict={}\n"
   ]
  },
  {
   "cell_type": "code",
   "execution_count": 43,
   "id": "shared-statistics",
   "metadata": {},
   "outputs": [],
   "source": [
    "###### Genes DE expressed BM vs. PBMC in CD8+ T cells"
   ]
  },
  {
   "cell_type": "code",
   "execution_count": 35,
   "id": "bearing-kruger",
   "metadata": {},
   "outputs": [],
   "source": [
    "totest=adata[adata.obs['Type'].isin(['BMMC','PBMC'])].copy()\n",
    "totest=totest[totest.obs['celltype2']=='CD8-positive, alpha-beta T cell']"
   ]
  },
  {
   "cell_type": "code",
   "execution_count": 36,
   "id": "expensive-david",
   "metadata": {},
   "outputs": [
    {
     "name": "stderr",
     "output_type": "stream",
     "text": [
      "Trying to set attribute `.uns` of view, copying.\n"
     ]
    }
   ],
   "source": [
    "\n",
    "DEgenes=bc.tl.dge.get_de(totest,'Type',demethod='wilcoxon',topnr=5000, logfc=myfc,padj=mypval) ### Would be treatment_id"
   ]
  },
  {
   "cell_type": "code",
   "execution_count": 40,
   "id": "rental-million",
   "metadata": {},
   "outputs": [
    {
     "data": {
      "text/html": [
       "<div>\n",
       "<style scoped>\n",
       "    .dataframe tbody tr th:only-of-type {\n",
       "        vertical-align: middle;\n",
       "    }\n",
       "\n",
       "    .dataframe tbody tr th {\n",
       "        vertical-align: top;\n",
       "    }\n",
       "\n",
       "    .dataframe thead th {\n",
       "        text-align: right;\n",
       "    }\n",
       "</style>\n",
       "<table border=\"1\" class=\"dataframe\">\n",
       "  <thead>\n",
       "    <tr style=\"text-align: right;\">\n",
       "      <th></th>\n",
       "      <th>Name</th>\n",
       "      <th>Score</th>\n",
       "      <th>Log2FC</th>\n",
       "      <th>P.adj</th>\n",
       "    </tr>\n",
       "  </thead>\n",
       "  <tbody>\n",
       "    <tr>\n",
       "      <th>275</th>\n",
       "      <td>MTRNR2L1</td>\n",
       "      <td>3.382508</td>\n",
       "      <td>7.325880</td>\n",
       "      <td>1.658312e-02</td>\n",
       "    </tr>\n",
       "    <tr>\n",
       "      <th>42</th>\n",
       "      <td>SCGB3A1</td>\n",
       "      <td>9.673761</td>\n",
       "      <td>5.456781</td>\n",
       "      <td>6.321058e-20</td>\n",
       "    </tr>\n",
       "    <tr>\n",
       "      <th>35</th>\n",
       "      <td>HBB</td>\n",
       "      <td>10.380047</td>\n",
       "      <td>5.323501</td>\n",
       "      <td>6.049603e-23</td>\n",
       "    </tr>\n",
       "    <tr>\n",
       "      <th>89</th>\n",
       "      <td>HBA2</td>\n",
       "      <td>6.697232</td>\n",
       "      <td>5.301816</td>\n",
       "      <td>1.652583e-09</td>\n",
       "    </tr>\n",
       "    <tr>\n",
       "      <th>172</th>\n",
       "      <td>HBA1</td>\n",
       "      <td>4.556225</td>\n",
       "      <td>4.140492</td>\n",
       "      <td>2.008633e-04</td>\n",
       "    </tr>\n",
       "    <tr>\n",
       "      <th>...</th>\n",
       "      <td>...</td>\n",
       "      <td>...</td>\n",
       "      <td>...</td>\n",
       "      <td>...</td>\n",
       "    </tr>\n",
       "    <tr>\n",
       "      <th>134</th>\n",
       "      <td>CBX4</td>\n",
       "      <td>5.460600</td>\n",
       "      <td>1.036407</td>\n",
       "      <td>2.466074e-06</td>\n",
       "    </tr>\n",
       "    <tr>\n",
       "      <th>27</th>\n",
       "      <td>MGAT4A</td>\n",
       "      <td>11.940870</td>\n",
       "      <td>1.035104</td>\n",
       "      <td>1.950649e-30</td>\n",
       "    </tr>\n",
       "    <tr>\n",
       "      <th>133</th>\n",
       "      <td>SYAP1</td>\n",
       "      <td>5.482232</td>\n",
       "      <td>1.032961</td>\n",
       "      <td>2.191131e-06</td>\n",
       "    </tr>\n",
       "    <tr>\n",
       "      <th>252</th>\n",
       "      <td>GPR155</td>\n",
       "      <td>3.545514</td>\n",
       "      <td>1.030180</td>\n",
       "      <td>9.821738e-03</td>\n",
       "    </tr>\n",
       "    <tr>\n",
       "      <th>60</th>\n",
       "      <td>ARRDC3</td>\n",
       "      <td>8.117620</td>\n",
       "      <td>1.028802</td>\n",
       "      <td>5.422986e-14</td>\n",
       "    </tr>\n",
       "  </tbody>\n",
       "</table>\n",
       "<p>83 rows × 4 columns</p>\n",
       "</div>"
      ],
      "text/plain": [
       "         Name      Score    Log2FC         P.adj\n",
       "275  MTRNR2L1   3.382508  7.325880  1.658312e-02\n",
       "42    SCGB3A1   9.673761  5.456781  6.321058e-20\n",
       "35        HBB  10.380047  5.323501  6.049603e-23\n",
       "89       HBA2   6.697232  5.301816  1.652583e-09\n",
       "172      HBA1   4.556225  4.140492  2.008633e-04\n",
       "..        ...        ...       ...           ...\n",
       "134      CBX4   5.460600  1.036407  2.466074e-06\n",
       "27     MGAT4A  11.940870  1.035104  1.950649e-30\n",
       "133     SYAP1   5.482232  1.032961  2.191131e-06\n",
       "252    GPR155   3.545514  1.030180  9.821738e-03\n",
       "60     ARRDC3   8.117620  1.028802  5.422986e-14\n",
       "\n",
       "[83 rows x 4 columns]"
      ]
     },
     "execution_count": 40,
     "metadata": {},
     "output_type": "execute_result"
    }
   ],
   "source": [
    "DEgenes['BMMC'].sort_values('Log2FC', ascending=False)"
   ]
  },
  {
   "cell_type": "code",
   "execution_count": 46,
   "id": "employed-pipeline",
   "metadata": {},
   "outputs": [
    {
     "name": "stdout",
     "output_type": "stream",
     "text": [
      "Metadata for signature BMMChigh_inCD8Tcell_Granja2019 successfully captured\n"
     ]
    }
   ],
   "source": [
    "setName='BMMChigh_inCD8Tcell'+suffix # for perturbation e.g. Pembro_induced_MC38CD8Tcell_T1\n",
    "desc='Genes higher expressed in bone marrow vs. PBMC in CD8-positive T cells in Granja et al. dataset; coefs are log2FC'\n",
    "# for perturbation e.g. 'Genes higher expressed in Pembro vs. vehicle in CD8-positive T cells in MC38 in vivo exp. ID time T2; coefs are log2FC'\n",
    "pdout=DEgenes['BMMC'].sort_values('Log2FC', ascending=False)\n",
    "genes=\"\\t\".join(list(pdout['Name'].astype(str) + \" | \" + pdout['Log2FC'].round(2).astype(str)))\n",
    "signature_dict[setName]=bc.tl.sig.make_gmtx(setName,desc,User,Source,Subtype,domain,genesetname,genes,studyID,analysisID)"
   ]
  },
  {
   "cell_type": "code",
   "execution_count": 48,
   "id": "maritime-combat",
   "metadata": {},
   "outputs": [
    {
     "name": "stdout",
     "output_type": "stream",
     "text": [
      "Metadata for signature PBMChigh_inCD8Tcell_Granja2019 successfully captured\n"
     ]
    }
   ],
   "source": [
    "setName='PBMChigh_inCD8Tcell'+suffix # for perturbation e.g. Pembro_induced_MC38CD8Tcell_T1\n",
    "desc='Genes higher expressed in PBMC vs. bone marrow in CD8-positive T cells in Granja et al. dataset; coefs are log2FC'\n",
    "# for perturbation e.g. 'Genes higher expressed in Pembro vs. vehicle in CD8-positive T cells in MC38 in vivo exp. ID time T2; coefs are log2FC'\n",
    "pdout=DEgenes['PBMC'].sort_values('Log2FC', ascending=False)\n",
    "genes=\"\\t\".join(list(pdout['Name'].astype(str) + \" | \" + pdout['Log2FC'].round(2).astype(str)))\n",
    "signature_dict[setName]=bc.tl.sig.make_gmtx(setName,desc,User,Source,Subtype,domain,genesetname,genes,studyID,analysisID)"
   ]
  },
  {
   "cell_type": "code",
   "execution_count": 51,
   "id": "brave-stamp",
   "metadata": {},
   "outputs": [
    {
     "data": {
      "text/plain": [
       "{'BMMChigh_inCD8Tcell_Granja2019': {'setName': 'BMMChigh_inCD8Tcell_Granja2019',\n",
       "  'desc': 'Genes higher expressed in bone marrow vs. PBMC in CD8-positive T cells in Granja et al. dataset; coefs are log2FC',\n",
       "  'User': 'annot_author',\n",
       "  'Source': 'internal scseq',\n",
       "  'Subtype': 'healthy',\n",
       "  'geneset': 'Granja2019_BMvsPBMC_higher',\n",
       "  'domain': 'tissue marker',\n",
       "  'studyID': 'Granja2019',\n",
       "  'analysisID': 'Granja_processed',\n",
       "  'genes|logFC': 'MTRNR2L1 | 7.33\\tSCGB3A1 | 5.46\\tHBB | 5.32\\tHBA2 | 5.3\\tHBA1 | 4.14\\tGSTM4 | 3.54\\tMETRNL | 2.83\\tRGS1 | 2.82\\tNR4A2 | 2.72\\tCOL18A1 | 2.68\\tENC1 | 2.46\\tZNF331 | 2.35\\tDUSP5 | 2.35\\tCCL3 | 2.26\\tPOMC | 2.11\\tODC1 | 2.1\\tPTP4A1 | 2.07\\tRBM38 | 1.92\\tHMGB2 | 1.88\\tGADD45A | 1.78\\tGSTM3 | 1.68\\tIRS2 | 1.66\\tSNN | 1.59\\tSOCS1 | 1.58\\tGNAQ | 1.58\\tHLA-DQB1 | 1.52\\tXCL2 | 1.52\\tMTFP1 | 1.5\\tSYTL3 | 1.48\\tTNFAIP3 | 1.48\\tCREM | 1.48\\tCHPT1 | 1.43\\tRNF125 | 1.42\\tPIK3R1 | 1.42\\tCD45RA_PROT | 1.4\\tP2RY10 | 1.39\\tPDE4B | 1.36\\tCSRNP1 | 1.36\\tOSER1 | 1.34\\tCXCR4 | 1.33\\tCD160 | 1.31\\tARHGAP9 | 1.29\\tPPDPF | 1.28\\tZC3H12A | 1.28\\tCEBPB | 1.23\\tMAPK1IP1L | 1.23\\tVAMP2 | 1.23\\tNFKB2 | 1.23\\tFBXO33 | 1.21\\tYPEL5 | 1.2\\tTTC32 | 1.2\\tSBDS | 1.2\\tVPS37B | 1.19\\tPTGER4 | 1.19\\tATP8A1 | 1.19\\tUSP36 | 1.18\\tSLC35E1 | 1.17\\tRIC3 | 1.17\\tFAM177A1 | 1.16\\tMAP3K8 | 1.15\\tALG13 | 1.14\\tCD8B | 1.14\\tOTUD1 | 1.13\\tITGB2-AS1 | 1.12\\tSIK1 | 1.12\\tSDCBP | 1.11\\tCCL4 | 1.11\\tSAMSN1 | 1.1\\tLEPROTL1 | 1.1\\tDYNLT1 | 1.1\\tREL | 1.1\\tENO2 | 1.09\\tINPP4B | 1.07\\tSC5D | 1.06\\tFRAT2 | 1.06\\tITPKB | 1.05\\tTRABD2A | 1.04\\tSVIP | 1.04\\tCBX4 | 1.04\\tMGAT4A | 1.04\\tSYAP1 | 1.03\\tGPR155 | 1.03\\tARRDC3 | 1.03'},\n",
       " 'PBMChigh_inCD8Tcell_Granja2019': {'setName': 'PBMChigh_inCD8Tcell_Granja2019',\n",
       "  'desc': 'Genes higher expressed in PBMC vs. bone marrow in CD8-positive T cells in Granja et al. dataset; coefs are log2FC',\n",
       "  'User': 'annot_author',\n",
       "  'Source': 'internal scseq',\n",
       "  'Subtype': 'healthy',\n",
       "  'geneset': 'Granja2019_BMvsPBMC_higher',\n",
       "  'domain': 'tissue marker',\n",
       "  'studyID': 'Granja2019',\n",
       "  'analysisID': 'Granja_processed',\n",
       "  'genes|logFC': 'ARHGEF10 | 8.07\\tSPATC1L | 6.96\\tGNLY | 5.03\\tHLA-DQA2 | 4.61\\tSLC4A10 | 3.78\\tLTK | 3.61\\tNSG1 | 3.49\\tCENPK | 3.33\\tTNF | 2.91\\tCD40LG | 2.89\\tCEBPD | 2.68\\tDHRS4 | 2.56\\tKLRF1 | 2.53\\tBBC3 | 2.44\\tLGALS3 | 2.21\\tGZMB | 2.2\\tFAM129A | 2.18\\tS100A11 | 2.13\\tHPGD | 2.07\\tMYC | 1.99\\tPTMS | 1.9\\tZBTB16 | 1.89\\tERN1 | 1.89\\tFGFBP2 | 1.81\\tCXXC5 | 1.79\\tKLRB1 | 1.75\\tCDC42EP3 | 1.73\\tIL7R | 1.66\\tNCR3 | 1.63\\tKMT2E-AS1 | 1.63\\tPNP | 1.59\\tKLF6 | 1.57\\tGIMAP6 | 1.53\\tADRB2 | 1.52\\tCLIC3 | 1.5\\tS1PR5 | 1.49\\tGALM | 1.49\\tTNFRSF1A | 1.48\\tGIMAP2 | 1.46\\tSYTL2 | 1.45\\tLYAR | 1.44\\tGZMH | 1.44\\tLINC00861 | 1.4\\tMYO1F | 1.4\\tPIM1 | 1.39\\tS100A4 | 1.38\\tBATF | 1.38\\tPLEK | 1.37\\tSPON2 | 1.37\\tFCER1G | 1.37\\tNUDT2 | 1.36\\tPRR5 | 1.32\\tLGALS1 | 1.32\\tGIMAP4 | 1.3\\tPRF1 | 1.29\\tGIMAP1 | 1.28\\tKLRG1 | 1.28\\tSTK38 | 1.26\\tEFHD2 | 1.24\\tNKG7 | 1.24\\tGLRX | 1.23\\tANXA1 | 1.22\\tA2M-AS1 | 1.19\\tAPOBEC3C | 1.19\\tMYBL1 | 1.17\\tPHACTR2 | 1.15\\tEOMES | 1.14\\tGPR171 | 1.14\\tITCH | 1.13\\tYWHAH | 1.12\\tAPOBEC3G | 1.11\\tCCL5 | 1.09\\tTMEM107 | 1.09\\tRAP2B | 1.09\\tING4 | 1.09\\tPOLR2J3 | 1.05\\tSCNM1 | 1.05\\tCFLAR | 1.04\\tTMBIM1 | 1.02\\tTUBB | 1.01\\tEMP3 | 1.01\\tJUN | 1.01\\tHLA-DRB1 | 1.01\\tKDSR | 1.0'}}"
      ]
     },
     "execution_count": 51,
     "metadata": {},
     "output_type": "execute_result"
    }
   ],
   "source": [
    "signature_dict"
   ]
  },
  {
   "cell_type": "markdown",
   "id": "bottom-delta",
   "metadata": {},
   "source": [
    "And now export the signatures to a .gmtx file\n"
   ]
  },
  {
   "cell_type": "code",
   "execution_count": 79,
   "id": "funded-words",
   "metadata": {},
   "outputs": [],
   "source": [
    "\n",
    "outgmtfile=results_folder+'/Tissuemarkers.gmtx' ### replace this with the path and file name of interest\n",
    "\n",
    "bc.tl.sig.write_gmtx_forgems(signature_dict, outgmtfile)"
   ]
  },
  {
   "cell_type": "code",
   "execution_count": 49,
   "id": "thousand-thomas",
   "metadata": {},
   "outputs": [
    {
     "name": "stdout",
     "output_type": "stream",
     "text": [
      "[NbConvertApp] Converting notebook Signature_exports.ipynb to html\n",
      "[NbConvertApp] Writing 1307869 bytes to Signature_exports.html\n"
     ]
    }
   ],
   "source": [
    "! jupyter nbconvert --to html Signature_exports.ipynb\n"
   ]
  }
 ],
 "metadata": {
  "kernelspec": {
   "display_name": "besca-24",
   "language": "python",
   "name": "besca-24"
  },
  "language_info": {
   "codemirror_mode": {
    "name": "ipython",
    "version": 3
   },
   "file_extension": ".py",
   "mimetype": "text/x-python",
   "name": "python",
   "nbconvert_exporter": "python",
   "pygments_lexer": "ipython3",
   "version": "3.7.10"
  }
 },
 "nbformat": 4,
 "nbformat_minor": 5
}
