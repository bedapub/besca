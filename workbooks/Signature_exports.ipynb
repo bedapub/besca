{
 "cells": [
  {
   "cell_type": "markdown",
   "id": "baking-digit",
   "metadata": {},
   "source": [
    "# Signature exports\n",
    "\n",
    "This workbook exemplifies how to export various types of signatures for storage in [GeMS](https://github.com/bedapub/GeMS). "
   ]
  },
  {
   "cell_type": "code",
   "execution_count": 6,
   "id": "catholic-sydney",
   "metadata": {},
   "outputs": [
    {
     "name": "stdout",
     "output_type": "stream",
     "text": [
      "scanpy==1.6.0 anndata==0.7.5 umap==0.3.10 numpy==1.20.1 scipy==1.5.1 pandas==1.2.3 scikit-learn==0.24.1 statsmodels==0.10.2 python-igraph==0.9.0 louvain==0.7.0 leidenalg==0.8.3\n"
     ]
    }
   ],
   "source": [
    "import besca as bc\n",
    "import numpy as np\n",
    "import pandas as pd\n",
    "import scanpy as sc\n",
    "import matplotlib.pyplot as plt\n",
    "from scipy import sparse, io\n",
    "import os\n",
    "import time\n",
    "import logging\n",
    "import seaborn as sns\n",
    "sc.logging.print_header()\n",
    "\n",
    "# for standard processing, set verbosity to minimum\n",
    "sc.settings.verbosity = 0  # verbosity: errors (0), warnings (1), info (2), hints (3)\n",
    "sc.settings.set_figure_params(dpi=80)\n",
    "version = '2.8'\n",
    "start0 = time.time()"
   ]
  },
  {
   "cell_type": "code",
   "execution_count": 7,
   "id": "wrapped-story",
   "metadata": {},
   "outputs": [],
   "source": [
    "#define standardized filepaths based on above input\n",
    "root_path = os.getcwd()\n",
    "bescapath_full = os.path.dirname(bc.__file__)\n",
    "bescapath = os.path.split(bescapath_full)[0]\n",
    "\n",
    "analysis_name = 'sw_besca24' ## your analysis name, as per standard workflow\n",
    "species='human' ## or mouse for now\n",
    "conversion=False\n",
    "#analysis_name = 'standard_workflow_besca2_CLR' #use _CLR or _DSB for citeseq analysis\n",
    "annot_author = 'annot_author' ### replace with own userid\n",
    "\n",
    "# Choose the clustering to base the annotation on.\n",
    "# leiden (RNA), citeseq (protein)\n",
    "clusters='leiden' \n",
    "results_folder = os.path.join(root_path, 'analyzed')\n",
    "results_folder = os.path.join(results_folder, analysis_name)\n",
    "\n",
    "### Set global DE cutoffs \n",
    "myfc=1 # (log2FC)\n",
    "mypval=0.05 # adjusted p-val\n",
    "\n",
    "use_example_dataset = True ### Set to False if own data"
   ]
  },
  {
   "cell_type": "code",
   "execution_count": 8,
   "id": "accomplished-balloon",
   "metadata": {},
   "outputs": [],
   "source": [
    "if use_example_dataset:\n",
    "    analysis_name='Granja_processed'\n",
    "    results_folder = os.path.split(os.getcwd())[0] + '/besca/datasets/data/'\n",
    "    clusters='leiden'\n",
    "    # This line will either download, or load the datasets\n",
    "    adata = bc.datasets.Granja2019_processed()\n",
    "    # This line exports the annotation for the annotation."
   ]
  },
  {
   "cell_type": "markdown",
   "id": "fancy-typing",
   "metadata": {},
   "source": [
    "### Example 1: export cell type markers "
   ]
  },
  {
   "cell_type": "code",
   "execution_count": 9,
   "id": "little-denial",
   "metadata": {},
   "outputs": [],
   "source": [
    "### Metadata setup for cell type signatures\n",
    "User=annot_author\n",
    "Source='internal scseq'  \n",
    "Subtype='healthy' # or healthy, onc, ...\n",
    "domain='cell marker'\n",
    "studyID='Granja2019' # replace with the scMongoDB studyID\n",
    "analysisID=analysis_name\n",
    "genesetname=studyID+'_dblabel'\n",
    "suffix='_BMPBMC_user' # replace with specific info, e.g. _mc38_pcs\n",
    "signature_dict={}"
   ]
  },
  {
   "cell_type": "code",
   "execution_count": 10,
   "id": "accompanied-mechanics",
   "metadata": {},
   "outputs": [],
   "source": [
    "### Perform DE cells of each celltype3 vs. all other cells\n",
    "DEgenes=bc.tl.dge.get_de(adata,'dblabel',demethod='wilcoxon',topnr=5000, logfc=myfc,padj=mypval)\n"
   ]
  },
  {
   "cell_type": "markdown",
   "id": "assured-uniform",
   "metadata": {},
   "source": [
    "##### Example 1: naive B cell markers\n"
   ]
  },
  {
   "cell_type": "code",
   "execution_count": null,
   "id": "existing-doubt",
   "metadata": {},
   "outputs": [],
   "source": [
    "### Select only top 35 genes (in order of p-val) for 2 cell types and plot expression per cell type\n",
    "coi='naive B cell' # full dblabel\n",
    "coishort='NaiBcell' # dblabel short\n",
    "tops=list(DEgenes[coi].sort_values('Log2FC',ascending=False)['Name'][0:35])\n",
    "sc.pl.dotplot(adata, var_names=tops,groupby='celltype3')\n",
    "\n",
    "\n",
    "setName=coishort+suffix\n",
    "desc='Genes higher expressed in '+ coi + ' vs. all other cells in Kotliarov et al. 2019 data; coefs are log2FC'\n",
    "pdout=DEgenes[coi].sort_values('Log2FC',ascending=False)[0:30]\n",
    "genes=\"\\t\".join(list(pdout['Name'].astype(str) + \" | \" + pdout['Log2FC'].round(2).astype(str)))\n",
    "signature_dict[setName] = bc.tl.sig.make_gmtx(setName,desc,User,Source,Subtype,domain,genesetname,genes,studyID,analysisID)\n"
   ]
  },
  {
   "cell_type": "markdown",
   "id": "metric-coordinator",
   "metadata": {},
   "source": [
    "##### Example 2: pDC markers"
   ]
  },
  {
   "cell_type": "code",
   "execution_count": null,
   "id": "appropriate-bulgarian",
   "metadata": {},
   "outputs": [],
   "source": [
    "### Select only top 15 genes (in order of p-val) for 2 cell types and plot expression per cell type\n",
    "coi='plasmacytoid dendritic cell' # full dblabel\n",
    "coishort='pDC' #dblabel short\n",
    "tops=list(DEgenes[coi].sort_values('Log2FC',ascending=False)['Name'][0:35])\n",
    "sc.pl.dotplot(adata, var_names=tops,groupby='celltype3')\n",
    "\n",
    "setName=coishort+suffix\n",
    "desc='Genes higher expressed in '+ coi + ' vs. all other cells in MC38 in vivo exp ID tumor; coefs are log2FC'\n",
    "pdout=DEgenes[coi].sort_values('Log2FC',ascending=False)[0:30]\n",
    "genes=\"\\t\".join(list(pdout['Name'].astype(str) + \" | \" + pdout['Log2FC'].round(2).astype(str)))\n",
    "signature_dict[setName] = bc.tl.sig.make_gmtx(setName,desc,User,Source,Subtype,domain,genesetname,genes,studyID,analysisID)\n",
    "\n"
   ]
  },
  {
   "cell_type": "markdown",
   "id": "hungarian-anime",
   "metadata": {},
   "source": [
    "And now export the signatures to a .gmtx file"
   ]
  },
  {
   "cell_type": "code",
   "execution_count": null,
   "id": "photographic-import",
   "metadata": {},
   "outputs": [],
   "source": [
    "outgmtfile=results_folder+'/Celltypemarkers.gmtx' ### replace this with the path and file name of interest\n",
    "\n",
    "bc.tl.sig.write_gmtx_forgems(signature_dict, outgmtfile)"
   ]
  },
  {
   "cell_type": "markdown",
   "id": "sexual-sheffield",
   "metadata": {},
   "source": [
    "### Example 2: export condition markers"
   ]
  },
  {
   "cell_type": "markdown",
   "id": "banner-signal",
   "metadata": {},
   "source": [
    "This is a similar setup to a perturbation setting. Here, we only focus on a cell of a specific type and calculate differences PBMC vs. bone marrow, thus the example is a tissue marker.  "
   ]
  },
  {
   "cell_type": "code",
   "execution_count": 39,
   "id": "vital-mountain",
   "metadata": {},
   "outputs": [],
   "source": [
    "### Metadata setup for cell type signatures\n",
    "User=annot_author\n",
    "Source='internal scseq'  \n",
    "Subtype='healthy' # or healthy, onc, ...\n",
    "domain='tissue marker' ### change to perturbation if needed\n",
    "studyID='Granja2019' # replace with the scMongoDB studyID\n",
    "analysisID=analysis_name\n",
    "genesetname=studyID+'_BMvsPBMC_higher' # for perturbation e.g. Pembro_induced_MC38CD8Tcell\n",
    "suffix='_'+studyID # replace with specific info, e.g. _mc38_pcs\n",
    "signature_dict={}\n"
   ]
  },
  {
   "cell_type": "markdown",
   "id": "swedish-episode",
   "metadata": {},
   "source": [
    "###### Genes DE expressed BM vs. PBMC in CD8+ T cells"
   ]
  },
  {
   "cell_type": "code",
   "execution_count": 35,
   "id": "bearing-kruger",
   "metadata": {},
   "outputs": [],
   "source": [
    "totest=adata[adata.obs['Type'].isin(['BMMC','PBMC'])].copy()\n",
    "totest=totest[totest.obs['celltype2']=='CD8-positive, alpha-beta T cell']"
   ]
  },
  {
   "cell_type": "code",
   "execution_count": 36,
   "id": "expensive-david",
   "metadata": {},
   "outputs": [
    {
     "name": "stderr",
     "output_type": "stream",
     "text": [
      "Trying to set attribute `.uns` of view, copying.\n"
     ]
    }
   ],
   "source": [
    "\n",
    "DEgenes=bc.tl.dge.get_de(totest,'Type',demethod='wilcoxon',topnr=5000, logfc=myfc,padj=mypval) ### Would be treatment_id"
   ]
  },
  {
   "cell_type": "code",
   "execution_count": 46,
   "id": "employed-pipeline",
   "metadata": {},
   "outputs": [
    {
     "name": "stdout",
     "output_type": "stream",
     "text": [
      "Metadata for signature BMMChigh_inCD8Tcell_Granja2019 successfully captured\n"
     ]
    }
   ],
   "source": [
    "setName='BMMChigh_inCD8Tcell'+suffix # for perturbation e.g. Pembro_induced_MC38CD8Tcell_T1\n",
    "desc='Genes higher expressed in bone marrow vs. PBMC in CD8-positive T cells in Granja et al. dataset; coefs are log2FC'\n",
    "# for perturbation e.g. 'Genes higher expressed in Pembro vs. vehicle in CD8-positive T cells in MC38 in vivo exp. ID time T2; coefs are log2FC'\n",
    "pdout=DEgenes['BMMC'].sort_values('Log2FC', ascending=False)\n",
    "genes=\"\\t\".join(list(pdout['Name'].astype(str) + \" | \" + pdout['Log2FC'].round(2).astype(str)))\n",
    "signature_dict[setName]=bc.tl.sig.make_gmtx(setName,desc,User,Source,Subtype,domain,genesetname,genes,studyID,analysisID)"
   ]
  },
  {
   "cell_type": "code",
   "execution_count": 48,
   "id": "maritime-combat",
   "metadata": {},
   "outputs": [
    {
     "name": "stdout",
     "output_type": "stream",
     "text": [
      "Metadata for signature PBMChigh_inCD8Tcell_Granja2019 successfully captured\n"
     ]
    }
   ],
   "source": [
    "setName='PBMChigh_inCD8Tcell'+suffix # for perturbation e.g. Pembro_induced_MC38CD8Tcell_T1\n",
    "desc='Genes higher expressed in PBMC vs. bone marrow in CD8-positive T cells in Granja et al. dataset; coefs are log2FC'\n",
    "# for perturbation e.g. 'Genes higher expressed in Pembro vs. vehicle in CD8-positive T cells in MC38 in vivo exp. ID time T2; coefs are log2FC'\n",
    "pdout=DEgenes['PBMC'].sort_values('Log2FC', ascending=False)\n",
    "genes=\"\\t\".join(list(pdout['Name'].astype(str) + \" | \" + pdout['Log2FC'].round(2).astype(str)))\n",
    "signature_dict[setName]=bc.tl.sig.make_gmtx(setName,desc,User,Source,Subtype,domain,genesetname,genes,studyID,analysisID)"
   ]
  },
  {
   "cell_type": "markdown",
   "id": "bottom-delta",
   "metadata": {},
   "source": [
    "And now export the signatures to a .gmtx file\n"
   ]
  },
  {
   "cell_type": "code",
   "execution_count": 4,
   "id": "liked-abortion",
   "metadata": {},
   "outputs": [],
   "source": [
    "outgmtfile=results_folder+'/Tissuemarkers.gmtx' ### replace this with the path and file name of interest\n",
    "bc.tl.sig.write_gmtx_forgems(signature_dict, outgmtfile)"
   ]
  },
  {
   "cell_type": "markdown",
   "id": "guilty-intro",
   "metadata": {},
   "source": [
    "### Instead of writing to a .gmtx, directly upload to GeMS"
   ]
  },
  {
   "cell_type": "code",
   "execution_count": 45,
   "id": "fourth-unemployment",
   "metadata": {},
   "outputs": [],
   "source": [
    "outgmtfile=results_folder+'/Celltypemarkers.gmtx'"
   ]
  },
  {
   "cell_type": "code",
   "execution_count": 46,
   "id": "bigger-novel",
   "metadata": {},
   "outputs": [],
   "source": [
    "mysigs=bc.tl.sig.read_GMT_sign(outgmtfile,  directed=False, verbose=False) ### replace this with example file\n",
    "forheader=mysigs[list(mysigs.keys())[0]]\n",
    "del mysigs[list(mysigs.keys())[0]]"
   ]
  },
  {
   "cell_type": "code",
   "execution_count": 47,
   "id": "noted-fiction",
   "metadata": {},
   "outputs": [],
   "source": [
    "### read the description as well\n",
    "mysigsdesc=pd.read_csv(outgmtfile,sep='\\t')\n",
    "description=pd.Series([x[1] for x in list(mysigsdesc.index)])\n",
    "description.index=[x[0] for x in list(mysigsdesc.index)]"
   ]
  },
  {
   "cell_type": "code",
   "execution_count": 48,
   "id": "forced-newman",
   "metadata": {},
   "outputs": [],
   "source": [
    "#### Set parameters\n",
    "params = {'gf': 0, 'ti': 9606}\n",
    "params['us']=mysigs[list(mysigs.keys())[0]][0]\n",
    "params['so']=mysigs[list(mysigs.keys())[0]][1]\n",
    "params['st']=mysigs[list(mysigs.keys())[0]][2]\n",
    "params['do']=mysigs[list(mysigs.keys())[0]][4]\n",
    "\n",
    "headers = ['setName', 'desc','geneset']+forheader[5:7]+['genes | logFC']"
   ]
  },
  {
   "cell_type": "code",
   "execution_count": 49,
   "id": "supposed-update",
   "metadata": {},
   "outputs": [
    {
     "data": {
      "text/plain": [
       "{'gf': 0,\n",
       " 'ti': 9606,\n",
       " 'so': 'internal scseq',\n",
       " 'us': 'annot_author',\n",
       " 'st': 'healthy',\n",
       " 'do': 'cell marker'}"
      ]
     },
     "execution_count": 49,
     "metadata": {},
     "output_type": "execute_result"
    }
   ],
   "source": [
    "params"
   ]
  },
  {
   "cell_type": "code",
   "execution_count": 50,
   "id": "nuclear-receptor",
   "metadata": {},
   "outputs": [],
   "source": [
    "parsed=[]\n",
    "for key in mysigs.keys():\n",
    "    tmp=mysigs[key].copy()\n",
    "    mysigs[key].pop(0)\n",
    "    mysigs[key].pop(0)\n",
    "    mysigs[key].pop(0)\n",
    "    mysigs[key].pop(1)\n",
    "    mysigs[key].insert(0,description[key])\n",
    "    parsed.append([key]+mysigs[key])"
   ]
  },
  {
   "cell_type": "code",
   "execution_count": 52,
   "id": "entire-restoration",
   "metadata": {},
   "outputs": [],
   "source": [
    "dataIn_1 = {\n",
    "    'headers': headers,\n",
    "    'parsed': parsed,\n",
    "    'params': params\n",
    "}"
   ]
  },
  {
   "cell_type": "code",
   "execution_count": 53,
   "id": "uniform-stadium",
   "metadata": {},
   "outputs": [],
   "source": [
    "from requests import post\n",
    "import yaml\n",
    "with open('.credentials/gems.yml') as f: ### replace this with your credentials for GeMS API if available\n",
    "    dataMap = yaml.safe_load(f)\n",
    "dataMap\n",
    "\n",
    "BASE_URL_1 = 'http://' + dataMap['hostname'] + ':' + str(dataMap['localport']) + '/api/insert'\n"
   ]
  },
  {
   "cell_type": "code",
   "execution_count": 54,
   "id": "regional-handbook",
   "metadata": {},
   "outputs": [
    {
     "name": "stdout",
     "output_type": "stream",
     "text": [
      "{'response': [200]}\n"
     ]
    }
   ],
   "source": [
    "returnJSON = post(BASE_URL_1, json=dataIn_1).json()\n",
    "print(returnJSON)"
   ]
  },
  {
   "cell_type": "markdown",
   "id": "italian-negotiation",
   "metadata": {},
   "source": [
    "#### Remove from GeMS signatures that are not desired"
   ]
  },
  {
   "cell_type": "code",
   "execution_count": 57,
   "id": "optical-truth",
   "metadata": {},
   "outputs": [],
   "source": [
    "BASE_URL_2 = 'http://' + dataMap['hostname'] + ':' + str(dataMap['localport']) + '/api/remove'"
   ]
  },
  {
   "cell_type": "code",
   "execution_count": 58,
   "id": "south-shade",
   "metadata": {},
   "outputs": [],
   "source": [
    "toRemove = []\n",
    "for key in mysigs.keys(): \n",
    "    toRemove.append(\n",
    "    {\n",
    "        'setName': key, \n",
    "        'source': 'internal scseq', \n",
    "        'user': 'annot_author', \n",
    "        'subtype': 'healthy',\n",
    "    })\n",
    "\n",
    "dataIn_2 = {\n",
    "    'genesets': toRemove\n",
    "}"
   ]
  },
  {
   "cell_type": "code",
   "execution_count": 59,
   "id": "insured-outside",
   "metadata": {},
   "outputs": [
    {
     "name": "stdout",
     "output_type": "stream",
     "text": [
      "{'response': 200}\n"
     ]
    }
   ],
   "source": [
    "returnJSON = post(BASE_URL_2, json=dataIn_2).json()\n",
    "print(returnJSON)"
   ]
  },
  {
   "cell_type": "code",
   "execution_count": 60,
   "id": "thousand-thomas",
   "metadata": {},
   "outputs": [
    {
     "name": "stdout",
     "output_type": "stream",
     "text": [
      "[NbConvertApp] Converting notebook Signature_exports.ipynb to html\n",
      "[NbConvertApp] Writing 1330474 bytes to Signature_exports.html\n"
     ]
    }
   ],
   "source": [
    "! jupyter nbconvert --to html Signature_exports.ipynb\n"
   ]
  }
 ],
 "metadata": {
  "kernelspec": {
   "display_name": "besca-24",
   "language": "python",
   "name": "besca-24"
  },
  "language_info": {
   "codemirror_mode": {
    "name": "ipython",
    "version": 3
   },
   "file_extension": ".py",
   "mimetype": "text/x-python",
   "name": "python",
   "nbconvert_exporter": "python",
   "pygments_lexer": "ipython3",
   "version": "3.7.10"
  }
 },
 "nbformat": 4,
 "nbformat_minor": 5
}
