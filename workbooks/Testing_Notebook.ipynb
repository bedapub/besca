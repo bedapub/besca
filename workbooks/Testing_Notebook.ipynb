{
 "cells": [
  {
   "cell_type": "markdown",
   "metadata": {},
   "source": [
    "# Test notebook\n",
    "\n",
    "This notebook can be used to test a besca version to ensure that everything is still functional.\n",
    "\n",
    "It shows some analysis results presentations and should be checked before a release."
   ]
  },
  {
   "cell_type": "code",
   "execution_count": null,
   "metadata": {},
   "outputs": [],
   "source": [
    "import warnings\n",
    "warnings.filterwarnings(\"ignore\", message=\"numpy.dtype size changed\")"
   ]
  },
  {
   "cell_type": "code",
   "execution_count": null,
   "metadata": {},
   "outputs": [],
   "source": [
    "import sys\n",
    "sys.path1 = [x for x in sys.path if \"besca2.2\" in x]\n",
    "sys.path2 = [x for x in sys.path if \"besca2.2\" not in x]\n",
    "sys.path = sys.path1 + sys.path2"
   ]
  },
  {
   "cell_type": "code",
   "execution_count": null,
   "metadata": {},
   "outputs": [],
   "source": [
    "import scanpy as sc\n",
    "import besca as bc\n",
    "import matplotlib.pyplot as plt\n",
    "import numpy as np\n",
    "import os\n",
    "import pandas as pd\n",
    "\n",
    "vers = bc.print_software_versions()"
   ]
  },
  {
   "cell_type": "markdown",
   "metadata": {},
   "source": [
    "# testing of helper functions"
   ]
  },
  {
   "cell_type": "code",
   "execution_count": null,
   "metadata": {},
   "outputs": [],
   "source": [
    "adata = bc.datasets.pbmc3k_processed()\n",
    "adata_raw = bc.get_raw(adata)"
   ]
  },
  {
   "cell_type": "markdown",
   "metadata": {},
   "source": [
    "# testing of count functions"
   ]
  },
  {
   "cell_type": "code",
   "execution_count": null,
   "metadata": {},
   "outputs": [],
   "source": [
    "adata = bc.datasets.Baron2016_processed()"
   ]
  },
  {
   "cell_type": "code",
   "execution_count": null,
   "metadata": {},
   "outputs": [],
   "source": [
    "adata"
   ]
  },
  {
   "cell_type": "code",
   "execution_count": null,
   "metadata": {},
   "outputs": [],
   "source": [
    "bc.tl.count_occurrence_subset(adata=adata, count_variable='leiden', subset_variable='Individual')"
   ]
  },
  {
   "cell_type": "code",
   "execution_count": null,
   "metadata": {},
   "outputs": [],
   "source": [
    "bc.tl.count_occurrence_subset_conditions(adata, subset_variable = 'dblabel', count_variable = 'leiden', condition_identifier = 'Individual', )"
   ]
  },
  {
   "cell_type": "code",
   "execution_count": null,
   "metadata": {},
   "outputs": [],
   "source": [
    "fig = bc.pl.celllabel_quant_boxplot(adata, count_variable = 'leiden', subset_variable = 'dblabel', condition_identifier = 'Individual',  plot_percentage = True);"
   ]
  },
  {
   "cell_type": "code",
   "execution_count": null,
   "metadata": {},
   "outputs": [],
   "source": [
    "fig = bc.pl.celllabel_quant_stackedbar(adata, count_variable = 'leiden', subset_variable = 'Individual');"
   ]
  },
  {
   "cell_type": "markdown",
   "metadata": {},
   "source": [
    "# Testing with PBMC3k Dataset"
   ]
  },
  {
   "cell_type": "code",
   "execution_count": null,
   "metadata": {},
   "outputs": [],
   "source": [
    "adata = bc.datasets.pbmc3k_raw()"
   ]
  },
  {
   "cell_type": "code",
   "execution_count": null,
   "metadata": {},
   "outputs": [],
   "source": [
    "#define thresholds\n",
    "min_genes = 600\n",
    "min_cells = 2\n",
    "min_UMI = 600\n",
    "max_UMI = 6500\n",
    "max_mito = 0.05\n",
    "max_genes = 1900\n",
    "\n",
    "#define outdir\n",
    "outdir = '../besca_test/pbmc3k/'\n",
    "\n",
    "#set randomseed\n",
    "random_seed = 0"
   ]
  },
  {
   "cell_type": "code",
   "execution_count": null,
   "metadata": {},
   "outputs": [],
   "source": [
    "#visualize filtering thresholds\n",
    "fig, ((ax1, ax2, ax3), (ax4, ax5, ax6))= plt.subplots(ncols=3, nrows=2)\n",
    "fig.set_figwidth(15)\n",
    "fig.set_figheight(8)\n",
    "fig.tight_layout(pad=4.5)\n",
    "\n",
    "bc.pl.kp_genes(adata, min_genes=min_genes, ax = ax1)\n",
    "bc.pl.kp_cells(adata, min_cells=min_cells, ax = ax2)\n",
    "bc.pl.kp_counts(adata, min_counts=min_UMI, ax = ax3)\n",
    "bc.pl.max_counts(adata, max_counts=max_UMI, ax = ax4)\n",
    "bc.pl.max_mito(adata, max_mito=max_mito, annotation_type='SYMBOL', species='human', ax = ax5)\n",
    "bc.pl.max_genes(adata, max_genes=max_genes)"
   ]
  },
  {
   "cell_type": "code",
   "execution_count": null,
   "metadata": {},
   "outputs": [],
   "source": [
    "#perform filtering of the thresholds\n",
    "adata = bc.pp.filter(adata, max_counts=max_UMI, max_genes=max_genes, max_mito=max_mito,min_genes=min_genes, min_counts=min_UMI, min_cells=min_cells)"
   ]
  },
  {
   "cell_type": "code",
   "execution_count": null,
   "metadata": {},
   "outputs": [],
   "source": [
    "sc.pl.violin(adata, ['n_counts', 'n_genes', 'percent_mito'], multi_panel=True, jitter = 0.4)"
   ]
  },
  {
   "cell_type": "code",
   "execution_count": null,
   "metadata": {},
   "outputs": [],
   "source": [
    "#normalize our data (not an internal besca function)\n",
    "sc.pp.normalize_per_cell(adata, counts_per_cell_after=1e4) \n",
    "\n",
    "#log transform normalized UMI-counts (+1 offset) and store as new \"raw\" data\n",
    "adata.raw = sc.pp.log1p(adata, copy=True)"
   ]
  },
  {
   "cell_type": "code",
   "execution_count": null,
   "metadata": {},
   "outputs": [],
   "source": [
    "#export our data\n",
    "bc.export.X_to_mtx(adata=adata, outpath=os.path.join(outdir, 'analyzed', 'ANALYSIS_NAME','normalized_counts', 'cp10k'), write_metadata=True, geneannotation='SYMBOL', additional_geneannotation='ENSEMBL')"
   ]
  },
  {
   "cell_type": "code",
   "execution_count": null,
   "metadata": {},
   "outputs": [],
   "source": [
    "#identify genes with variable expression\n",
    "filter_result = sc.pp.filter_genes_dispersion(adata.X, min_mean = 0.0125, max_mean=5, min_disp = 0.5) \n",
    "sc.pl.filter_genes_dispersion(filter_result)\n",
    "nbr_variable_genes = sum(filter_result.gene_subset)\n",
    "print('number of variable genes selected ', nbr_variable_genes )\n",
    "\n",
    "#apply filter on data\n",
    "adata = adata[:, filter_result.gene_subset]\n",
    "\n",
    "#log transform our data\n",
    "sc.pp.log1p(adata)\n",
    "\n",
    "#regress-out\n",
    "sc.pp.regress_out(adata, ['n_counts', 'percent_mito'])\n",
    "\n",
    "#scale data\n",
    "sc.pp.scale(adata, max_value=10)"
   ]
  },
  {
   "cell_type": "code",
   "execution_count": null,
   "metadata": {},
   "outputs": [],
   "source": [
    "sc.tl.pca(adata, random_state=random_seed, svd_solver='arpack')\n",
    "\n",
    "sc.pp.neighbors(adata, n_neighbors=10, random_state = random_seed)\n",
    "\n",
    "sc.tl.umap(adata, random_state = random_seed)\n",
    "\n",
    "sc.tl.leiden(adata, random_state = random_seed)\n",
    "\n",
    "#plot clusters\n",
    "sc.settings.set_figure_params(dpi=90)\n",
    "sc.pl.umap(adata, color=['leiden'], projection='2d', edgecolor = 'none')\n",
    "\n",
    "#also perform TSNE\n",
    "sc.tl.tsne(adata)\n",
    "sc.pl.tsne(adata, color = ['leiden'])"
   ]
  },
  {
   "cell_type": "code",
   "execution_count": null,
   "metadata": {},
   "outputs": [],
   "source": [
    "#write out regressed counts\n",
    "bc.export.X_to_mtx(adata, outpath=os.path.join(outdir, 'analyzed', 'ANALYSIS_NAME', 'normalized_counts', 'regressedOut'), geneannotation='SYMBOL', write_metadata= True, additional_geneannotation='ENSEMBL')"
   ]
  },
  {
   "cell_type": "code",
   "execution_count": null,
   "metadata": {},
   "outputs": [],
   "source": [
    "#export values saved in .raw\n",
    "#this is an example of how to use this function, in this case we don't need it \n",
    "#bc.export.raw_to_mtx(adata, outpath=os.path.join(outdir, 'analyzed', 'ANALYSIS_NAME', 'normalized_counts', 'regressedOut_raw'), geneannotation='SYMBOL', write_metadata= True, additional_geneannotation='ENSEMBL')"
   ]
  },
  {
   "cell_type": "code",
   "execution_count": null,
   "metadata": {},
   "outputs": [],
   "source": [
    "bc.export.clustering(adata, outpath = os.path.join(outdir,'analyzed', 'ANALYSIS_NAME', 'labelings', 'leiden'))\n",
    "bc.export.labeling_info(outpath=os.path.join(outdir,'analyzed', 'ANALYSIS_NAME', 'labelings', 'leiden'))"
   ]
  },
  {
   "cell_type": "code",
   "execution_count": null,
   "metadata": {},
   "outputs": [],
   "source": [
    "bc.export.analysis_metadata(adata, outpath=os.path.join(outdir,'analyzed', 'ANALYSIS_NAME'), n_pcs= 3, umap=True, tsne=True)"
   ]
  },
  {
   "cell_type": "code",
   "execution_count": null,
   "metadata": {},
   "outputs": [],
   "source": [
    "#marker gene analysis\n",
    "sc.tl.rank_genes_groups(adata, 'leiden', method='wilcoxon', use_raw = True, n_genes = adata.raw.X.shape[1])"
   ]
  },
  {
   "cell_type": "code",
   "execution_count": null,
   "metadata": {},
   "outputs": [],
   "source": [
    "#export rank files\n",
    "bc.export.ranked_genes(adata=adata, outpath=os.path.join(outdir,'analyzed', 'ANALYSIS_NAME', 'labelings', 'leiden'), type='wilcox')"
   ]
  },
  {
   "cell_type": "code",
   "execution_count": null,
   "metadata": {},
   "outputs": [],
   "source": [
    "#plot markers documented in Seurat tutorial to label celltypes\n",
    "sc.pl.umap(adata=adata, color = ['leiden'], edgecolor = 'none')"
   ]
  },
  {
   "cell_type": "code",
   "execution_count": null,
   "metadata": {},
   "outputs": [],
   "source": [
    "new_labels = [\"mixed\", #0\n",
    "              \"mixed\", #1\n",
    "              \"CD14+ monocyte\", #2\n",
    "              \"mixed\", #3\n",
    "              \"B-cell\", #4\n",
    "              \"FCGR3A+ monocyte\", #5\n",
    "              \"mixed\", #6\n",
    "              \"pDC\"] #7\n",
    "\n",
    "bc.tl.annotate_cells_clustering(adata, new_labels, clustering_label = 'leiden')"
   ]
  },
  {
   "cell_type": "code",
   "execution_count": null,
   "metadata": {},
   "outputs": [],
   "source": [
    "#preserve these less well defined labels for some plotting examples later on\n",
    "adata.obs['highlevel_celltype'] = adata.obs.get('celltype').tolist()"
   ]
  },
  {
   "cell_type": "code",
   "execution_count": null,
   "metadata": {},
   "outputs": [],
   "source": [
    "\n",
    "#bc.tl.sig.combined_signature_score(adata=adata, GMT_file= '../besca/datasets/genesets/Immune.gmt', use_raw=True, verbose = False)"
   ]
  },
  {
   "cell_type": "code",
   "execution_count": null,
   "metadata": {},
   "outputs": [],
   "source": [
    "#sc.pl.umap(adata, color= [col for col in adata.obs.columns if 'Bcell'  in col],\n",
    "#      color_map='viridis', projection='2d'\n",
    "#            )"
   ]
  },
  {
   "cell_type": "markdown",
   "metadata": {},
   "source": [
    "# Demonstrate additional BESCA features"
   ]
  },
  {
   "cell_type": "markdown",
   "metadata": {},
   "source": [
    "## reclustering and exporting new celltype annotations:\n",
    "\n",
    "you can choose clusters you wish to subcluster, here in the example 0, 1, 3, 6 since they can't easily be held appart"
   ]
  },
  {
   "cell_type": "code",
   "execution_count": null,
   "metadata": {},
   "outputs": [],
   "source": [
    "adata_subset = bc.tl.rc.recluster(adata, celltype=('0', '1', '3', '6'), celltype_label = 'leiden',\n",
    "                                  resolution = 1.3, method='leiden')"
   ]
  },
  {
   "cell_type": "code",
   "execution_count": null,
   "metadata": {},
   "outputs": [],
   "source": [
    "sc.pl.umap(adata_subset, color = ['leiden', 'CD3G', 'CD8A', 'CD4', 'IL7R', 'NKG7', 'GNLY'])"
   ]
  },
  {
   "cell_type": "code",
   "execution_count": null,
   "metadata": {},
   "outputs": [],
   "source": [
    "adata.obs.head()"
   ]
  },
  {
   "cell_type": "code",
   "execution_count": null,
   "metadata": {},
   "outputs": [],
   "source": [
    "new_labels = [\"CD4 T-cell\", #0\n",
    "              \"CD4 T-cell\", #1\n",
    "              \"NK cell\", #2\n",
    "              \"CD8 T-cell\", #3\n",
    "              \"CD8 T-cell\", #4\n",
    "              \"CD8 T-cell\", #5\n",
    "              \"CD4 T-cell\",#6\n",
    "              \"CD8 T-cell\", #7\n",
    "              \"CD4 T-cell\", #8\n",
    "              \"CD4 T-cell\", #9\n",
    "              \"CD4 T-cell\", #10\n",
    "              \"CD4 T-cell\",#11\n",
    "              \"CD4 T-cell\",#12\n",
    "              \"CD4 T-cell\", #13\n",
    "             ]\n",
    "\n",
    "## for demonstration purposes, we make sure that the new labels are always\n",
    "## the same long as the old labels\n",
    "old_labels = adata_subset.obs.get(\"leiden\").value_counts().index.tolist()\n",
    "if len(new_labels)>len(old_labels):\n",
    "    new_labels = new_labels[:len(old_labels)]\n",
    "elif len(new_labels)<len(old_labels):\n",
    "    new_labels.extend([\"CD4 T-cell\"]*(len(old_labels)-len(new_labels)))"
   ]
  },
  {
   "cell_type": "code",
   "execution_count": null,
   "metadata": {},
   "outputs": [],
   "source": [
    "bc.tl.rc.annotate_new_cellnames(adata, adata_subset, names=new_labels, method='leiden')"
   ]
  },
  {
   "cell_type": "code",
   "execution_count": null,
   "metadata": {},
   "outputs": [],
   "source": [
    "adata.obs.head()"
   ]
  },
  {
   "cell_type": "code",
   "execution_count": null,
   "metadata": {},
   "outputs": [],
   "source": [
    "adata.obs.celltype.value_counts()"
   ]
  },
  {
   "cell_type": "code",
   "execution_count": null,
   "metadata": {},
   "outputs": [],
   "source": [
    "#export celltypes\n",
    "bc.export.labeling(adata=adata, outpath = os.path.join(outdir,'analyzed', 'ANALYSIS_NAME', 'labelings', 'celltype'), column='celltype')\n",
    "bc.export.labeling_info(outpath = os.path.join(outdir,'analyzed', 'ANALYSIS_NAME', 'labelings', 'celltype'), method='manual celltype annotation based on marker expression', annotated_version_of='leiden', expert=True,default=False, public=False, reference=True, description='manual celltype annotation based on the expression of marker genes')"
   ]
  },
  {
   "cell_type": "markdown",
   "metadata": {},
   "source": [
    "## Adding an already done labeling into your adata object"
   ]
  },
  {
   "cell_type": "code",
   "execution_count": null,
   "metadata": {},
   "outputs": [],
   "source": [
    "#note many of the entries in celltype will be named not labeled since they were filtered out before the proper labeling was performed\n",
    "adata = bc.datasets.pbmc3k_raw()\n",
    "adata.obs.head()"
   ]
  },
  {
   "cell_type": "code",
   "execution_count": null,
   "metadata": {},
   "outputs": [],
   "source": [
    "bc.Import.add_cell_labeling(adata, os.path.join(outdir,'analyzed', 'ANALYSIS_NAME', 'labelings', 'celltype'), label='celltype')"
   ]
  },
  {
   "cell_type": "code",
   "execution_count": null,
   "metadata": {},
   "outputs": [],
   "source": [
    "adata.obs.head()"
   ]
  },
  {
   "cell_type": "markdown",
   "metadata": {},
   "source": [
    "# Testing with PMBC raw dataset"
   ]
  },
  {
   "cell_type": "code",
   "execution_count": null,
   "metadata": {},
   "outputs": [],
   "source": [
    "adata = bc.datasets.pbmc3k_raw()"
   ]
  },
  {
   "cell_type": "code",
   "execution_count": null,
   "metadata": {},
   "outputs": [],
   "source": [
    "#define thresholds\n",
    "min_genes = 600\n",
    "min_cells = 2\n",
    "min_UMI = 1600\n",
    "max_UMI = 15000\n",
    "max_mito = 0.15\n",
    "max_genes = 3000\n",
    "\n",
    "#define outdir\n",
    "outdir = '../besca_test/pbmc_storage/'\n",
    "#set randomseed\n",
    "random_seed = 0"
   ]
  },
  {
   "cell_type": "code",
   "execution_count": null,
   "metadata": {},
   "outputs": [],
   "source": [
    "#visualize filtering thresholds\n",
    "fig, ((ax1, ax2, ax3), (ax4, ax5, ax6))= plt.subplots(ncols=3, nrows=2)\n",
    "fig.set_figwidth(15)\n",
    "fig.set_figheight(8)\n",
    "fig.tight_layout(pad=4.5)\n",
    "\n",
    "bc.pl.kp_genes(adata, min_genes=min_genes, ax = ax1)\n",
    "bc.pl.kp_cells(adata, min_cells=min_cells, ax = ax2)\n",
    "bc.pl.kp_counts(adata, min_counts=min_UMI, ax = ax3)\n",
    "bc.pl.max_counts(adata, max_counts=max_UMI, ax = ax4)\n",
    "bc.pl.max_mito(adata, max_mito=max_mito, annotation_type='SYMBOL', species='human', ax = ax5)\n",
    "bc.pl.max_genes(adata, max_genes=max_genes)"
   ]
  },
  {
   "cell_type": "code",
   "execution_count": null,
   "metadata": {},
   "outputs": [],
   "source": [
    "#perform filtering of the thresholds\n",
    "adata = bc.pp.filter(adata, max_counts=max_UMI, max_genes=max_genes, max_mito=max_mito,min_genes=min_genes, min_counts=min_UMI, min_cells=min_cells)"
   ]
  },
  {
   "cell_type": "code",
   "execution_count": null,
   "metadata": {},
   "outputs": [],
   "source": [
    "sc.pl.violin(adata, ['n_counts', 'n_genes', 'percent_mito'], multi_panel=True, jitter = 0.4)"
   ]
  },
  {
   "cell_type": "code",
   "execution_count": null,
   "metadata": {},
   "outputs": [],
   "source": [
    "#normalize our data (not an internal besca function)\n",
    "sc.pp.normalize_per_cell(adata, counts_per_cell_after=1e4) \n",
    "\n",
    "#log transform normalized UMI-counts (+1 offset) and store as new \"raw\" data\n",
    "adata.raw = sc.pp.log1p(adata, copy=True)"
   ]
  },
  {
   "cell_type": "code",
   "execution_count": null,
   "metadata": {},
   "outputs": [],
   "source": [
    "#export our data\n",
    "bc.export.X_to_mtx(adata=adata, outpath=os.path.join(outdir, 'analyzed', 'ANALYSIS_NAME','normalized_counts', 'cp10k'), write_metadata=True, geneannotation='SYMBOL', additional_geneannotation='ENSEMBL')"
   ]
  },
  {
   "cell_type": "code",
   "execution_count": null,
   "metadata": {},
   "outputs": [],
   "source": [
    "#identify genes with variable expression\n",
    "filter_result = sc.pp.filter_genes_dispersion(adata.X, min_mean = 0.0125, max_mean=5, min_disp = 0.5) \n",
    "sc.pl.filter_genes_dispersion(filter_result)\n",
    "nbr_variable_genes = sum(filter_result.gene_subset)\n",
    "print('number of variable genes selected ', nbr_variable_genes )\n",
    "\n",
    "#apply filter on data\n",
    "adata = adata[:, filter_result.gene_subset]\n",
    "\n",
    "#log transform our data\n",
    "sc.pp.log1p(adata)\n",
    "\n",
    "#regress-out\n",
    "sc.pp.regress_out(adata, ['n_counts', 'percent_mito'])\n",
    "\n",
    "#scale data\n",
    "sc.pp.scale(adata, max_value=10)"
   ]
  },
  {
   "cell_type": "code",
   "execution_count": null,
   "metadata": {},
   "outputs": [],
   "source": [
    "sc.tl.pca(adata, random_state=random_seed, svd_solver='arpack')\n",
    "\n",
    "sc.pp.neighbors(adata, n_neighbors=10, random_state = random_seed)\n",
    "\n",
    "sc.tl.umap(adata, random_state = random_seed)\n",
    "\n",
    "sc.tl.leiden(adata, random_state = random_seed)\n",
    "\n",
    "#plot clusters\n",
    "sc.settings.set_figure_params(dpi=90)\n",
    "sc.pl.umap(adata, color=['leiden'], projection='2d', edgecolor = 'none')\n",
    "\n",
    "#also perform TSNE\n",
    "sc.tl.tsne(adata)\n",
    "sc.pl.tsne(adata, color = ['leiden'])"
   ]
  },
  {
   "cell_type": "code",
   "execution_count": null,
   "metadata": {},
   "outputs": [],
   "source": [
    "#write out regressed counts\n",
    "# THIS IS SLOW\n",
    "bc.export.X_to_mtx(adata, outpath=os.path.join(outdir, 'analyzed', 'ANALYSIS_NAME', 'normalized_counts', 'regressedOut'), geneannotation='SYMBOL', write_metadata= True, additional_geneannotation='ENSEMBL')"
   ]
  },
  {
   "cell_type": "code",
   "execution_count": null,
   "metadata": {},
   "outputs": [],
   "source": [
    "#export values saved in .raw\n",
    "#this is an example of how to use this function, in this case we don't need it \n",
    "#bc.export.raw_to_mtx(adata, outpath=os.path.join(outdir, 'analyzed', 'ANALYSIS_NAME', 'normalized_counts', 'regressedOut_raw'), geneannotation='SYMBOL', write_metadata= True, additional_geneannotation='ENSEMBL')"
   ]
  },
  {
   "cell_type": "code",
   "execution_count": null,
   "metadata": {},
   "outputs": [],
   "source": [
    "bc.export.clustering(adata, outpath = os.path.join(outdir,'analyzed', 'ANALYSIS_NAME', 'labelings', 'leiden'))\n",
    "bc.export.labeling_info(outpath=os.path.join(outdir,'analyzed', 'ANALYSIS_NAME', 'labelings', 'leiden'))"
   ]
  },
  {
   "cell_type": "code",
   "execution_count": null,
   "metadata": {},
   "outputs": [],
   "source": [
    "bc.export.analysis_metadata(adata, outpath=os.path.join(outdir,'analyzed', 'ANALYSIS_NAME'), n_pcs= 3, umap=True, tsne=True)"
   ]
  },
  {
   "cell_type": "code",
   "execution_count": null,
   "metadata": {},
   "outputs": [],
   "source": [
    "#marker gene analysis\n",
    "sc.tl.rank_genes_groups(adata, 'leiden', method='wilcoxon', use_raw = True, n_genes = adata.raw.X.shape[1])"
   ]
  },
  {
   "cell_type": "code",
   "execution_count": null,
   "metadata": {},
   "outputs": [],
   "source": [
    "#export rank files\n",
    "bc.export.ranked_genes(adata=adata, outpath=os.path.join(outdir,'analyzed', 'ANALYSIS_NAME', 'labelings', 'leiden'), type='wilcox')"
   ]
  },
  {
   "cell_type": "code",
   "execution_count": null,
   "metadata": {},
   "outputs": [],
   "source": [
    "#plot markers documented in Seurat tutorial to label celltypes\n",
    "sc.pl.umap(adata=adata, color = ['leiden'], edgecolor = 'none')"
   ]
  },
  {
   "cell_type": "markdown",
   "metadata": {},
   "source": [
    "## Counting occurrences of labels and have matching colors with the UMAP."
   ]
  },
  {
   "cell_type": "code",
   "execution_count": null,
   "metadata": {},
   "outputs": [],
   "source": [
    "#generate a count table of the chosen count_variable\n",
    "counts = bc.tl.count_occurrence(adata=adata, count_variable='leiden', add_percentage=True)\n",
    "display(counts)"
   ]
  },
  {
   "cell_type": "code",
   "execution_count": null,
   "metadata": {},
   "outputs": [],
   "source": [
    "ncolors = ( counts.shape)[0]"
   ]
  },
  {
   "cell_type": "code",
   "execution_count": null,
   "metadata": {},
   "outputs": [],
   "source": [
    "import seaborn as sns\n",
    "#generate a basic bar plot of the table above with customed palette\n",
    "current_palette ={str(i): sns.color_palette('colorblind', ncolors)[i] for i in range(ncolors)}\n",
    "fig = plt.figure(figsize=(15, 6))\n",
    "\n",
    "ax1 = fig.add_subplot(1, 2, 1)\n",
    "ax1 = sns.barplot(data=counts, x=counts.index.tolist(), y='Counts', palette = current_palette)\n",
    "plt.xticks(rotation=90)\n",
    "\n",
    "ax2 = fig.add_subplot(1, 2, 2)\n",
    "ax2 = sns.barplot(data=counts, x=counts.index.tolist(), y='Percentage', palette = current_palette)\n",
    "plt.xticks(rotation=90)\n"
   ]
  },
  {
   "cell_type": "code",
   "execution_count": null,
   "metadata": {},
   "outputs": [],
   "source": [
    "# Matching those with the UMAP colors\n",
    "bc.pl.update_qualitative_palette( adata, palette=current_palette, group = 'leiden', checkColors=True)\n",
    "#plot markers documented in Seurat tutorial to label celltypes\n",
    "sc.pl.umap(adata=adata, color = ['leiden'], edgecolor = 'none')"
   ]
  },
  {
   "cell_type": "code",
   "execution_count": null,
   "metadata": {},
   "outputs": [],
   "source": [
    "adata"
   ]
  },
  {
   "cell_type": "code",
   "execution_count": null,
   "metadata": {},
   "outputs": [],
   "source": [
    "from random import choices\n",
    "adata.obs[\"storage_condition\"] = choices(['condition1', 'condition2'], k=len(adata.obs))\n",
    "adata.obs[\"storage_condition\"] = adata.obs[\"storage_condition\"].astype(\"category\")"
   ]
  },
  {
   "cell_type": "code",
   "execution_count": null,
   "metadata": {},
   "outputs": [],
   "source": [
    "# compare counts between two 'conditions' and output as a classic dataframe\n",
    "(DF) = bc.tl.count_occurrence_subset_conditions(adata=adata,\n",
    "                                                                subset_variable= 'storage_condition',\n",
    "                                                                condition_identifier='storage_condition',\n",
    "                                                                count_variable='leiden',\n",
    "                                                                return_percentage=True)\n",
    "display(DF)"
   ]
  },
  {
   "cell_type": "code",
   "execution_count": null,
   "metadata": {},
   "outputs": [],
   "source": [
    "adata.obs.head()"
   ]
  },
  {
   "cell_type": "code",
   "execution_count": null,
   "metadata": {},
   "outputs": [],
   "source": [
    "bc.pl.celllabel_quant_boxplot(adata, subset_variable='storage_condition', count_variable = 'leiden', condition_identifier='storage_condition')#, save_fig = False);"
   ]
  },
  {
   "cell_type": "markdown",
   "metadata": {},
   "source": [
    "# Split gene expression plots"
   ]
  },
  {
   "cell_type": "code",
   "execution_count": null,
   "metadata": {},
   "outputs": [],
   "source": [
    "adata = bc.datasets.pbmc3k_filtered()\n",
    "# Split gene expression plots can only handle two conditions.\n",
    "adata.obs[\"storage_condition\"] = choices(['condition1', 'condition2'], k=len(adata.obs))\n",
    "adata.obs[\"storage_condition\"] = adata.obs[\"storage_condition\"].astype(\"category\")\n",
    "adata_subset = adata"
   ]
  },
  {
   "cell_type": "code",
   "execution_count": null,
   "metadata": {},
   "outputs": [],
   "source": [
    "bc.pl.gene_expr_split(adata_subset, genes = ['RPS26'], split_variable= 'storage_condition')"
   ]
  },
  {
   "cell_type": "code",
   "execution_count": null,
   "metadata": {},
   "outputs": [],
   "source": [
    "bc.pl.gene_expr_split(adata_subset, genes = ['RPS26', 'RPS4X'], split_variable= 'storage_condition')#, #group_variable = 'condition', \n",
    "                      #split_variable='condition')"
   ]
  },
  {
   "cell_type": "code",
   "execution_count": null,
   "metadata": {},
   "outputs": [],
   "source": [
    "bc.pl.gene_expr_split(adata_subset,\n",
    "                      genes = ['RPS26', 'RPS4X'], \n",
    "                      label_split_variable= 'condition', \n",
    "                     split_variable= 'storage_condition')"
   ]
  },
  {
   "cell_type": "markdown",
   "metadata": {},
   "source": [
    "# Helper function:\n",
    "\n",
    "## Conversion\n",
    "\n",
    "From symbol to ensembl and vice-versa."
   ]
  },
  {
   "cell_type": "code",
   "execution_count": null,
   "metadata": {},
   "outputs": [],
   "source": [
    "bc.convert_symbol_to_ensembl( ['KRAS', 'MAP4K1'])"
   ]
  },
  {
   "cell_type": "code",
   "execution_count": null,
   "metadata": {},
   "outputs": [],
   "source": [
    "bc.convert_ensembl_to_symbol([ 'ENSG00000104814', 'ENSG00000282928' ])"
   ]
  }
 ],
 "metadata": {
  "kernelspec": {
   "display_name": "besca_dev",
   "language": "python",
   "name": "besca_dev"
  },
  "language_info": {
   "codemirror_mode": {
    "name": "ipython",
    "version": 3
   },
   "file_extension": ".py",
   "mimetype": "text/x-python",
   "name": "python",
   "nbconvert_exporter": "python",
   "pygments_lexer": "ipython3",
   "version": "3.7.1"
  }
 },
 "nbformat": 4,
 "nbformat_minor": 4
}
